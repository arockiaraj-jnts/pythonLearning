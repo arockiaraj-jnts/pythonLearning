{
 "cells": [
  {
   "cell_type": "markdown",
   "id": "0830806e-cfa2-4402-806d-fda332c03425",
   "metadata": {},
   "source": [
    "# If ... Else"
   ]
  },
  {
   "cell_type": "markdown",
   "id": "d4c049da-2957-4b58-9dcc-53a2859f89e4",
   "metadata": {},
   "source": [
    "Python supports the usual logical conditions from mathematics:\n",
    "\n",
    "    Equals: a == b\n",
    "    Not Equals: a != b\n",
    "    Less than: a < b\n",
    "    Less than or equal to: a <= b\n",
    "    Greater than: a > b\n",
    "    Greater than or equal to: a >= b\n",
    "\n",
    "These conditions can be used in several ways, most commonly in \"if statements\" and loops.\n",
    "\n",
    "An \"if statement\" is written by using the if keyword."
   ]
  },
  {
   "cell_type": "code",
   "execution_count": 1,
   "id": "03952c52-0d83-4d80-923c-c79f00b47c0d",
   "metadata": {},
   "outputs": [
    {
     "name": "stdout",
     "output_type": "stream",
     "text": [
      "b is greater than a\n"
     ]
    }
   ],
   "source": [
    "a = 33\n",
    "b = 200\n",
    "if b > a:\n",
    "  print(\"b is greater than a\")"
   ]
  },
  {
   "cell_type": "markdown",
   "id": "e34a72a4-60ad-4fc4-af7c-1d5eb54d2e93",
   "metadata": {},
   "source": [
    "#### Indentation"
   ]
  },
  {
   "cell_type": "markdown",
   "id": "15ae9b8c-fef3-4904-bd8d-1242b0c9ee45",
   "metadata": {},
   "source": [
    "Python relies on indentation (whitespace at the beginning of a line) to define scope in the code. Other programming languages often use curly-brackets for this purpose. "
   ]
  },
  {
   "cell_type": "code",
   "execution_count": 2,
   "id": "54f31efa-018d-4df7-9a0f-d84311417249",
   "metadata": {},
   "outputs": [
    {
     "ename": "IndentationError",
     "evalue": "expected an indented block (1708894063.py, line 4)",
     "output_type": "error",
     "traceback": [
      "\u001b[0;36m  Cell \u001b[0;32mIn[2], line 4\u001b[0;36m\u001b[0m\n\u001b[0;31m    print(\"b is greater than a\") # you will get an error\u001b[0m\n\u001b[0m    ^\u001b[0m\n\u001b[0;31mIndentationError\u001b[0m\u001b[0;31m:\u001b[0m expected an indented block\n"
     ]
    }
   ],
   "source": [
    "a = 33\n",
    "b = 200\n",
    "if b > a:\n",
    "print(\"b is greater than a\") # you will get an error "
   ]
  },
  {
   "cell_type": "markdown",
   "id": "7e876240-5be1-43a9-9509-343ed912207c",
   "metadata": {},
   "source": [
    "#### Elif\n",
    "\n",
    "The elif keyword is Python's way of saying \"if the previous conditions were not true, then try this condition\".\n"
   ]
  },
  {
   "cell_type": "markdown",
   "id": "0877f6e2-4121-4409-86af-d7f06ad0ab42",
   "metadata": {},
   "source": [
    "#### Else\n",
    "\n",
    "The else keyword catches anything which isn't caught by the preceding conditions.\n"
   ]
  },
  {
   "cell_type": "markdown",
   "id": "2e90cf0f-96c1-45ac-a325-cdf39d3c5911",
   "metadata": {},
   "source": [
    "You can also have an else without the elif:"
   ]
  },
  {
   "cell_type": "code",
   "execution_count": 3,
   "id": "101d9902-a374-4928-97dc-e2c7c20d8e81",
   "metadata": {},
   "outputs": [
    {
     "name": "stdout",
     "output_type": "stream",
     "text": [
      "b is not greater than a\n"
     ]
    }
   ],
   "source": [
    "a = 200\n",
    "b = 33\n",
    "if b > a:\n",
    "  print(\"b is greater than a\")\n",
    "else:\n",
    "  print(\"b is not greater than a\")"
   ]
  },
  {
   "cell_type": "markdown",
   "id": "524ca1fd-ed3c-4d74-8d8e-69bd40db566e",
   "metadata": {},
   "source": [
    "#### Short Hand If\n",
    "\n",
    "If you have only one statement to execute, you can put it on the same line as the if statement."
   ]
  },
  {
   "cell_type": "code",
   "execution_count": 4,
   "id": "ba821c30-8fd0-41ec-a888-846c95d470a4",
   "metadata": {},
   "outputs": [
    {
     "name": "stdout",
     "output_type": "stream",
     "text": [
      "a is greater than b\n"
     ]
    }
   ],
   "source": [
    "if a > b: print(\"a is greater than b\")"
   ]
  },
  {
   "cell_type": "markdown",
   "id": "76d73a27-9575-4fa4-b3d9-d4429452f91d",
   "metadata": {},
   "source": [
    "#### Short Hand If ... Else\n",
    "\n",
    "If you have only one statement to execute, one for if, and one for else, you can put it all on the same line:\n"
   ]
  },
  {
   "cell_type": "code",
   "execution_count": 5,
   "id": "10b61f72-b639-4821-ac00-80ae53b4ee14",
   "metadata": {},
   "outputs": [
    {
     "name": "stdout",
     "output_type": "stream",
     "text": [
      "B\n"
     ]
    }
   ],
   "source": [
    "a = 2\n",
    "b = 330\n",
    "print(\"A\") if a > b else print(\"B\") "
   ]
  },
  {
   "cell_type": "markdown",
   "id": "6aa520e3-4814-4ccc-b501-f3349fe433d0",
   "metadata": {},
   "source": [
    "**This technique is known as Ternary Operators, or Conditional Expressions.**"
   ]
  },
  {
   "cell_type": "markdown",
   "id": "7b4aedd7-7d4f-4ae2-8db3-9620389aae43",
   "metadata": {},
   "source": [
    "You can also have multiple else statements on the same line:"
   ]
  },
  {
   "cell_type": "code",
   "execution_count": 6,
   "id": "47a8954a-e235-4de9-98c3-c3b0ae58f0d9",
   "metadata": {},
   "outputs": [
    {
     "name": "stdout",
     "output_type": "stream",
     "text": [
      "=\n"
     ]
    }
   ],
   "source": [
    "a = 330\n",
    "b = 330\n",
    "print(\"A\") if a > b else print(\"=\") if a == b else print(\"B\") "
   ]
  },
  {
   "cell_type": "markdown",
   "id": "cfbaa035-218f-4678-84e4-ed0aed816db1",
   "metadata": {},
   "source": [
    "#### And\n",
    "\n",
    "The and keyword is a logical operator, and is used to combine conditional statements:"
   ]
  },
  {
   "cell_type": "code",
   "execution_count": 7,
   "id": "8fc498d6-fcc2-430a-9767-f0ae168ad6ba",
   "metadata": {},
   "outputs": [
    {
     "name": "stdout",
     "output_type": "stream",
     "text": [
      "Both conditions are True\n"
     ]
    }
   ],
   "source": [
    "a = 200\n",
    "b = 33\n",
    "c = 500\n",
    "if a > b and c > a:\n",
    "  print(\"Both conditions are True\")"
   ]
  },
  {
   "cell_type": "markdown",
   "id": "74603dc7-a64e-4fec-9e8c-4df409096a03",
   "metadata": {},
   "source": [
    "#### Or\n",
    "\n",
    "The or keyword is a logical operator, and is used to combine conditional statements:"
   ]
  },
  {
   "cell_type": "code",
   "execution_count": 8,
   "id": "65c82575-b7b9-4f26-87d4-8786f5823fee",
   "metadata": {},
   "outputs": [
    {
     "name": "stdout",
     "output_type": "stream",
     "text": [
      "At least one of the conditions is True\n"
     ]
    }
   ],
   "source": [
    "a = 200\n",
    "b = 33\n",
    "c = 500\n",
    "if a > b or a > c:\n",
    "  print(\"At least one of the conditions is True\")"
   ]
  },
  {
   "cell_type": "markdown",
   "id": "c9707e25-2956-43df-b1f7-9d7cca4af0f0",
   "metadata": {},
   "source": [
    "#### Not\n",
    "\n",
    "The not keyword is a logical operator, and is used to reverse the result of the conditional statement:"
   ]
  },
  {
   "cell_type": "code",
   "execution_count": 9,
   "id": "662ca469-96ef-43a7-905e-1ccbd63259bd",
   "metadata": {},
   "outputs": [
    {
     "name": "stdout",
     "output_type": "stream",
     "text": [
      "a is NOT greater than b\n"
     ]
    }
   ],
   "source": [
    "a = 33\n",
    "b = 200\n",
    "if not a > b:\n",
    "  print(\"a is NOT greater than b\")"
   ]
  },
  {
   "cell_type": "markdown",
   "id": "5a02bd93-6e40-41c4-afd4-baad14ad358f",
   "metadata": {},
   "source": [
    "#### Nested If\n",
    "\n",
    "You can have if statements inside if statements, this is called nested if statements."
   ]
  },
  {
   "cell_type": "code",
   "execution_count": 14,
   "id": "638be0ab-efec-42ac-8863-399b0a5398c0",
   "metadata": {},
   "outputs": [
    {
     "name": "stdout",
     "output_type": "stream",
     "text": [
      "Above ten,\n",
      "Above ten,\n",
      "and also above 20!\n"
     ]
    }
   ],
   "source": [
    "x = 41\n",
    "\n",
    "if x > 10:\n",
    "  print(\"Above ten,\")\n",
    "  #print(\"Above ten,\")\n",
    "  if x > 20:\n",
    "    print(\"and also above 20!\")\n",
    "  else:\n",
    "    print(\"but not above 20.\") "
   ]
  },
  {
   "cell_type": "markdown",
   "id": "f4ec34c9-ae52-49d8-9d81-65cc05b9736e",
   "metadata": {},
   "source": [
    "#### The pass Statement\n",
    "\n",
    "if statements cannot be empty, but if you for some reason have an if statement with no content, put in the pass statement to avoid getting an error."
   ]
  },
  {
   "cell_type": "code",
   "execution_count": 15,
   "id": "24add9f3-7efa-4705-ad90-a1cb9290a7a4",
   "metadata": {},
   "outputs": [],
   "source": [
    "a = 33\n",
    "b = 200\n",
    "\n",
    "if b > a:\n",
    "  pass"
   ]
  },
  {
   "cell_type": "markdown",
   "id": "bd9df889-7f84-4cdc-9b0d-c413c756b382",
   "metadata": {},
   "source": [
    "#### Match\n",
    "\n",
    "Instead of writing many if..else statements, you can use the match statement.\n",
    "\n",
    "The match statement selects one of many code blocks to be executed.\n"
   ]
  },
  {
   "cell_type": "code",
   "execution_count": null,
   "id": "5040f0f4-c0b4-4786-889c-161043a2fce6",
   "metadata": {},
   "outputs": [],
   "source": [
    "match expression:\n",
    "  case x:\n",
    "    code block\n",
    "  case y:\n",
    "    code block\n",
    "  case z:\n",
    "    code block "
   ]
  },
  {
   "cell_type": "markdown",
   "id": "ce48c747-d2ae-4c09-9853-d36be31ae2a0",
   "metadata": {},
   "source": [
    "This is how it works:\n",
    "\n",
    "    The match expression is evaluated once.\n",
    "    The value of the expression is compared with the values of each case.\n",
    "    If there is a match, the associated block of code is executed.\n",
    "\n",
    "The example below uses the weekday number to print the weekday name:"
   ]
  },
  {
   "cell_type": "code",
   "execution_count": 17,
   "id": "6f0bd759-5f76-4201-9920-5700dc6548cb",
   "metadata": {},
   "outputs": [
    {
     "ename": "SyntaxError",
     "evalue": "invalid syntax (2221517983.py, line 2)",
     "output_type": "error",
     "traceback": [
      "\u001b[0;36m  Cell \u001b[0;32mIn[17], line 2\u001b[0;36m\u001b[0m\n\u001b[0;31m    match day:\u001b[0m\n\u001b[0m          ^\u001b[0m\n\u001b[0;31mSyntaxError\u001b[0m\u001b[0;31m:\u001b[0m invalid syntax\n"
     ]
    }
   ],
   "source": [
    "day = 4\n",
    "match day:\n",
    "  case 1:\n",
    "    print(\"Monday\")\n",
    "  case 2:\n",
    "    print(\"Tuesday\")\n",
    "  case 3:\n",
    "    print(\"Wednesday\")\n",
    "  case 4:\n",
    "    print(\"Thursday\")\n",
    "  case 5:\n",
    "    print(\"Friday\")\n",
    "  case 6:\n",
    "    print(\"Saturday\")\n",
    "  case 7:\n",
    "    print(\"Sunday\")"
   ]
  },
  {
   "cell_type": "markdown",
   "id": "e04db8b4-2b8f-4513-9490-afd8ce488baa",
   "metadata": {},
   "source": [
    "This error because of version. match and case statements are only available in Python 3.10 and later. If you're using Python 3.9 or earlier, you'll get a SyntaxError."
   ]
  },
  {
   "cell_type": "markdown",
   "id": "a5e4286e-b3dd-4df7-b0a4-07d0292c4c9f",
   "metadata": {},
   "source": [
    "#### Default Value\n",
    "\n",
    "Use the underscore character _ as the last case value if you want a code block to execute when there are not other matches:\n"
   ]
  },
  {
   "cell_type": "markdown",
   "id": "51825503-7b04-444c-b54d-3e6d157e50bf",
   "metadata": {},
   "source": [
    "#### Default Value\n",
    "\n",
    "Use the underscore character _ as the last case value if you want a code block to execute when there are not other matches:\n"
   ]
  },
  {
   "cell_type": "code",
   "execution_count": null,
   "id": "04fa7bc7-442b-497e-bb9d-8303b9a1fa81",
   "metadata": {},
   "outputs": [],
   "source": [
    "day = 4\n",
    "match day:\n",
    "  case 6:\n",
    "    print(\"Today is Saturday\")\n",
    "  case 7:\n",
    "    print(\"Today is Sunday\")\n",
    "  case _:\n",
    "    print(\"Looking forward to the Weekend\")"
   ]
  }
 ],
 "metadata": {
  "kernelspec": {
   "display_name": "Python 3 (ipykernel)",
   "language": "python",
   "name": "python3"
  },
  "language_info": {
   "codemirror_mode": {
    "name": "ipython",
    "version": 3
   },
   "file_extension": ".py",
   "mimetype": "text/x-python",
   "name": "python",
   "nbconvert_exporter": "python",
   "pygments_lexer": "ipython3",
   "version": "3.8.10"
  }
 },
 "nbformat": 4,
 "nbformat_minor": 5
}

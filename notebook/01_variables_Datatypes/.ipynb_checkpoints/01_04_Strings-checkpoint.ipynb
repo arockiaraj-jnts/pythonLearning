{
 "cells": [
  {
   "cell_type": "markdown",
   "id": "4db40369-7826-498a-8ffa-a365839d557a",
   "metadata": {},
   "source": [
    "# Strings\n"
   ]
  },
  {
   "cell_type": "markdown",
   "id": "5392d206-164f-4c66-934e-ef2a37b8648e",
   "metadata": {},
   "source": [
    "Strings in python are surrounded by either single quotation marks, or double quotation marks.\n",
    "\n",
    "'hello' is the same as \"hello\".\n",
    "\n",
    "You can display a string literal with the print() function:"
   ]
  },
  {
   "cell_type": "markdown",
   "id": "8185d7b9-4571-4d4b-b090-46a3ac87cbb7",
   "metadata": {},
   "source": [
    "#### Quotes Inside Quotes\n",
    "\n",
    "You can use quotes inside a string, as long as they don't match the quotes surrounding the string:"
   ]
  },
  {
   "cell_type": "markdown",
   "id": "cf1b70ba-2003-482c-a854-e3a66b4852f7",
   "metadata": {},
   "source": [
    "#### Assign String to a Variable\n",
    "\n",
    "Assigning a string to a variable is done with the variable name followed by an equal sign and the string:\n"
   ]
  },
  {
   "cell_type": "code",
   "execution_count": 1,
   "id": "5daa9bde-d9ae-4bb0-a5d4-0b116c4af8a1",
   "metadata": {},
   "outputs": [
    {
     "name": "stdout",
     "output_type": "stream",
     "text": [
      "Hello\n"
     ]
    }
   ],
   "source": [
    "\n",
    "a = \"Hello\"\n",
    "print(a) "
   ]
  },
  {
   "cell_type": "markdown",
   "id": "5d67242c-ca5b-473b-bdd2-519bf1cf01cd",
   "metadata": {},
   "source": [
    "#### Multiline Strings\n",
    "\n",
    "You can assign a multiline string to a variable by using three quotes:"
   ]
  },
  {
   "cell_type": "code",
   "execution_count": 2,
   "id": "5daf73f1-7245-4b9a-850d-587b1f04db0d",
   "metadata": {},
   "outputs": [
    {
     "name": "stdout",
     "output_type": "stream",
     "text": [
      "Lorem ipsum dolor sit amet,\n",
      "consectetur adipiscing elit,\n",
      "sed do eiusmod tempor incididunt\n",
      "ut labore et dolore magna aliqua.\n"
     ]
    }
   ],
   "source": [
    "#You can use three double quotes:\n",
    "a = \"\"\"Lorem ipsum dolor sit amet,\n",
    "consectetur adipiscing elit,\n",
    "sed do eiusmod tempor incididunt\n",
    "ut labore et dolore magna aliqua.\"\"\"\n",
    "print(a) "
   ]
  },
  {
   "cell_type": "code",
   "execution_count": 3,
   "id": "c3d02421-a976-4a2b-9ad9-3d9cf8c0be2a",
   "metadata": {},
   "outputs": [
    {
     "data": {
      "text/plain": [
       "'Lorem ipsum dolor sit amet,\\nconsectetur adipiscing elit,\\nsed do eiusmod tempor incididunt\\nut labore et dolore magna aliqua.'"
      ]
     },
     "execution_count": 3,
     "metadata": {},
     "output_type": "execute_result"
    }
   ],
   "source": [
    "a"
   ]
  },
  {
   "cell_type": "markdown",
   "id": "cb541bc8-4488-4311-8f39-cbf39b7c86fc",
   "metadata": {},
   "source": [
    "###### in the result, the line breaks are inserted at the same position as in the code."
   ]
  },
  {
   "cell_type": "markdown",
   "id": "3649c12e-2a13-4364-919f-cf4320c2fb18",
   "metadata": {},
   "source": [
    "#### Strings are Arrays"
   ]
  },
  {
   "cell_type": "code",
   "execution_count": 4,
   "id": "d8d4255e-0947-4ed1-88ab-63a4a0bb0bc5",
   "metadata": {},
   "outputs": [
    {
     "name": "stdout",
     "output_type": "stream",
     "text": [
      "e\n"
     ]
    }
   ],
   "source": [
    "a = \"Hello, World!\"\n",
    "print(a[1])"
   ]
  },
  {
   "cell_type": "markdown",
   "id": "3decb5f6-4930-4ee3-a44e-fdaac582470a",
   "metadata": {},
   "source": [
    "Looping Through a String\n",
    "\n",
    "Since strings are arrays, we can loop through the characters in a string, with a for loop."
   ]
  },
  {
   "cell_type": "code",
   "execution_count": 5,
   "id": "d2069c0a-6697-4f72-9df5-c3e360f14164",
   "metadata": {},
   "outputs": [
    {
     "name": "stdout",
     "output_type": "stream",
     "text": [
      "b\n",
      "a\n",
      "n\n",
      "a\n",
      "n\n",
      "a\n"
     ]
    }
   ],
   "source": [
    "for x in \"banana\":\n",
    "  print(x)"
   ]
  },
  {
   "cell_type": "markdown",
   "id": "9b8e07c1-6674-4d33-8e20-746f2bd24b0b",
   "metadata": {},
   "source": [
    "##### String Length\n",
    "\n",
    "To get the length of a string, use the len() function."
   ]
  },
  {
   "cell_type": "code",
   "execution_count": 6,
   "id": "c0b566b7-956d-4d2b-9e90-b08a583b2390",
   "metadata": {},
   "outputs": [
    {
     "name": "stdout",
     "output_type": "stream",
     "text": [
      "13\n"
     ]
    }
   ],
   "source": [
    "a = \"Hello, World!\"\n",
    "print(len(a))"
   ]
  },
  {
   "cell_type": "markdown",
   "id": "78c10963-3fff-414d-b9e4-23a64f428eaf",
   "metadata": {},
   "source": [
    "#### Check String\n",
    "\n",
    "To check if a certain phrase or character is present in a string, we can use the keyword in.\n"
   ]
  },
  {
   "cell_type": "code",
   "execution_count": 7,
   "id": "6d6c4f9c-d803-4fc7-af11-95a63a3a787a",
   "metadata": {},
   "outputs": [
    {
     "name": "stdout",
     "output_type": "stream",
     "text": [
      "True\n"
     ]
    }
   ],
   "source": [
    "txt = \"The best things in life are free!\"\n",
    "print(\"free\" in txt)"
   ]
  },
  {
   "cell_type": "markdown",
   "id": "4813a5f6-1450-44a9-84ce-ffd7a0be9b65",
   "metadata": {},
   "source": [
    "#### Check if NOT\n",
    "\n",
    "To check if a certain phrase or character is NOT present in a string, we can use the keyword not in."
   ]
  },
  {
   "cell_type": "code",
   "execution_count": 8,
   "id": "a26729ec-f69a-4a4f-b965-e0ffa4554118",
   "metadata": {},
   "outputs": [
    {
     "name": "stdout",
     "output_type": "stream",
     "text": [
      "True\n"
     ]
    }
   ],
   "source": [
    "txt = \"The best things in life are free!\"\n",
    "print(\"expensive\" not in txt)"
   ]
  },
  {
   "cell_type": "markdown",
   "id": "f3c35efb-e96d-4d91-bfba-75d817c961ab",
   "metadata": {},
   "source": [
    "## Slicing Strings"
   ]
  },
  {
   "cell_type": "markdown",
   "id": "c735be7f-2c2a-4161-ad01-4ad4dbcb7ffc",
   "metadata": {},
   "source": [
    "You can return a range of characters by using the slice syntax.\n",
    "\n",
    "Specify the start index and the end index, separated by a colon, to return a part of the string."
   ]
  },
  {
   "cell_type": "code",
   "execution_count": 9,
   "id": "3c1cc88a-1598-43f5-9931-201a370f60b7",
   "metadata": {},
   "outputs": [
    {
     "name": "stdout",
     "output_type": "stream",
     "text": [
      "llo\n"
     ]
    }
   ],
   "source": [
    "#Get the characters from position 2 to position 5 (not included):\n",
    "b = \"Hello, World!\"\n",
    "print(b[2:5])"
   ]
  },
  {
   "cell_type": "markdown",
   "id": "973005cb-dda8-4228-b3af-95b871dc548d",
   "metadata": {},
   "source": [
    "#### Slice From the Start\n",
    "\n",
    "By leaving out the start index, the range will start at the first character:\n",
    "Example\n",
    "\n",
    "Get the characters from the start to position 5 (not included):"
   ]
  },
  {
   "cell_type": "code",
   "execution_count": 10,
   "id": "8ff539ce-638d-43d1-bab8-568b511a84f0",
   "metadata": {},
   "outputs": [
    {
     "name": "stdout",
     "output_type": "stream",
     "text": [
      "Hello\n"
     ]
    }
   ],
   "source": [
    "b = \"Hello, World!\"\n",
    "print(b[:5])"
   ]
  },
  {
   "cell_type": "markdown",
   "id": "754d5c7a-3516-455f-b8c2-c2e826241f2d",
   "metadata": {},
   "source": [
    "#### Slice To the End\n",
    "\n",
    "By leaving out the end index, the range will go to the end:\n",
    "Example\n",
    "\n",
    "Get the characters from position 2, and all the way to the end:"
   ]
  },
  {
   "cell_type": "code",
   "execution_count": 11,
   "id": "df689d21-38c2-4030-9ab7-2556bee50341",
   "metadata": {},
   "outputs": [
    {
     "name": "stdout",
     "output_type": "stream",
     "text": [
      "llo, World!\n"
     ]
    }
   ],
   "source": [
    "b = \"Hello, World!\"\n",
    "print(b[2:])"
   ]
  },
  {
   "cell_type": "markdown",
   "id": "8a927b70-39f7-4ae4-86e9-f8f806ebdc8e",
   "metadata": {},
   "source": [
    "#### Negative Indexing\n",
    "Use negative indexes to start the slice from the end of the string:<br>\n",
    "Example<br>\n",
    "\n",
    "Get the characters:<br>\n",
    "\n",
    "From: \"o\" in \"World!\" (position -5)<br>\n",
    "\n",
    "To, but not included: \"d\" in \"World!\" (position -2):<br>"
   ]
  },
  {
   "cell_type": "code",
   "execution_count": 12,
   "id": "00d42d5f-bcc8-46f2-bd9c-a43cce1a2f9e",
   "metadata": {},
   "outputs": [
    {
     "name": "stdout",
     "output_type": "stream",
     "text": [
      "orl\n"
     ]
    }
   ],
   "source": [
    "b = \"Hello, World!\"\n",
    "print(b[-5:-2])"
   ]
  },
  {
   "cell_type": "markdown",
   "id": "fbe858de-aa4c-44dd-a034-bb415e159727",
   "metadata": {},
   "source": [
    "## Modify Strings\n",
    "Python has a set of built-in methods that you can use on strings."
   ]
  },
  {
   "cell_type": "markdown",
   "id": "d3ea4e76-d6fc-4a76-8455-eb66b6258d09",
   "metadata": {},
   "source": [
    "### Upper Case\n",
    "Example"
   ]
  },
  {
   "cell_type": "code",
   "execution_count": 14,
   "id": "49af287c-f107-4ea8-ad65-dd23b4eea1f4",
   "metadata": {},
   "outputs": [
    {
     "name": "stdout",
     "output_type": "stream",
     "text": [
      "HELLO, JOHN!\n"
     ]
    }
   ],
   "source": [
    "a = \"Hello, john!\"\n",
    "print(a.upper())"
   ]
  },
  {
   "cell_type": "markdown",
   "id": "236116b3-d59c-4631-8275-eb6d7fc682ee",
   "metadata": {},
   "source": [
    "#### Lower Case\n",
    "Example\n",
    "<br>\n",
    "The lower() method returns the string in lower case:"
   ]
  },
  {
   "cell_type": "code",
   "execution_count": 15,
   "id": "7194bc32-5624-45c4-94af-bc192df2544e",
   "metadata": {},
   "outputs": [
    {
     "name": "stdout",
     "output_type": "stream",
     "text": [
      "hello, john!\n"
     ]
    }
   ],
   "source": [
    "a = \"Hello, john!\"\n",
    "print(a.lower())"
   ]
  },
  {
   "cell_type": "markdown",
   "id": "3aa0106c-c2d3-44dc-9bf7-8d135aa11a4a",
   "metadata": {},
   "source": [
    "#### Remove Whitespace\n",
    "\n",
    "Whitespace is the space before and/or after the actual text, and very often you want to remove this space."
   ]
  },
  {
   "cell_type": "markdown",
   "id": "5fcf63f0-03e1-498e-aeec-15723637e93f",
   "metadata": {},
   "source": [
    "The strip() method removes any whitespace from the beginning or the end:"
   ]
  },
  {
   "cell_type": "code",
   "execution_count": 16,
   "id": "99fa8a9d-2c53-45fc-a7e8-61c2dd23c222",
   "metadata": {},
   "outputs": [
    {
     "name": "stdout",
     "output_type": "stream",
     "text": [
      "Hello, World!\n"
     ]
    }
   ],
   "source": [
    "a = \" Hello, World! \"\n",
    "print(a.strip()) # returns \"Hello, World!\" "
   ]
  },
  {
   "cell_type": "markdown",
   "id": "da6bc76e-bc38-475b-9619-9530c4fe5e87",
   "metadata": {},
   "source": [
    "#### Replace String\n",
    "The replace() method replaces a string with another string:"
   ]
  },
  {
   "cell_type": "code",
   "execution_count": 17,
   "id": "4a5e750a-5a31-4d57-8245-c1b0e2e99ef9",
   "metadata": {},
   "outputs": [
    {
     "name": "stdout",
     "output_type": "stream",
     "text": [
      "Incer Kity\n"
     ]
    }
   ],
   "source": [
    "a = \"Incer City\"\n",
    "print(a.replace(\"C\", \"K\"))"
   ]
  },
  {
   "cell_type": "markdown",
   "id": "09eb34e4-1bc5-4966-92ad-f72fd038ff23",
   "metadata": {},
   "source": [
    "#### Split String\n",
    "\n",
    "The split() method returns a list where the text between the specified separator becomes the list items.\n",
    "\n",
    "\n",
    "The split() method splits the string into substrings if it finds instances of the separator:"
   ]
  },
  {
   "cell_type": "code",
   "execution_count": 22,
   "id": "13b3e1fb-78cf-4336-bf17-ba2fc22ddb8b",
   "metadata": {},
   "outputs": [
    {
     "name": "stdout",
     "output_type": "stream",
     "text": [
      "['Hello,', 'World!']\n"
     ]
    }
   ],
   "source": [
    "a = \"Hello, World!\"\n",
    "print(a.split(\" \"))\n"
   ]
  },
  {
   "cell_type": "code",
   "execution_count": 23,
   "id": "42fb08f1-c653-47e2-8662-45da05808f83",
   "metadata": {},
   "outputs": [
    {
     "ename": "ValueError",
     "evalue": "empty separator",
     "output_type": "error",
     "traceback": [
      "\u001b[0;31m---------------------------------------------------------------------------\u001b[0m",
      "\u001b[0;31mValueError\u001b[0m                                Traceback (most recent call last)",
      "Cell \u001b[0;32mIn[23], line 2\u001b[0m\n\u001b[1;32m      1\u001b[0m a \u001b[38;5;241m=\u001b[39m \u001b[38;5;124m\"\u001b[39m\u001b[38;5;124mHello, World!\u001b[39m\u001b[38;5;124m\"\u001b[39m\n\u001b[0;32m----> 2\u001b[0m \u001b[38;5;28mprint\u001b[39m(\u001b[43ma\u001b[49m\u001b[38;5;241;43m.\u001b[39;49m\u001b[43msplit\u001b[49m\u001b[43m(\u001b[49m\u001b[38;5;124;43m\"\u001b[39;49m\u001b[38;5;124;43m\"\u001b[39;49m\u001b[43m)\u001b[49m)\n",
      "\u001b[0;31mValueError\u001b[0m: empty separator"
     ]
    }
   ],
   "source": [
    "a = \"Hello, World!\"\n",
    "print(a.split(\"\"))"
   ]
  },
  {
   "cell_type": "markdown",
   "id": "2a62067f-ed4e-4753-a86c-155a7205d15e",
   "metadata": {},
   "source": [
    "## String Concatenation\n",
    "\n",
    "To concatenate, or combine, two strings you can use the + operator."
   ]
  },
  {
   "cell_type": "code",
   "execution_count": 24,
   "id": "2f4aa17d-1d93-4dd6-b981-6a90c3c53ee6",
   "metadata": {},
   "outputs": [
    {
     "name": "stdout",
     "output_type": "stream",
     "text": [
      "HelloWorld\n"
     ]
    }
   ],
   "source": [
    "#Merge variable a with variable b into variable c:\n",
    "a = \"Hello\"\n",
    "b = \"World\"\n",
    "c = a + b\n",
    "print(c)"
   ]
  },
  {
   "cell_type": "markdown",
   "id": "27639c52-2584-4f87-8711-7fe3acac7c02",
   "metadata": {},
   "source": [
    "What is a correct syntax to merge variable x and y into variable z?"
   ]
  },
  {
   "cell_type": "markdown",
   "id": "d13a22f5-30b9-4454-989a-d2635078a9a0",
   "metadata": {},
   "source": [
    "## Python - Format - Strings\n",
    "As we learned in the Python Variables chapter, we cannot combine strings and numbers like this:"
   ]
  },
  {
   "cell_type": "code",
   "execution_count": 25,
   "id": "6f7125c3-91af-4dfa-bad0-95312284243c",
   "metadata": {},
   "outputs": [
    {
     "ename": "TypeError",
     "evalue": "can only concatenate str (not \"int\") to str",
     "output_type": "error",
     "traceback": [
      "\u001b[0;31m---------------------------------------------------------------------------\u001b[0m",
      "\u001b[0;31mTypeError\u001b[0m                                 Traceback (most recent call last)",
      "Cell \u001b[0;32mIn[25], line 2\u001b[0m\n\u001b[1;32m      1\u001b[0m age \u001b[38;5;241m=\u001b[39m \u001b[38;5;241m36\u001b[39m\n\u001b[0;32m----> 2\u001b[0m txt \u001b[38;5;241m=\u001b[39m \u001b[38;5;124;43m\"\u001b[39;49m\u001b[38;5;124;43mMy name is John, I am \u001b[39;49m\u001b[38;5;124;43m\"\u001b[39;49m\u001b[43m \u001b[49m\u001b[38;5;241;43m+\u001b[39;49m\u001b[43m \u001b[49m\u001b[43mage\u001b[49m\n\u001b[1;32m      3\u001b[0m \u001b[38;5;28mprint\u001b[39m(txt)\n",
      "\u001b[0;31mTypeError\u001b[0m: can only concatenate str (not \"int\") to str"
     ]
    }
   ],
   "source": [
    "age = 36\n",
    "txt = \"My name is John, I am \" + age\n",
    "print(txt)"
   ]
  },
  {
   "cell_type": "raw",
   "id": "7b781074-ee7f-41cc-aa04-5ea1883a8649",
   "metadata": {},
   "source": [
    "But we can combine strings and numbers by using f-strings or the format() method!"
   ]
  },
  {
   "cell_type": "markdown",
   "id": "e7777d61-9c7c-4b32-ac7b-f728f15976b1",
   "metadata": {},
   "source": [
    "### F-Strings\n",
    "\n",
    "F-String was introduced in Python 3.6, and is now the preferred way of formatting strings.\n",
    "\n",
    "To specify a string as an f-string, simply put an f in front of the string literal, and add curly brackets {} as placeholders for variables and other operations.\n"
   ]
  },
  {
   "cell_type": "code",
   "execution_count": 27,
   "id": "0203b382-b0bd-48e5-abac-9269730dcb76",
   "metadata": {},
   "outputs": [
    {
     "name": "stdout",
     "output_type": "stream",
     "text": [
      "My name is John, I am 36\n"
     ]
    }
   ],
   "source": [
    "age = 36\n",
    "txt = f\"My name is John, I am {age}\"\n",
    "print(txt)"
   ]
  },
  {
   "cell_type": "markdown",
   "id": "fc43598d-52f2-4f0e-ad97-2418ce22f5b8",
   "metadata": {},
   "source": [
    "#### Placeholders and Modifiers\n",
    "\n",
    "A placeholder can contain variables, operations, functions, and modifiers to format the value."
   ]
  },
  {
   "cell_type": "code",
   "execution_count": 28,
   "id": "b1e28318-da46-4643-8e17-3c08b5a8d5fb",
   "metadata": {},
   "outputs": [
    {
     "name": "stdout",
     "output_type": "stream",
     "text": [
      "The price is 59 dollars\n"
     ]
    }
   ],
   "source": [
    "price = 59\n",
    "txt = f\"The price is {price} dollars\"\n",
    "print(txt)"
   ]
  },
  {
   "cell_type": "raw",
   "id": "3ddcd413-635a-445a-a2c0-80cf090a767b",
   "metadata": {},
   "source": [
    "A placeholder can include a modifier to format the value.\n",
    "\n",
    "A modifier is included by adding a colon : followed by a legal formatting type, like .2f which means fixed point number with 2 decimals:"
   ]
  },
  {
   "cell_type": "code",
   "execution_count": 29,
   "id": "b30a0e17-4beb-4e59-a7ac-541d83a9004d",
   "metadata": {},
   "outputs": [
    {
     "name": "stdout",
     "output_type": "stream",
     "text": [
      "The price is 59.00 dollars\n"
     ]
    }
   ],
   "source": [
    "price = 59\n",
    "txt = f\"The price is {price:.2f} dollars\"\n",
    "print(txt)\n"
   ]
  },
  {
   "cell_type": "markdown",
   "id": "735da543-1613-4345-82ec-b7923f61f1d9",
   "metadata": {},
   "source": [
    "A placeholder can contain Python code, like math operations:\n",
    "\n",
    "\n",
    "Perform a math operation in the placeholder, and return the result:"
   ]
  },
  {
   "cell_type": "code",
   "execution_count": 31,
   "id": "3ccf9d5b-b955-4af3-8664-7faed9587e5a",
   "metadata": {},
   "outputs": [
    {
     "name": "stdout",
     "output_type": "stream",
     "text": [
      "The price is 1180 dollars\n"
     ]
    }
   ],
   "source": [
    "txt = f\"The price is {20 * 59} dollars\"\n",
    "print(txt)"
   ]
  },
  {
   "cell_type": "markdown",
   "id": "f832dbca-efac-484c-b233-2d2233fc0c53",
   "metadata": {},
   "source": [
    "### Escape Character\n",
    "\n",
    "To insert characters that are illegal in a string, use an escape character.\n",
    "\n",
    "An escape character is a backslash \\ followed by the character you want to insert.\n",
    "\n",
    "An example of an illegal character is a double quote inside a string that is surrounded by double quotes:\n"
   ]
  },
  {
   "cell_type": "code",
   "execution_count": 32,
   "id": "2373dd07-b522-4736-933f-31377fa2ec71",
   "metadata": {},
   "outputs": [
    {
     "ename": "SyntaxError",
     "evalue": "invalid syntax (3808314046.py, line 2)",
     "output_type": "error",
     "traceback": [
      "\u001b[0;36m  Cell \u001b[0;32mIn[32], line 2\u001b[0;36m\u001b[0m\n\u001b[0;31m    txt = \"We are the so-called \"Vikings\" from the north.\"\u001b[0m\n\u001b[0m                                 ^\u001b[0m\n\u001b[0;31mSyntaxError\u001b[0m\u001b[0;31m:\u001b[0m invalid syntax\n"
     ]
    }
   ],
   "source": [
    "#You will get an error if you use double quotes inside a string that is surrounded by double quotes:\n",
    "txt = \"We are the so-called \"Vikings\" from the north.\""
   ]
  },
  {
   "cell_type": "code",
   "execution_count": 33,
   "id": "b0e4edf4-c97c-4fe1-9c63-41ce01c8101d",
   "metadata": {},
   "outputs": [],
   "source": [
    "#The escape character allows you to use double quotes when you normally would not be allowed:\n",
    "txt = \"We are the so-called \\\"Vikings\\\" from the north.\""
   ]
  },
  {
   "cell_type": "markdown",
   "id": "6111f257-9c18-4bf0-b590-300457563b40",
   "metadata": {},
   "source": [
    "| Code | Result |\n",
    "| ----------- | ----------- |\n",
    "|\\' \t|\tSingle Quote \t|\t\n",
    "|\t\\\\ \t|\tBackslash |\t\t\n",
    "|\t\\n \t|\tNew Line \t|\t\n",
    "|\t\\r \t|\tCarriage Return \t|\t\n",
    "|\t\\t \t|\tTab \t|\t\n",
    "\n"
   ]
  },
  {
   "cell_type": "markdown",
   "id": "e64c11f9-8950-44a3-a671-c302ef0f4a70",
   "metadata": {},
   "source": [
    "### String Methods\n",
    "\n",
    "Python has a set of built-in methods that you can use on strings.\n",
    "\n",
    "Note: All string methods return new values. They do not change the original string.\n",
    "|Method \t| Description |\n",
    "|----------|---------------|\n",
    "|capitalize()\t|Converts the first character to upper case\n",
    "|casefold()\t|Converts string into lower case\n",
    "|center()\t|Returns a centered string\n",
    "|count()\t|Returns the number of times a specified value occurs in a string\n",
    "|encode()\t|Returns an encoded version of the string\n",
    "|endswith()\t|Returns true if the string ends with the specified value\n",
    "|expandtabs()\t|Sets the tab size of the string\n",
    "|find()\t|Searches the string for a specified value and returns the position of where it was found\n",
    "|format()\t|Formats specified values in a string\n",
    "|format_map()\t|Formats specified values in a string\n",
    "|index()\t|Searches the string for a specified value and returns the position of where it was found\n",
    "|isalnum()\t|Returns True if all characters in the string are alphanumeric\n",
    "|isalpha()\t|Returns True if all characters in the string are in the alphabet|\n",
    "|isascii()\t|Returns True if all characters in the string are ascii characters|\n",
    "|isdecimal()\t|Returns True if all characters in the string are decimals|\n",
    "|isdigit()\t|Returns True if all characters in the string are digits|\n",
    "|isidentifier()\t|Returns True if the string is an identifier|\n",
    "|islower()\t|Returns True if all characters in the string are lower case|\n",
    "|isnumeric()\t|Returns True if all characters in the string are numeric|\n",
    "|isprintable()\t|Returns True if all characters in the string are printable|\n",
    "|isspace()\t|Returns True if all characters in the string are whitespaces|\n",
    "|istitle() \t|Returns True if the string follows the rules of a title|\n",
    "|isupper()\t|Returns True if all characters in the string are upper case|\n",
    "|join()\t|Joins the elements of an iterable to the end of the string|\n",
    "|ljust()\t|Returns a left justified version of the string|\n",
    "|lower()\t|Converts a string into lower case|\n",
    "|lstrip()\t|Returns a left trim version of the string|\n",
    "|maketrans()\t|Returns a translation table to be used in translations|\n",
    "|partition()\t|Returns a tuple where the string is parted into three parts|\n",
    "|replace()\t|Returns a string where a specified value is replaced with a specified value|\n",
    "|rfind()\t|Searches the string for a specified value and returns the last position of where it was found|\n",
    "|rindex()\t|Searches the string for a specified value and returns the last position of where it was found|\n",
    "|rjust()\t|Returns a right justified version of the string|\n",
    "|rpartition()\t|Returns a tuple where the string is parted into three parts|\n",
    "|rsplit()\t|Splits the string at the specified separator, and returns a list|\n",
    "|rstrip()\t|Returns a right trim version of the string|\n",
    "|split()\t|Splits the string at the specified separator, and returns a list|\n",
    "|splitlines()\t|Splits the string at line breaks and returns a list|\n",
    "|startswith()\t|Returns true if the string starts with the specified value|\n",
    "|strip()\t|Returns a trimmed version of the string|\n",
    "|swapcase()\t|Swaps cases, lower case becomes upper case and vice versa|\n",
    "|title()\t|Converts the first character of each word to upper case|\n",
    "|translate()\t|Returns a translated string|\n",
    "|upper()\t|Converts a string into upper case|\n",
    "|zfill()\t|Fills the string with a specified number of 0 values at the beginning|"
   ]
  },
  {
   "cell_type": "code",
   "execution_count": null,
   "id": "efbc9ddd-25c4-463c-ba69-d76c9dad8d3b",
   "metadata": {},
   "outputs": [],
   "source": []
  }
 ],
 "metadata": {
  "kernelspec": {
   "display_name": "Python 3 (ipykernel)",
   "language": "python",
   "name": "python3"
  },
  "language_info": {
   "codemirror_mode": {
    "name": "ipython",
    "version": 3
   },
   "file_extension": ".py",
   "mimetype": "text/x-python",
   "name": "python",
   "nbconvert_exporter": "python",
   "pygments_lexer": "ipython3",
   "version": "3.8.10"
  }
 },
 "nbformat": 4,
 "nbformat_minor": 5
}

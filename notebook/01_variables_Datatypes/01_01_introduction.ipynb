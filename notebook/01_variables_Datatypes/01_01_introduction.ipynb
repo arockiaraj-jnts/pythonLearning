{
 "cells": [
  {
   "cell_type": "markdown",
   "id": "882845cf-4c53-4bb3-bd79-fb12a130cd8b",
   "metadata": {},
   "source": [
    "### What is Python? ###"
   ]
  },
  {
   "cell_type": "markdown",
   "id": "52da3911-d4aa-43e6-8547-b9a3f7961985",
   "metadata": {},
   "source": [
    "**Python is a popular programming language. It was created by Guido van Rossum, and released in 1991.**\n",
    "<br><br>It is used for:\n",
    "- web development (server-side), \n",
    "- software development, \n",
    "- mathematics, \n",
    "- system scripting. \n",
    "\n"
   ]
  },
  {
   "cell_type": "markdown",
   "id": "d81f9dd0-ec84-4e14-80b5-58db478ccc3a",
   "metadata": {},
   "source": [
    "### Why Python?\n",
    "\n",
    "- Python works on different platforms (Windows, Mac, Linux, Raspberry Pi, etc).\n",
    "- Python has a simple syntax similar to the English language.\n",
    "- Python has syntax that allows developers to write programs with fewer lines than some other programming languages.\n",
    "- Python runs on an interpreter system, meaning that code can be executed as soon as it is written. This means that prototyping can be very quick."
   ]
  },
  {
   "cell_type": "markdown",
   "id": "6a168932-3651-4de3-8663-abe2f4dbe800",
   "metadata": {},
   "source": [
    "### The most recent major version of Python is Python 3"
   ]
  },
  {
   "cell_type": "markdown",
   "id": "3f5b84b4-b834-4a74-8b82-dc2ed77f73dd",
   "metadata": {},
   "source": [
    "### First python Program \n"
   ]
  },
  {
   "cell_type": "code",
   "execution_count": null,
   "id": "a1d60304-c700-4d10-ba6f-9a8cf55dba59",
   "metadata": {},
   "outputs": [],
   "source": [
    "print(\"Hello, World!\")"
   ]
  },
  {
   "cell_type": "markdown",
   "id": "f1e3f4e4-33df-428b-97ed-c2b0fc64d1f5",
   "metadata": {},
   "source": [
    "C:\\Users\\Your Name>python hello.py "
   ]
  },
  {
   "cell_type": "markdown",
   "id": "6c344977-64cc-46be-9738-d1c400bcca22",
   "metadata": {},
   "source": [
    "Hello, World!"
   ]
  },
  {
   "cell_type": "code",
   "execution_count": null,
   "id": "4b26e098-69ff-46e8-a11e-2a678039f1bc",
   "metadata": {},
   "outputs": [],
   "source": []
  },
  {
   "cell_type": "markdown",
   "id": "8288f768-2e5e-4123-b36c-5555627f17fe",
   "metadata": {},
   "source": [
    "### The Python Command Line"
   ]
  },
  {
   "cell_type": "markdown",
   "id": "0fb332bc-88bc-4271-ba02-2ab77ae0bc4a",
   "metadata": {},
   "source": [
    "To test a short amount of code in python sometimes it is quickest and easiest not to write the code in a file. This is made possible because Python can be run as a command line itself.\n",
    "\n",
    "Type the following on the Windows, Mac or Linux command line:"
   ]
  },
  {
   "cell_type": "markdown",
   "id": "70f31dda-d88e-4057-b4f7-4d0e711696d6",
   "metadata": {},
   "source": [
    "C:\\Users\\Your Name>python3"
   ]
  },
  {
   "cell_type": "markdown",
   "id": "6906c33c-eeba-460e-9c43-c5c328a29abd",
   "metadata": {},
   "source": [
    "Python 3.6.4 (v3.6.4:d48eceb, Dec 19 2017, 06:04:45) [MSC v.1900 32 bit (Intel)] on win32\n",
    "Type \"help\", \"copyright\", \"credits\" or \"license\" for more information.\n",
    " >>> print(\"Hello, World!\") "
   ]
  },
  {
   "cell_type": "markdown",
   "id": "3913486b-6e21-4c20-af2e-53d7bead939d",
   "metadata": {},
   "source": [
    "Whenever you are done in the python command line, you can simply type the following to quit the python command line interface:"
   ]
  },
  {
   "cell_type": "markdown",
   "id": "3f4d9eb7-329b-4053-b7fb-107375aea7ad",
   "metadata": {},
   "source": [
    "#### exit()\n"
   ]
  },
  {
   "cell_type": "code",
   "execution_count": null,
   "id": "9cd8c6d7-0521-4918-98e4-53ebc4b85132",
   "metadata": {},
   "outputs": [],
   "source": []
  }
 ],
 "metadata": {
  "kernelspec": {
   "display_name": "Python 3 (ipykernel)",
   "language": "python",
   "name": "python3"
  },
  "language_info": {
   "codemirror_mode": {
    "name": "ipython",
    "version": 3
   },
   "file_extension": ".py",
   "mimetype": "text/x-python",
   "name": "python",
   "nbconvert_exporter": "python",
   "pygments_lexer": "ipython3",
   "version": "3.8.10"
  }
 },
 "nbformat": 4,
 "nbformat_minor": 5
}

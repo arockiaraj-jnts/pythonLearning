{
 "cells": [
  {
   "cell_type": "markdown",
   "id": "f0ce49f8-060c-496a-815e-4799e2ccfcd7",
   "metadata": {},
   "source": [
    "# Data Types"
   ]
  },
  {
   "cell_type": "markdown",
   "id": "4cca09b9-b46d-4cb6-b5ba-4e66f29c5891",
   "metadata": {},
   "source": [
    "#### Built-in Data Types\n",
    "\n",
    "In programming, data type is an important concept.\n",
    "\n",
    "Variables can store data of different types, and different types can do different things.\n",
    "\n",
    "Python has the following data types built-in by default, in these categories:\n",
    "\n",
    "- <b>Text Type: \t    str</b>\n",
    "- <b>Numeric Types: \tint, float, complex</b>\n",
    "- <b>Sequence Types: list, tuple, range</b>\n",
    "- <b>Mapping Type: \tdict</b>\n",
    "- <b>Set Types: \t    set, frozenset</b>\n",
    "- <b>Boolean Type: \tbool</b>\n",
    "- <b>None Type: \t    NoneType</b>"
   ]
  },
  {
   "cell_type": "markdown",
   "id": "d61e7c4d-00d9-4d52-b1b7-82fd7bbb16a4",
   "metadata": {},
   "source": [
    "#### You can get the data type of any object by using the type() function:"
   ]
  },
  {
   "cell_type": "code",
   "execution_count": 1,
   "id": "1ff773f3-1e10-4e25-b797-7ab9acb94ac2",
   "metadata": {},
   "outputs": [
    {
     "name": "stdout",
     "output_type": "stream",
     "text": [
      "<class 'int'>\n"
     ]
    }
   ],
   "source": [
    "x = 5\n",
    "print(type(x))"
   ]
  },
  {
   "cell_type": "code",
   "execution_count": null,
   "id": "3f628d3c-5f1b-4716-a5a6-adfdcf2aa48e",
   "metadata": {},
   "outputs": [],
   "source": [
    "the data type is set when you assign a value to a variable:"
   ]
  },
  {
   "cell_type": "markdown",
   "id": "bb1e561c-f30f-46fc-852a-d73b9418404a",
   "metadata": {},
   "source": [
    "x = \"Hello World\" \tstr \t\n",
    "x = 20 \tint \t\n",
    "x = 20.5 \tfloat \t\n",
    "x = 1j \tcomplex \t\n",
    "x = [\"apple\", \"banana\", \"cherry\"] \tlist \t\n",
    "x = (\"apple\", \"banana\", \"cherry\") \ttuple \t\n",
    "x = range(6) \trange \t\n",
    "x = {\"name\" : \"John\", \"age\" : 36} \tdict \t\n",
    "x = {\"apple\", \"banana\", \"cherry\"} \tset \t\n",
    "x = frozenset({\"apple\", \"banana\", \"cherry\"}) \tfrozenset \t\n",
    "x = True \tbool \t\n",
    "x = None \tNoneType \t"
   ]
  }
 ],
 "metadata": {
  "kernelspec": {
   "display_name": "Python 3 (ipykernel)",
   "language": "python",
   "name": "python3"
  },
  "language_info": {
   "codemirror_mode": {
    "name": "ipython",
    "version": 3
   },
   "file_extension": ".py",
   "mimetype": "text/x-python",
   "name": "python",
   "nbconvert_exporter": "python",
   "pygments_lexer": "ipython3",
   "version": "3.8.10"
  }
 },
 "nbformat": 4,
 "nbformat_minor": 5
}

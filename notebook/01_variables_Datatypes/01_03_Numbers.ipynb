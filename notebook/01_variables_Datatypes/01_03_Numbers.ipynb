{
 "cells": [
  {
   "cell_type": "markdown",
   "id": "f0af2604-3a39-407e-ae0f-8459df0bcdc1",
   "metadata": {},
   "source": [
    "# Numbers"
   ]
  },
  {
   "cell_type": "markdown",
   "id": "c138b386-149e-4ab8-8140-5d9ae0d7b095",
   "metadata": {},
   "source": [
    "There are three numeric types in Python:\n",
    "\n",
    "- int\n",
    "- float\n",
    "- complex\n"
   ]
  },
  {
   "cell_type": "code",
   "execution_count": 1,
   "id": "d178639c-2115-4e59-b890-adc3a1f3104b",
   "metadata": {},
   "outputs": [],
   "source": [
    "x = 1    # int\n",
    "y = 2.8  # float\n",
    "z = 1j   # complex"
   ]
  },
  {
   "cell_type": "code",
   "execution_count": 2,
   "id": "d3e6f54f-dca9-4ee3-86f6-24a86aa71b4b",
   "metadata": {},
   "outputs": [
    {
     "name": "stdout",
     "output_type": "stream",
     "text": [
      "<class 'int'>\n",
      "<class 'float'>\n",
      "<class 'complex'>\n"
     ]
    }
   ],
   "source": [
    "print(type(x))\n",
    "print(type(y))\n",
    "print(type(z))"
   ]
  },
  {
   "cell_type": "markdown",
   "id": "6314be3e-f731-48ff-bfc1-99e7da1994f6",
   "metadata": {},
   "source": [
    "#### Int\n",
    "\n",
    "Int, or integer, is a whole number, positive or negative, without decimals, of unlimited length."
   ]
  },
  {
   "cell_type": "code",
   "execution_count": 3,
   "id": "307d7d95-02b0-4140-a92d-35f3b826121f",
   "metadata": {},
   "outputs": [
    {
     "name": "stdout",
     "output_type": "stream",
     "text": [
      "<class 'int'>\n",
      "<class 'int'>\n",
      "<class 'int'>\n"
     ]
    }
   ],
   "source": [
    "x = 1\n",
    "y = 35656222554887711\n",
    "z = -3255522\n",
    "\n",
    "print(type(x))\n",
    "print(type(y))\n",
    "print(type(z)) "
   ]
  },
  {
   "cell_type": "markdown",
   "id": "f327fc33-2cb9-4ee6-b799-ef190c654479",
   "metadata": {},
   "source": [
    "#### Float\n",
    "\n",
    "Float, or \"floating point number\" is a number, positive or negative, containing one or more decimals."
   ]
  },
  {
   "cell_type": "code",
   "execution_count": 4,
   "id": "f083170a-7c31-496f-8c9d-a109b85a8924",
   "metadata": {},
   "outputs": [
    {
     "name": "stdout",
     "output_type": "stream",
     "text": [
      "<class 'float'>\n",
      "<class 'float'>\n",
      "<class 'float'>\n"
     ]
    }
   ],
   "source": [
    "x = 1.10\n",
    "y = 1.0\n",
    "z = -35.59\n",
    "\n",
    "print(type(x))\n",
    "print(type(y))\n",
    "print(type(z)) "
   ]
  },
  {
   "cell_type": "markdown",
   "id": "158cb97c-dc98-4656-9d76-b3f58b5115e8",
   "metadata": {},
   "source": [
    "Float can also be scientific numbers with an \"e\" to indicate the power of 10."
   ]
  },
  {
   "cell_type": "code",
   "execution_count": 5,
   "id": "49cc0fb6-22ce-4036-9669-5c69a3b092aa",
   "metadata": {},
   "outputs": [
    {
     "name": "stdout",
     "output_type": "stream",
     "text": [
      "<class 'float'>\n",
      "<class 'float'>\n",
      "<class 'float'>\n"
     ]
    }
   ],
   "source": [
    "x = 35e3\n",
    "y = 12E4\n",
    "z = -87.7e100\n",
    "\n",
    "print(type(x))\n",
    "print(type(y))\n",
    "print(type(z)) "
   ]
  },
  {
   "cell_type": "markdown",
   "id": "caf4d091-c2d4-447b-8ca6-1855cabcd6ff",
   "metadata": {},
   "source": [
    "### Type Conversion"
   ]
  },
  {
   "cell_type": "markdown",
   "id": "08000ab0-93fc-40ab-bee9-9790057f0454",
   "metadata": {},
   "source": [
    "You can convert from one type to another with the int(), float(), and complex() methods:"
   ]
  },
  {
   "cell_type": "code",
   "execution_count": null,
   "id": "89a07444-c728-4e39-96ee-e45e4c157e28",
   "metadata": {},
   "outputs": [],
   "source": [
    "x = 1    # int\n",
    "y = 2.8  # float\n",
    "z = 1j   # complex\n",
    "\n",
    "#convert from int to float:\n",
    "a = float(x)\n",
    "\n",
    "#convert from float to int:\n",
    "b = int(y)\n",
    "\n",
    "#convert from int to complex:\n",
    "c = complex(x)\n",
    "\n",
    "print(a)\n",
    "print(b)\n",
    "print(c)\n",
    "\n",
    "print(type(a))\n",
    "print(type(b))\n",
    "print(type(c)) "
   ]
  },
  {
   "cell_type": "markdown",
   "id": "82e796d2-5953-405c-8582-211b7333d026",
   "metadata": {},
   "source": [
    "You cannot convert complex numbers into another number type."
   ]
  },
  {
   "cell_type": "markdown",
   "id": "0607ce8c-9fab-41d0-aa1d-634c378cd9ad",
   "metadata": {},
   "source": [
    "### Random Number\n",
    "\n",
    "Python does not have a random() function to make a random number, but Python has a built-in module called random that can be used to make random numbers:\n"
   ]
  },
  {
   "cell_type": "code",
   "execution_count": 9,
   "id": "46ac1a51-107e-4889-8a57-8383a915a93d",
   "metadata": {},
   "outputs": [
    {
     "name": "stdout",
     "output_type": "stream",
     "text": [
      "9\n"
     ]
    }
   ],
   "source": [
    "import random\n",
    "\n",
    "print(random.randrange(1, 10)) "
   ]
  },
  {
   "cell_type": "code",
   "execution_count": null,
   "id": "7639a98d-1377-4558-bdd9-08cc25482546",
   "metadata": {},
   "outputs": [],
   "source": []
  }
 ],
 "metadata": {
  "kernelspec": {
   "display_name": "Python 3 (ipykernel)",
   "language": "python",
   "name": "python3"
  },
  "language_info": {
   "codemirror_mode": {
    "name": "ipython",
    "version": 3
   },
   "file_extension": ".py",
   "mimetype": "text/x-python",
   "name": "python",
   "nbconvert_exporter": "python",
   "pygments_lexer": "ipython3",
   "version": "3.8.10"
  }
 },
 "nbformat": 4,
 "nbformat_minor": 5
}

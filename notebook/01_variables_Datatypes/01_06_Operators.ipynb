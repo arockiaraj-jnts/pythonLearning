{
 "cells": [
  {
   "cell_type": "markdown",
   "id": "b673f779-f1a5-420b-8e84-9e09d0260dec",
   "metadata": {},
   "source": [
    "# Operators"
   ]
  },
  {
   "cell_type": "markdown",
   "id": "48b54e3c-b1ab-4f4f-85d6-114c69dff095",
   "metadata": {},
   "source": [
    "Operators are used to perform operations on variables and values."
   ]
  },
  {
   "cell_type": "markdown",
   "id": "8b8d4270-b213-4d8f-87fd-b75b8026356b",
   "metadata": {},
   "source": [
    "\n",
    " -   Arithmetic operators\n",
    " -   Assignment operators\n",
    " -   Comparison operators\n",
    " -   Logical operators\n",
    " -  Identity operators\n",
    " -   Membership operators\n",
    " -   Bitwise operators\n"
   ]
  },
  {
   "cell_type": "markdown",
   "id": "e80ca1ee-51b8-42e0-a26a-c0a8ce6654c5",
   "metadata": {},
   "source": [
    "#### Arithmetic Operators"
   ]
  },
  {
   "cell_type": "markdown",
   "id": "ac98a77e-3648-43c1-be87-be9a5fa800d6",
   "metadata": {},
   "source": [
    "| Operator \t|Name \t|Example \t|\n",
    "| ----------|------- | -------- |\n",
    "|+ \t|Addition \t|x + y \t|\n",
    "|- \t|Subtraction \t|x - y \t|\n",
    "|* \t|Multiplication \t|x * y \t|\n",
    "|/ \t|Division \t|x / y \t|\n",
    "|% \t|Modulus \t|x % y \t|\n",
    "|** \t|Exponentiation \t|x ** y \t|\n",
    "|// \t|Floor division \t|x // y|"
   ]
  },
  {
   "cell_type": "markdown",
   "id": "b93069f6-aa2c-465e-8e90-b50291eb4270",
   "metadata": {},
   "source": [
    "#### Assignment Operators"
   ]
  },
  {
   "cell_type": "markdown",
   "id": "26b3172e-3ae7-4a41-b39f-653b4def39f0",
   "metadata": {},
   "source": [
    "| Operator \t|Name \t|Example \t|\n",
    "| ----------|------- | -------- |\n",
    "|= \t| x = 5 |\tx = 5 \t|\n",
    "+= \t| x += 3 \t|x = x + 3 \t|\n",
    "|-= \t| x -= 3 \t|x = x - 3 \t|\n",
    "|*= \t|x *= 3 \t|x = x * 3 \t|\n",
    "|/= \t|x /= 3 \t|x = x / 3 \t|\n",
    "|%= \t|x %= 3 \t|x = x % 3 \t|\n",
    "|//= \t|x //= 3 \t|x = x // 3 \t|\n",
    "|**= \t|x **= 3 \t|x = x ** 3 \t|\n",
    "|&= \t|x &= 3 \t|x = x & 3 \t|\n",
    "||= \t|x |= 3 \t|x = x | 3 \t|\n",
    "|^= \t|x ^= 3 \t|x = x ^ 3 \t|\n",
    "|>>= \t|x >>= 3 \t|x = x >> 3 \t|\n",
    "|<<= \t|x <<= 3 \t|x = x << 3 \t|\n",
    "|:= \t|print(x := 3) \t|x = 3 print(x)|"
   ]
  },
  {
   "cell_type": "markdown",
   "id": "ffcb49cf-91b8-4c09-a5f7-5eb4936371fd",
   "metadata": {},
   "source": [
    "#### Comparison Operators"
   ]
  },
  {
   "cell_type": "markdown",
   "id": "f5849717-6f16-44d2-95e0-3e4e8141da67",
   "metadata": {},
   "source": [
    "| Operator \t| Name \t| Example \t|\n",
    "|------------|-------|-----|\n",
    "|== \t|Equal |\tx == y \t|\n",
    "|!= \t|Not equal |\tx != y \t|\n",
    "|> \t|Greater than \t|x > y \t|\n",
    "|< \t|Less than \t|x < y \t|\n",
    "|>= \t|Greater than or equal to| \tx >= y \t|\n",
    "|<= |\tLess than or equal to \t|x <= y|"
   ]
  },
  {
   "cell_type": "markdown",
   "id": "1d719f45-1495-4b59-a4a2-b0ae621c872d",
   "metadata": {},
   "source": [
    "#### Logical Operators\n",
    "\n",
    "Logical operators are used to combine conditional statements:"
   ]
  },
  {
   "cell_type": "markdown",
   "id": "26c79a3c-80fa-4859-9ba0-821dddcb325d",
   "metadata": {},
   "source": [
    "| Operator \t| Description |\tExample \t|\n",
    "| ---------| ------------- | -----------|\n",
    "|and  \t|Returns True if both statements are true \t|x < 5 and  x < 10 \tv\n",
    "|or \t|Returns True if one of the statements is true| \tx < 5 or x < 4 \t|\n",
    "|not| \tReverse the result, returns False if the result is true| \tnot(x < 5 and x < 10)|"
   ]
  },
  {
   "cell_type": "markdown",
   "id": "1697f9fa-c126-47c0-88d6-3d5d8c14ad72",
   "metadata": {},
   "source": [
    " #### Identity Operators\n",
    "\n",
    "Identity operators are used to compare the objects, not if they are equal, but if they are actually the same object, with the same memory location:\n",
    "\n",
    "| Operator |\tDescription \t| Example \t|\n",
    "| -------- | --------------- | -------------|\n",
    "is  \t|Returns True if both variables are the same object \t|x is y \t|\n",
    "is not |\tReturns True if both variables are not the same object \t|x is not y|"
   ]
  },
  {
   "cell_type": "markdown",
   "id": "30c877a5-eba2-44b0-9c3e-7dc8e15a9a2d",
   "metadata": {},
   "source": [
    "#### Membership Operators\n",
    "\n",
    "Membership operators are used to test if a sequence is presented in an object:\n",
    "\n",
    "| Operator \t| Description \t| Example | \n",
    "| ---------- | ------------ | ----------|\n",
    "| in  \t| Returns True if a sequence with the specified value is present in the object \tx in y \t| \n",
    "| not in \t| Returns True if a sequence with the specified value is not present in the object \tx not in y| "
   ]
  },
  {
   "cell_type": "markdown",
   "id": "a23daa45-dcfc-4d9d-8b42-00720c8614a3",
   "metadata": {},
   "source": [
    "#### Bitwise Operators\n",
    "\n",
    "Bitwise operators are used to compare (binary) numbers:\n",
    "\n",
    "|Operator \t|Name \t|Description \t|Example |\n",
    "| --------- |--------|------------|-----------|\n",
    "|&  \t|AND \t|Sets each bit to 1 if both bits are 1 \t|x & y \t|\n",
    "|| \t|OR \t|Sets each bit to 1 if one of two bits is 1 \t|x | y \t|\n",
    "|^ \t|XOR \t|Sets each bit to 1 if only one of two bits is 1 \t|x ^ y \t|\n",
    "|~ |\tNOT \t|Inverts all the bits \t|~x \t|\n",
    "|<< \t|Zero fill left shift \t|Shift left by pushing zeros in from the right and let the leftmost bits fall off |\tx << 2 \t|\n",
    "|>> \t|Signed right shift \t|Shift right by pushing copies of the leftmost bit in from the left, and let the rightmost bits fall off \t|x >> 2|"
   ]
  },
  {
   "cell_type": "markdown",
   "id": "b3a70409-df4e-444b-ba31-f3ea959b6f49",
   "metadata": {},
   "source": [
    "#### Operator Precedence\n",
    "\n",
    "Operator precedence describes the order in which operations are performed."
   ]
  },
  {
   "cell_type": "markdown",
   "id": "36e33c3d-ec01-47e9-8402-07ab09ec3403",
   "metadata": {},
   "source": [
    "Parentheses has the highest precedence, meaning that expressions inside parentheses must be evaluated first:\n"
   ]
  },
  {
   "cell_type": "code",
   "execution_count": 5,
   "id": "5275efda-c65d-4d00-82cf-a75025d9cb86",
   "metadata": {},
   "outputs": [
    {
     "name": "stdout",
     "output_type": "stream",
     "text": [
      "0\n"
     ]
    }
   ],
   "source": [
    "print((6 + 3) - (6 + 3)) \n"
   ]
  },
  {
   "cell_type": "markdown",
   "id": "15b3366e-efcb-4f83-88d9-283cfcf01be0",
   "metadata": {},
   "source": [
    "The precedence order is described in the table below, starting with the highest precedence at the top:\n",
    "\n",
    "|Operator |\tDescription| \t\n",
    "|---------|-------------|\n",
    "|() \t|Parentheses \t|\n",
    "|** \t|Exponentiation \t|\n",
    "|+x  -x  ~x \t|Unary plus, unary minus, and bitwise NOT \t|\n",
    "|*  /  //  % \t|Multiplication, division, floor division, and modulus \t|\n",
    "|+  - \t|Addition and subtraction \t|\n",
    "|<<  >> \t|Bitwise left and right shifts \t|\n",
    "|& |\tBitwise AND \t|\n",
    "|^ \t|Bitwise XOR \t|\n",
    "|| \t|Bitwise OR \t|\n",
    "|==  !=  >  >=  <  <= | is  is not  in  not in  \tComparisons, identity, and membership operators \t|\n",
    "|not \t|Logical NOT \t|\n",
    "|and \t|AND \t|\n",
    "|or \t|OR|"
   ]
  },
  {
   "cell_type": "markdown",
   "id": "bca4c54e-a96c-4064-b32b-80b9ecc5af9d",
   "metadata": {},
   "source": [
    "If two operators have the same precedence, the expression is evaluated from left to right.\n",
    "\n",
    "Example\n",
    "\n",
    "Addition + and subtraction - has the same precedence, and therefore we evaluate the expression from left to right:"
   ]
  },
  {
   "cell_type": "code",
   "execution_count": 6,
   "id": "22088e28-82fe-4196-a12d-3e10d6437480",
   "metadata": {},
   "outputs": [
    {
     "name": "stdout",
     "output_type": "stream",
     "text": [
      "5\n"
     ]
    }
   ],
   "source": [
    "print(5 + 4 - 7 + 3) "
   ]
  },
  {
   "cell_type": "code",
   "execution_count": null,
   "id": "84b6bde8-53b4-4d7b-886d-fd545bf4e38e",
   "metadata": {},
   "outputs": [],
   "source": []
  }
 ],
 "metadata": {
  "kernelspec": {
   "display_name": "Python 3 (ipykernel)",
   "language": "python",
   "name": "python3"
  },
  "language_info": {
   "codemirror_mode": {
    "name": "ipython",
    "version": 3
   },
   "file_extension": ".py",
   "mimetype": "text/x-python",
   "name": "python",
   "nbconvert_exporter": "python",
   "pygments_lexer": "ipython3",
   "version": "3.8.10"
  }
 },
 "nbformat": 4,
 "nbformat_minor": 5
}

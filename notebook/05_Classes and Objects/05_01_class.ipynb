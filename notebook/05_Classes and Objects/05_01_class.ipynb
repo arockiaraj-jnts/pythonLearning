{
 "cells": [
  {
   "cell_type": "markdown",
   "id": "9501aa16-efe3-499b-9d76-28cbbfd85640",
   "metadata": {},
   "source": [
    "# Classes and Objects"
   ]
  },
  {
   "cell_type": "markdown",
   "id": "5997549a-ec4c-4217-a258-9dbb098c6118",
   "metadata": {},
   "source": [
    "Python is an object oriented programming language.\n",
    "\n",
    "Almost everything in Python is an object, with its properties and methods.\n",
    "\n",
    "A Class is like an object constructor, or a \"blueprint\" for creating objects."
   ]
  },
  {
   "cell_type": "markdown",
   "id": "1be2a6aa-c0ed-445d-95b4-86d8d022a6bf",
   "metadata": {},
   "source": [
    "#### Create a Class\n",
    "\n",
    "To create a class, use the keyword class:"
   ]
  },
  {
   "cell_type": "code",
   "execution_count": 1,
   "id": "23c2abcf-e98c-4dc6-b193-17c20738ba2d",
   "metadata": {},
   "outputs": [],
   "source": [
    "class MyClass:\n",
    "  x = 5"
   ]
  },
  {
   "cell_type": "markdown",
   "id": "8fd1e1b4-f873-40f1-94ef-2ce736abadb2",
   "metadata": {},
   "source": [
    "#### Create Object\n",
    "\n",
    "Now we can use the class named MyClass to create objects:"
   ]
  },
  {
   "cell_type": "code",
   "execution_count": 3,
   "id": "71b2488b-9e2d-455a-93f9-d5fc901d3b04",
   "metadata": {},
   "outputs": [
    {
     "name": "stdout",
     "output_type": "stream",
     "text": [
      "5\n"
     ]
    }
   ],
   "source": [
    "p1 = MyClass()\n",
    "print(p1.x) "
   ]
  },
  {
   "cell_type": "markdown",
   "id": "c8de836d-152d-4a31-9d38-d8570e0e2388",
   "metadata": {},
   "source": [
    " #### The __init__() Function\n",
    "\n",
    "The examples above are classes and objects in their simplest form, and are not really useful in real life applications.\n",
    "\n",
    "To understand the meaning of classes we have to understand the built-in __init__() function.\n",
    "\n",
    "All classes have a function called __init__(), which is always executed when the class is being initiated.\n",
    "\n",
    "Use the __init__() function to assign values to object properties, or other operations that are necessary to do when the object is being created:"
   ]
  },
  {
   "cell_type": "code",
   "execution_count": 5,
   "id": "9dce66ca-f15b-4e83-9a79-fd912f658679",
   "metadata": {},
   "outputs": [
    {
     "name": "stdout",
     "output_type": "stream",
     "text": [
      "John\n",
      "36\n"
     ]
    }
   ],
   "source": [
    "class Person:\n",
    "  def __init__(self, name, age):\n",
    "    self.name = name\n",
    "    self.age = age\n",
    "\n",
    "p1 = Person(\"John\", 36)\n",
    "\n",
    "print(p1.name)\n",
    "print(p1.age) "
   ]
  },
  {
   "cell_type": "markdown",
   "id": "2b81dea2-760a-4f3c-842e-e2da7ea71e64",
   "metadata": {},
   "source": [
    "The __init__() function is called automatically every time the class is being used to create a new object."
   ]
  },
  {
   "cell_type": "markdown",
   "id": "7c3d87ba-cf27-4070-b908-8f41d170c0a9",
   "metadata": {},
   "source": [
    "##### class Person:\n",
    "\n",
    "    This line defines a new class called Person. A class is like a blueprint for creating objects (specific instances of the class).\n",
    "\n",
    "##### def __init__(self, name, age):\n",
    "\n",
    "    This is the constructor method. It's a special method in Python that is automatically called when you create a new object from a class.\n",
    "\n",
    "    self refers to the instance of the class being created.\n",
    "\n",
    "    name and age are parameters that you pass when you create a new Person.\n",
    "\n",
    "##### self.name = name and self.age = age\n",
    "\n",
    "    These lines store the passed-in name and age values in the instance (object).\n",
    "\n",
    "    This allows each Person object to remember its own name and age.\n",
    "\n",
    "##### p1 = Person(\"John\", 36)\n",
    "\n",
    "    Here, you're creating an instance of the Person class and passing \"John\" as the name and 36 as the age.\n",
    "\n",
    "    p1 is now an object of class Person with p1.name == \"John\" and p1.age == 36.\n",
    "\n",
    "##### print(p1.name) and print(p1.age)\n",
    "\n",
    "    These lines print the values of the name and age attributes of the p1 object."
   ]
  },
  {
   "cell_type": "markdown",
   "id": "170362fb-4a1d-4873-84b9-0eeacfdc724f",
   "metadata": {},
   "source": [
    "####  the  __str__() Function\n",
    "The __str__() function in a Python class is a special method used to define what gets returned when you convert an object to a string — such as when you use print() on an object."
   ]
  },
  {
   "cell_type": "markdown",
   "id": "e0d10021-7618-4616-9a04-ffca3994cc33",
   "metadata": {},
   "source": [
    "It gives a human-readable representation of your object."
   ]
  },
  {
   "cell_type": "code",
   "execution_count": 6,
   "id": "72426d0f-e531-4609-90c3-d2a450867fe5",
   "metadata": {},
   "outputs": [
    {
     "name": "stdout",
     "output_type": "stream",
     "text": [
      "John is 36 years old\n"
     ]
    }
   ],
   "source": [
    "class Person:\n",
    "    def __init__(self, name, age):\n",
    "        self.name = name\n",
    "        self.age = age\n",
    "\n",
    "    def __str__(self):\n",
    "        return f\"{self.name} is {self.age} years old\"\n",
    "\n",
    "p1 = Person(\"John\", 36)\n",
    "print(p1)  # This will now use __str__()\n"
   ]
  },
  {
   "cell_type": "code",
   "execution_count": null,
   "id": "28b49817-9980-4960-abe2-91898ed962f2",
   "metadata": {},
   "outputs": [],
   "source": []
  },
  {
   "cell_type": "markdown",
   "id": "bf05ebb8-6399-4843-8ea7-5470c71f3eaa",
   "metadata": {},
   "source": [
    "Without __str__(), printing the object would look like this:"
   ]
  },
  {
   "cell_type": "code",
   "execution_count": 7,
   "id": "1640dc0a-6017-43ee-bb64-ed92b4f8bae8",
   "metadata": {},
   "outputs": [
    {
     "name": "stdout",
     "output_type": "stream",
     "text": [
      "<__main__.Person object at 0x7fcaa4039520>\n"
     ]
    }
   ],
   "source": [
    "class Person:\n",
    "    def __init__(self, name, age):\n",
    "        self.name = name\n",
    "        self.age = age\n",
    "\n",
    "   # def __str__(self):\n",
    "    #    return f\"{self.name} is {self.age} years old\"\n",
    "\n",
    "p1 = Person(\"John\", 36)\n",
    "print(p1)  # This will now use __str__()"
   ]
  },
  {
   "cell_type": "markdown",
   "id": "10760f98-4797-400b-a646-ae85bb53ac59",
   "metadata": {},
   "source": [
    "Which isn't helpful or readable."
   ]
  },
  {
   "cell_type": "markdown",
   "id": "6d5e7c45-8b54-46de-a0b5-a7dd28cb6f01",
   "metadata": {},
   "source": [
    "##### Object Methods\n",
    "\n",
    "Objects can also contain methods. Methods in objects are functions that belong to the object.\n",
    "\n"
   ]
  },
  {
   "cell_type": "code",
   "execution_count": 8,
   "id": "1f76d43f-5393-48f2-94fa-4a776aa0f6ed",
   "metadata": {},
   "outputs": [
    {
     "name": "stdout",
     "output_type": "stream",
     "text": [
      "Hello my name is John\n"
     ]
    }
   ],
   "source": [
    "class Person:\n",
    "  def __init__(self, name, age):\n",
    "    self.name = name\n",
    "    self.age = age\n",
    "\n",
    "  def myfunc(self):\n",
    "    print(\"Hello my name is \" + self.name)\n",
    "\n",
    "p1 = Person(\"John\", 36)\n",
    "p1.myfunc() "
   ]
  },
  {
   "cell_type": "markdown",
   "id": "f8a77d73-ef3f-48c0-a212-edc178fdf449",
   "metadata": {},
   "source": [
    "#### The self Parameter\n",
    "\n",
    "The self parameter is a reference to the current instance of the class, and is used to access variables that belong to the class.\n",
    "\n",
    "It does not have to be named self, you can call it whatever you like, but it has to be the first parameter of any function in the class:"
   ]
  },
  {
   "cell_type": "code",
   "execution_count": 9,
   "id": "bc94769b-22e5-462e-840a-e74a7d8e9482",
   "metadata": {},
   "outputs": [],
   "source": [
    "class Person:\n",
    "  def __init__(mysillyobject, name, age):\n",
    "    mysillyobject.name = name\n",
    "    mysillyobject.age = age\n",
    "\n",
    "  def myfunc(abc):\n",
    "    print(\"Hello my name is \" + abc.name)\n",
    "\n",
    "p1 = Person(\"John\", 36)\n"
   ]
  },
  {
   "cell_type": "markdown",
   "id": "4b63ba3b-4fdb-4423-ba9b-765cc2844a12",
   "metadata": {},
   "source": [
    "##### Modify Object Properties\n",
    "\n",
    "You can modify properties on objects like this:\n",
    "Example\n",
    "\n",
    "Set the age of p1 to 40:"
   ]
  },
  {
   "cell_type": "code",
   "execution_count": 10,
   "id": "f2891e9d-8d6e-4f78-b4f9-1684a5395b10",
   "metadata": {},
   "outputs": [],
   "source": [
    "p1.age = 40"
   ]
  },
  {
   "cell_type": "markdown",
   "id": "c528f559-84f9-494e-b875-6d6c78da76fd",
   "metadata": {},
   "source": [
    "#### Delete Object Properties\n",
    "\n",
    "You can delete properties on objects by using the del keyword:\n",
    "Example\n",
    "\n",
    "Delete the age property from the p1 object:"
   ]
  },
  {
   "cell_type": "code",
   "execution_count": 12,
   "id": "c6803388-f602-4f7d-9ec3-0037c94ecc5d",
   "metadata": {},
   "outputs": [
    {
     "ename": "AttributeError",
     "evalue": "'Person' object has no attribute 'age'",
     "output_type": "error",
     "traceback": [
      "\u001b[0;31m---------------------------------------------------------------------------\u001b[0m",
      "\u001b[0;31mAttributeError\u001b[0m                            Traceback (most recent call last)",
      "Cell \u001b[0;32mIn[12], line 13\u001b[0m\n\u001b[1;32m      9\u001b[0m p1 \u001b[38;5;241m=\u001b[39m Person(\u001b[38;5;124m\"\u001b[39m\u001b[38;5;124mJohn\u001b[39m\u001b[38;5;124m\"\u001b[39m, \u001b[38;5;241m36\u001b[39m)\n\u001b[1;32m     11\u001b[0m \u001b[38;5;28;01mdel\u001b[39;00m p1\u001b[38;5;241m.\u001b[39mage\n\u001b[0;32m---> 13\u001b[0m \u001b[38;5;28mprint\u001b[39m(\u001b[43mp1\u001b[49m\u001b[38;5;241;43m.\u001b[39;49m\u001b[43mage\u001b[49m)\n",
      "\u001b[0;31mAttributeError\u001b[0m: 'Person' object has no attribute 'age'"
     ]
    }
   ],
   "source": [
    "class Person:\n",
    "  def __init__(self, name, age):\n",
    "    self.name = name\n",
    "    self.age = age\n",
    "\n",
    "  def myfunc(self):\n",
    "    print(\"Hello my name is \" + self.name)\n",
    "\n",
    "p1 = Person(\"John\", 36)\n",
    "\n",
    "del p1.age\n",
    "\n",
    "print(p1.age)"
   ]
  },
  {
   "cell_type": "markdown",
   "id": "28adfb8c-3371-415d-8747-90d594a44582",
   "metadata": {},
   "source": [
    "#### Delete Objects\n",
    "\n",
    "You can delete objects by using the del keyword:"
   ]
  },
  {
   "cell_type": "code",
   "execution_count": 14,
   "id": "6a60e6ca-6f89-4cca-98ae-792e40965693",
   "metadata": {},
   "outputs": [
    {
     "ename": "NameError",
     "evalue": "name 'p1' is not defined",
     "output_type": "error",
     "traceback": [
      "\u001b[0;31m---------------------------------------------------------------------------\u001b[0m",
      "\u001b[0;31mNameError\u001b[0m                                 Traceback (most recent call last)",
      "Cell \u001b[0;32mIn[14], line 13\u001b[0m\n\u001b[1;32m      9\u001b[0m p1 \u001b[38;5;241m=\u001b[39m Person(\u001b[38;5;124m\"\u001b[39m\u001b[38;5;124mJohn\u001b[39m\u001b[38;5;124m\"\u001b[39m, \u001b[38;5;241m36\u001b[39m)\n\u001b[1;32m     11\u001b[0m \u001b[38;5;28;01mdel\u001b[39;00m p1\n\u001b[0;32m---> 13\u001b[0m \u001b[38;5;28mprint\u001b[39m(\u001b[43mp1\u001b[49m)\n",
      "\u001b[0;31mNameError\u001b[0m: name 'p1' is not defined"
     ]
    }
   ],
   "source": [
    "class Person:\n",
    "  def __init__(self, name, age):\n",
    "    self.name = name\n",
    "    self.age = age\n",
    "\n",
    "  def myfunc(self):\n",
    "    print(\"Hello my name is \" + self.name)\n",
    "\n",
    "p1 = Person(\"John\", 36)\n",
    "\n",
    "del p1\n",
    "\n",
    "print(p1)"
   ]
  },
  {
   "cell_type": "markdown",
   "id": "7c8c2226-5d20-432e-bd7f-568a7d9abde5",
   "metadata": {},
   "source": [
    "#### The pass Statement\n",
    "\n",
    "class definitions cannot be empty, but if you for some reason have a class definition with no content, put in the pass statement to avoid getting an error."
   ]
  },
  {
   "cell_type": "code",
   "execution_count": 15,
   "id": "420669c9-bc45-443c-8938-c9913b5e9325",
   "metadata": {},
   "outputs": [],
   "source": [
    "class Person:\n",
    "  pass"
   ]
  },
  {
   "cell_type": "code",
   "execution_count": null,
   "id": "874ebdc9-354f-423f-98a6-13879dd0593b",
   "metadata": {},
   "outputs": [],
   "source": []
  }
 ],
 "metadata": {
  "kernelspec": {
   "display_name": "Python 3 (ipykernel)",
   "language": "python",
   "name": "python3"
  },
  "language_info": {
   "codemirror_mode": {
    "name": "ipython",
    "version": 3
   },
   "file_extension": ".py",
   "mimetype": "text/x-python",
   "name": "python",
   "nbconvert_exporter": "python",
   "pygments_lexer": "ipython3",
   "version": "3.8.10"
  }
 },
 "nbformat": 4,
 "nbformat_minor": 5
}

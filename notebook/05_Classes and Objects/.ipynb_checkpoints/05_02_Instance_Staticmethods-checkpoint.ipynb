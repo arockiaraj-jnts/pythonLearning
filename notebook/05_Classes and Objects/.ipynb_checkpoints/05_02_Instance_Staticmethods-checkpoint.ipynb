{
 "cells": [
  {
   "cell_type": "markdown",
   "id": "705f3eac-26a2-4062-acd6-3e97fbb51395",
   "metadata": {},
   "source": [
    "# instance methods and static methods"
   ]
  },
  {
   "cell_type": "markdown",
   "id": "e15926c5-cf9d-4a06-9665-e4b4412afb72",
   "metadata": {},
   "source": [
    "### 1.Instance Methods"
   ]
  },
  {
   "cell_type": "markdown",
   "id": "0e9eca1a-ef37-47ae-886f-d5ff9eab6262",
   "metadata": {},
   "source": [
    "The most common type of method.\n",
    "\n",
    "Can access and modify object (instance) attributes.\n",
    "\n",
    "Always take self as the first parameter."
   ]
  },
  {
   "cell_type": "code",
   "execution_count": 3,
   "id": "7c2f38df-916f-4255-940a-4bda3b51c019",
   "metadata": {},
   "outputs": [
    {
     "name": "stdout",
     "output_type": "stream",
     "text": [
      "Hello, my name is vimal\n"
     ]
    }
   ],
   "source": [
    "class Person:\n",
    "    def __init__(self, name):\n",
    "        self.name = name\n",
    "\n",
    "    def greet(self):\n",
    "        #self.name='vimal'\n",
    "        return f\"Hello, my name is {self.name}\"  # Accessing instance data\n",
    "p = Person(\"Alice\")\n",
    "#p.name='vimal'\n",
    "print(p.greet())  # Output: Hello, my name is Alice\n"
   ]
  },
  {
   "cell_type": "markdown",
   "id": "6653e488-16ef-40cd-b72f-3668bb625602",
   "metadata": {},
   "source": [
    "### 2. Static Methods"
   ]
  },
  {
   "cell_type": "markdown",
   "id": "fa0e128b-b194-45d8-ba6b-fbf7991b8e73",
   "metadata": {},
   "source": [
    "Do not access or modify instance or class attributes.\n",
    "\n",
    "Behave like regular functions but live inside the class.\n",
    "\n",
    "Marked with @staticmethod decorator.\n",
    "\n",
    "Do not take self or cls as the first argument."
   ]
  },
  {
   "cell_type": "code",
   "execution_count": 5,
   "id": "9d951369-bde5-46ae-8b6b-3aa5575dd659",
   "metadata": {},
   "outputs": [
    {
     "name": "stdout",
     "output_type": "stream",
     "text": [
      "8\n"
     ]
    }
   ],
   "source": [
    "class Math:\n",
    "    @staticmethod\n",
    "    def add(x, y):\n",
    "        return x + y\n",
    "print(Math.add(3, 5))  # Output: 8\n"
   ]
  },
  {
   "cell_type": "markdown",
   "id": "fdc2fdbf-2d30-4b35-9665-ddd44db0356a",
   "metadata": {},
   "source": [
    "Use @staticmethod when the method logically belongs to the class, but doesn't need instance or class data."
   ]
  },
  {
   "cell_type": "markdown",
   "id": "52f58f19-fe64-41ae-a370-588284e2e0b2",
   "metadata": {},
   "source": [
    "### you can access a static method through an object — but it’s not recommended."
   ]
  },
  {
   "cell_type": "code",
   "execution_count": 6,
   "id": "ec8beeeb-616a-4d61-a5e2-31ab702ea67e",
   "metadata": {},
   "outputs": [
    {
     "name": "stdout",
     "output_type": "stream",
     "text": [
      "7\n",
      "11\n"
     ]
    }
   ],
   "source": [
    "class Math:\n",
    "    @staticmethod\n",
    "    def add(x, y):\n",
    "        return x + y\n",
    "\n",
    "# Accessing through class (preferred)\n",
    "print(Math.add(3, 4))  # Output: 7\n",
    "\n",
    "# Accessing through object (allowed, but not recommended)\n",
    "m = Math()\n",
    "\n",
    "print(m.add(5, 6))     # Output: 11\n"
   ]
  },
  {
   "cell_type": "markdown",
   "id": "0731f22f-27b3-4b1b-adcc-483e567ab411",
   "metadata": {},
   "source": [
    "Best Practice:\n",
    "\n",
    "    Always call static methods using the class name: ClassName.method()"
   ]
  },
  {
   "cell_type": "markdown",
   "id": "c0ef8fa1-4500-4c6d-a6c0-5d7bd64f9f1d",
   "metadata": {},
   "source": [
    "#### Create a Parent Class"
   ]
  },
  {
   "cell_type": "markdown",
   "id": "4fd55c34-2522-416a-ab3f-8ddf1419337d",
   "metadata": {},
   "source": [
    "Any class can be a parent class, so the syntax is the same as creating any other class:\n"
   ]
  },
  {
   "cell_type": "code",
   "execution_count": 15,
   "id": "377bfdb4-583f-4f89-b427-d190f5fef32e",
   "metadata": {},
   "outputs": [
    {
     "name": "stdout",
     "output_type": "stream",
     "text": [
      "John Doe\n"
     ]
    }
   ],
   "source": [
    "class Person:\n",
    "  def __init__(self, fname, lname):\n",
    "    self.firstname = fname\n",
    "    self.lastname = lname\n",
    "\n",
    "  def printname(self):\n",
    "    print(self.firstname, self.lastname)\n",
    "\n",
    "#Use the Person class to create an object, and then execute the printname method:\n",
    "\n",
    "x = Person(\"John\", \"Doe\")\n",
    "x.printname() "
   ]
  },
  {
   "cell_type": "markdown",
   "id": "7a3fffeb-bfc2-4022-9847-5f0a9a3c35ef",
   "metadata": {},
   "source": [
    "#### Create a Child Class\n",
    "\n",
    "To create a class that inherits the functionality from another class, send the parent class as a parameter when creating the child class:"
   ]
  },
  {
   "cell_type": "code",
   "execution_count": 9,
   "id": "7a9a78b3-d970-48c5-bd55-a9ce6372fa45",
   "metadata": {},
   "outputs": [],
   "source": [
    " class Student(Person):\n",
    "  pass "
   ]
  },
  {
   "cell_type": "markdown",
   "id": "a2178ec9-d171-484c-b069-0fcb484e6f72",
   "metadata": {},
   "source": [
    "Now the Student class has the same properties and methods as the Person class.\n"
   ]
  },
  {
   "cell_type": "code",
   "execution_count": null,
   "id": "b1749fe4-654c-4fd2-9ba9-28e3c18ae416",
   "metadata": {},
   "outputs": [],
   "source": [
    "#Use the Student class to create an object, and then execute the printname method:\n",
    "x = Student(\"Mike\", \"Olsen\")\n",
    "x.printname() "
   ]
  },
  {
   "cell_type": "markdown",
   "id": "7ccfc412-d8e4-4149-8e03-5b98a97c3b21",
   "metadata": {},
   "source": [
    "### Add the __init__() Function\n",
    "\n",
    "So far we have created a child class that inherits the properties and methods from its parent.\n",
    "\n",
    "We want to add the \"__init__() \" class Student(Person):\n",
    "  def __init__(self, fname, lname):function to the child class (instead of the pass keyword).\n",
    "\n",
    "Note: The __init__() function is called automatically every time the class is being used to create a new object.\n"
   ]
  },
  {
   "cell_type": "code",
   "execution_count": 25,
   "id": "f4fc9a85-79a8-4de1-a2e9-8f7d352b02c9",
   "metadata": {},
   "outputs": [
    {
     "name": "stdout",
     "output_type": "stream",
     "text": [
      "Mike\n"
     ]
    }
   ],
   "source": [
    "class Student(Person):\n",
    "  def __init__(self, fname, lname):\n",
    "    self.fname2=fname;  \n",
    "    print (self.fname2)\n",
    "x = Student(\"Mike\", \"Olsen\")\n"
   ]
  },
  {
   "cell_type": "markdown",
   "id": "c194d697-4d35-4b37-a850-8622cda2c3db",
   "metadata": {},
   "source": [
    "### To keep the inheritance of the parent's __init__() function, add a call to the parent's __init__() function:"
   ]
  },
  {
   "cell_type": "code",
   "execution_count": 45,
   "id": "25c816c8-693b-4ddf-9955-79342eed5941",
   "metadata": {},
   "outputs": [
    {
     "name": "stdout",
     "output_type": "stream",
     "text": [
      "abc A\n"
     ]
    }
   ],
   "source": [
    "class Person_parent:\n",
    "    def __init__(self, fname, lname):\n",
    "        self.fname2 = fname\n",
    "        self.lname = lname\n",
    "   \n",
    "\n",
    "class Student_child(Person_parent):\n",
    "    def __init__(self, fname, lname, student_id):\n",
    "        super().__init__(fname, lname)  # Calls Person.__init__()\n",
    "        self.student_id = student_id\n",
    "        print(self.student_id,self.fname2)\n",
    "\n",
    "x=Student_child('A','b','abc')  \n"
   ]
  },
  {
   "cell_type": "markdown",
   "id": "2d889141-06e4-4947-bc20-8355a2e32d6f",
   "metadata": {},
   "source": [
    "By using the super() function, you do not have to use the name of the parent element, it will automatically inherit the methods and properties from its parent."
   ]
  },
  {
   "cell_type": "markdown",
   "id": "2f706bab-0755-42aa-8567-fb54d91c80bd",
   "metadata": {},
   "source": [
    "### Add Properties"
   ]
  },
  {
   "cell_type": "code",
   "execution_count": 37,
   "id": "aad3dbdc-c9fe-4f72-be37-6ad4375dc962",
   "metadata": {},
   "outputs": [
    {
     "name": "stdout",
     "output_type": "stream",
     "text": [
      "Welcome Arul Raj to the class of 2018\n"
     ]
    }
   ],
   "source": [
    "class Student(Person):\n",
    "  def __init__(self, fname, lname, year):\n",
    "    super().__init__(fname, lname)\n",
    "    self.graduationyear = year  #new property added\n",
    "\n",
    "  def welcome(self):  # new metod added\n",
    "    print(\"Welcome\", self.firstname, self.lastname, \"to the class of\", self.graduationyear) \n",
    "y=Student('Arul','Raj','2018')    \n",
    "y.welcome()"
   ]
  },
  {
   "cell_type": "markdown",
   "id": "6e28b119-b507-431b-b90f-419e6eea4492",
   "metadata": {},
   "source": [
    "### Access parent class method via child class object"
   ]
  },
  {
   "cell_type": "code",
   "execution_count": null,
   "id": "5ba4a4af-69df-400b-8c4b-e7a1de021297",
   "metadata": {},
   "outputs": [],
   "source": [
    "class Person_parent:\n",
    "    def __init__(self, fname, lname):\n",
    "        self.fname = fname\n",
    "        self.lname = lname\n",
    "    def welcome_msg(self):\n",
    "        print('wecome',self.fname)\n",
    "\n",
    "class Student_child(Person_parent):\n",
    "    def __init__(self, fname, lname, student_id):\n",
    "        super().__init__(fname, lname)  # Calls Person.__init__()\n",
    "        self.student_id = student_id\n",
    "        print(self.student_id)\n",
    "\n",
    "x=Student_child('A','b','abc')  \n",
    "x.welcome_msg()"
   ]
  }
 ],
 "metadata": {
  "kernelspec": {
   "display_name": "Python 3 (ipykernel)",
   "language": "python",
   "name": "python3"
  },
  "language_info": {
   "codemirror_mode": {
    "name": "ipython",
    "version": 3
   },
   "file_extension": ".py",
   "mimetype": "text/x-python",
   "name": "python",
   "nbconvert_exporter": "python",
   "pygments_lexer": "ipython3",
   "version": "3.8.10"
  }
 },
 "nbformat": 4,
 "nbformat_minor": 5
}

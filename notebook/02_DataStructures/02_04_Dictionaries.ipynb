{
 "cells": [
  {
   "cell_type": "markdown",
   "id": "55edcec3-24d8-4ca7-ac50-cec9cd5eeb10",
   "metadata": {},
   "source": [
    "# Dictionaries"
   ]
  },
  {
   "cell_type": "markdown",
   "id": "45671902-f168-42cd-bdf8-59206fc0fef0",
   "metadata": {},
   "source": [
    "Dictionaries are used to store data values in key:value pairs.\n",
    "\n",
    "A dictionary is a collection which is ordered*, changeable and do not allow duplicates.\n",
    "\n",
    "As of Python version 3.7, dictionaries are ordered. In Python 3.6 and earlier, dictionaries are unordered.\n",
    "\n",
    "Dictionaries are written with curly brackets, and have keys and values:"
   ]
  },
  {
   "cell_type": "code",
   "execution_count": 1,
   "id": "dd680f41-1000-4aea-9c48-679fb99cb10e",
   "metadata": {},
   "outputs": [
    {
     "name": "stdout",
     "output_type": "stream",
     "text": [
      "{'brand': 'Ford', 'model': 'Mustang', 'year': 1964}\n"
     ]
    }
   ],
   "source": [
    "thisdict =\t{\n",
    "  \"brand\": \"Ford\",\n",
    "  \"model\": \"Mustang\",\n",
    "  \"year\": 1964\n",
    "}\n",
    "print(thisdict)\n"
   ]
  },
  {
   "cell_type": "markdown",
   "id": "8aae050c-802d-42e6-8887-80d345bfaad3",
   "metadata": {},
   "source": [
    "#### Dictionary Items\n",
    "\n",
    "Dictionary items are ordered, changeable, and do not allow duplicates.\n",
    "\n",
    "Dictionary items are presented in key:value pairs, and can be referred to by using the key name."
   ]
  },
  {
   "cell_type": "code",
   "execution_count": 2,
   "id": "e4bd4bcb-7318-4208-9b04-2926954fa3ab",
   "metadata": {},
   "outputs": [
    {
     "name": "stdout",
     "output_type": "stream",
     "text": [
      "Ford\n"
     ]
    }
   ],
   "source": [
    "thisdict =\t{\n",
    "  \"brand\": \"Ford\",\n",
    "  \"model\": \"Mustang\",\n",
    "  \"year\": 1964\n",
    "}\n",
    "print(thisdict[\"brand\"])"
   ]
  },
  {
   "cell_type": "markdown",
   "id": "09cfe58e-97d0-41ad-b6fe-5165b762bfe0",
   "metadata": {},
   "source": [
    "#### Ordered or Unordered?\n",
    "\n",
    "As of Python version 3.7, dictionaries are ordered. In Python 3.6 and earlier, dictionaries are unordered.\n",
    "\n",
    "When we say that dictionaries are ordered, it means that the items have a defined order, and that order will not change.\n",
    "\n",
    "Unordered means that the items do not have a defined order, you cannot refer to an item by using an index.\n"
   ]
  },
  {
   "cell_type": "markdown",
   "id": "277e9a3c-c066-49ba-9a2b-a7aa9611fe4a",
   "metadata": {},
   "source": [
    "#### Changeable\n",
    "\n",
    "Dictionaries are changeable, meaning that we can change, add or remove items after the dictionary has been created.\n",
    "\n",
    "#### Duplicates Not Allowed\n",
    "\n",
    "Dictionaries cannot have two items with the same key:"
   ]
  },
  {
   "cell_type": "code",
   "execution_count": 3,
   "id": "1efd8224-8663-4d19-8683-43260777bb68",
   "metadata": {},
   "outputs": [
    {
     "name": "stdout",
     "output_type": "stream",
     "text": [
      "{'brand': 'Ford', 'model': 'Mustang', 'year': 2020}\n"
     ]
    }
   ],
   "source": [
    "#Duplicate values will overwrite existing values:\n",
    "thisdict =\t{\n",
    "  \"brand\": \"Ford\",\n",
    "  \"model\": \"Mustang\",\n",
    "  \"year\": 1964,\n",
    "  \"year\": 2020\n",
    "}\n",
    "print(thisdict) "
   ]
  },
  {
   "cell_type": "markdown",
   "id": "7253ce14-d337-449c-a746-6bf23d18f101",
   "metadata": {},
   "source": [
    "#### Dictionary Length\n",
    "\n",
    "To determine how many items a dictionary has, use the len() function:"
   ]
  },
  {
   "cell_type": "code",
   "execution_count": 4,
   "id": "a6908531-a135-4008-9f79-5a0994e2e937",
   "metadata": {},
   "outputs": [
    {
     "name": "stdout",
     "output_type": "stream",
     "text": [
      "3\n"
     ]
    }
   ],
   "source": [
    "print(len(thisdict))"
   ]
  },
  {
   "cell_type": "markdown",
   "id": "9693bae5-e71a-432f-bc4d-ac9f8a85bf0d",
   "metadata": {},
   "source": [
    "#### Dictionary Items - Data Types\n",
    "\n",
    "The values in dictionary items can be of any data type:\n",
    "Example\n",
    "\n",
    "String, int, boolean, and list data types:"
   ]
  },
  {
   "cell_type": "code",
   "execution_count": 5,
   "id": "c658c242-b68b-4424-ad62-ad26a3ade161",
   "metadata": {},
   "outputs": [],
   "source": [
    "thisdict =\t{\n",
    "  \"brand\": \"Ford\",\n",
    "  \"electric\": False,\n",
    "  \"year\": 1964,\n",
    "  \"colors\": [\"red\", \"white\", \"blue\"]\n",
    "} "
   ]
  },
  {
   "cell_type": "markdown",
   "id": "503260ab-459e-4f74-adb3-750b2d9cb49b",
   "metadata": {},
   "source": [
    "#### type()\n",
    "\n",
    "From Python's perspective, dictionaries are defined as objects with the data type 'dict':\n",
    "\n",
    "<class 'dict'> "
   ]
  },
  {
   "cell_type": "code",
   "execution_count": 6,
   "id": "50d1e8db-b1e1-4e16-b58d-0b0424b2b611",
   "metadata": {},
   "outputs": [
    {
     "name": "stdout",
     "output_type": "stream",
     "text": [
      "<class 'dict'>\n"
     ]
    }
   ],
   "source": [
    "thisdict =\t{\n",
    "  \"brand\": \"Ford\",\n",
    "  \"model\": \"Mustang\",\n",
    "  \"year\": 1964\n",
    "}\n",
    "print(type(thisdict)) "
   ]
  },
  {
   "cell_type": "markdown",
   "id": "28b67e73-7f00-4ce6-a8e0-ec583ad505a6",
   "metadata": {},
   "source": [
    "#### The dict() Constructor\n",
    "\n",
    "It is also possible to use the dict() constructor to make a dictionary.\n",
    "\n",
    "Example\n",
    "\n",
    "Using the dict() method to make a dictionary:"
   ]
  },
  {
   "cell_type": "markdown",
   "id": "ea965b9f-9cc1-4cab-bb7a-82d509c90a63",
   "metadata": {},
   "source": [
    "## Access Dictionary Items"
   ]
  },
  {
   "cell_type": "markdown",
   "id": "01a56bd3-153d-4c46-a0dd-a238f667986b",
   "metadata": {},
   "source": [
    "You can access the items of a dictionary by referring to its key name, inside square brackets:"
   ]
  },
  {
   "cell_type": "code",
   "execution_count": 9,
   "id": "bbc97199-c099-44a5-9c41-d8099d59b58f",
   "metadata": {},
   "outputs": [
    {
     "data": {
      "text/plain": [
       "'Mustang'"
      ]
     },
     "execution_count": 9,
     "metadata": {},
     "output_type": "execute_result"
    }
   ],
   "source": [
    "thisdict =\t{\n",
    "  \"brand\": \"Ford\",\n",
    "  \"model\": \"Mustang\",\n",
    "  \"year\": 1964\n",
    "}\n",
    "x = thisdict[\"model\"]\n",
    "x"
   ]
  },
  {
   "cell_type": "markdown",
   "id": "9c974cea-ed3c-4338-97aa-c1ca65207b18",
   "metadata": {},
   "source": [
    "There is also a method called get() that will give you the same result:"
   ]
  },
  {
   "cell_type": "code",
   "execution_count": 10,
   "id": "08b87ef7-945c-488f-9d30-5df1605454af",
   "metadata": {},
   "outputs": [],
   "source": [
    "x = thisdict.get(\"model\")"
   ]
  },
  {
   "cell_type": "markdown",
   "id": "c9ebaab1-1836-44c6-b55d-2ff288be336a",
   "metadata": {},
   "source": [
    "## Change Dictionary Items"
   ]
  },
  {
   "cell_type": "markdown",
   "id": "072aa64b-6645-4c08-94da-196a7167f523",
   "metadata": {},
   "source": [
    "You can change the value of a specific item by referring to its key name:"
   ]
  },
  {
   "cell_type": "code",
   "execution_count": 12,
   "id": "ef7cfbd6-40e7-4ca2-9c29-e0c503ae669e",
   "metadata": {},
   "outputs": [],
   "source": [
    "thisdict =\t{\n",
    "  \"brand\": \"Ford\",\n",
    "  \"model\": \"Mustang\",\n",
    "  \"year\": 1964\n",
    "}\n",
    "thisdict[\"year\"] = 2018"
   ]
  },
  {
   "cell_type": "markdown",
   "id": "a8f3ed0e-98b4-4a45-9e21-6e438f1ecf08",
   "metadata": {},
   "source": [
    "#### Update Dictionary\n",
    "\n",
    "The update() method will update the dictionary with the items from the given argument.\n",
    "\n",
    "The argument must be a dictionary, or an iterable object with key:value pairs."
   ]
  },
  {
   "cell_type": "code",
   "execution_count": 14,
   "id": "c9ce72d0-30d7-48c7-8a9c-12b9ef24722d",
   "metadata": {},
   "outputs": [
    {
     "data": {
      "text/plain": [
       "{'brand': 'Ford', 'model': 'Mustang', 'year': 2020}"
      ]
     },
     "execution_count": 14,
     "metadata": {},
     "output_type": "execute_result"
    }
   ],
   "source": [
    "thisdict =\t{\n",
    "  \"brand\": \"Ford\",\n",
    "  \"model\": \"Mustang\",\n",
    "  \"year\": 1964\n",
    "}\n",
    "thisdict.update({\"year\": 2020}) \n",
    "thisdict"
   ]
  },
  {
   "cell_type": "markdown",
   "id": "c4d3768a-ce22-4483-956b-f94793f61eff",
   "metadata": {},
   "source": [
    "## Add Dictionary Items"
   ]
  },
  {
   "cell_type": "markdown",
   "id": "8e86268f-93f3-48e6-87df-d8f295327ea6",
   "metadata": {},
   "source": [
    "Adding an item to the dictionary is done by using a new index key and assigning a value to it:"
   ]
  },
  {
   "cell_type": "code",
   "execution_count": 15,
   "id": "0b7857c5-e03a-4cb0-aa9c-a8bacce0bcc6",
   "metadata": {},
   "outputs": [
    {
     "name": "stdout",
     "output_type": "stream",
     "text": [
      "{'brand': 'Ford', 'model': 'Mustang', 'year': 1964, 'color': 'red'}\n"
     ]
    }
   ],
   "source": [
    "thisdict =\t{\n",
    "  \"brand\": \"Ford\",\n",
    "  \"model\": \"Mustang\",\n",
    "  \"year\": 1964\n",
    "}\n",
    "thisdict[\"color\"] = \"red\"\n",
    "print(thisdict)"
   ]
  },
  {
   "cell_type": "markdown",
   "id": "b0cdad55-f815-4ef7-b2bb-ff63b582eb72",
   "metadata": {},
   "source": [
    "### Update Dictionary\n",
    "\n",
    "The update() method will update the dictionary with the items from a given argument. If the item does not exist, the item will be added.\n",
    "\n",
    "The argument must be a dictionary, or an iterable object with key:value pairs."
   ]
  },
  {
   "cell_type": "code",
   "execution_count": 17,
   "id": "49f7bdb7-2b33-47ca-b169-e2241fcf3e8e",
   "metadata": {},
   "outputs": [
    {
     "data": {
      "text/plain": [
       "{'brand': 'Ford', 'model': 'Mustang', 'year': 1964, 'color': 'red'}"
      ]
     },
     "execution_count": 17,
     "metadata": {},
     "output_type": "execute_result"
    }
   ],
   "source": [
    "thisdict =\t{\n",
    "  \"brand\": \"Ford\",\n",
    "  \"model\": \"Mustang\",\n",
    "  \"year\": 1964\n",
    "}\n",
    "thisdict.update({\"color\": \"red\"}) \n",
    "thisdict"
   ]
  },
  {
   "cell_type": "markdown",
   "id": "c1dffa4a-8dec-4cba-a93a-edc5cb995f99",
   "metadata": {},
   "source": [
    "## Remove Dictionary Items"
   ]
  },
  {
   "cell_type": "markdown",
   "id": "571d511c-50e3-4dce-8007-36ab1f05c235",
   "metadata": {},
   "source": [
    "There are several methods to remove items from a dictionary:"
   ]
  },
  {
   "cell_type": "markdown",
   "id": "bbb33447-5b89-4d37-bad8-c4ace40d60df",
   "metadata": {},
   "source": [
    "The pop() method removes the item with the specified key name:"
   ]
  },
  {
   "cell_type": "code",
   "execution_count": 19,
   "id": "b29247ac-6608-435f-bf38-f405a6085300",
   "metadata": {},
   "outputs": [
    {
     "name": "stdout",
     "output_type": "stream",
     "text": [
      "{'brand': 'Ford', 'year': 1964}\n"
     ]
    }
   ],
   "source": [
    "thisdict =\t{\n",
    "  \"brand\": \"Ford\",\n",
    "  \"model\": \"Mustang\",\n",
    "  \"year\": 1964\n",
    "}\n",
    "thisdict.pop(\"model\")\n",
    "print(thisdict) "
   ]
  },
  {
   "cell_type": "markdown",
   "id": "3164a6b0-c4ab-4419-b8de-54efdf256420",
   "metadata": {},
   "source": [
    "The popitem() method removes the last inserted item (in versions before 3.7, a random item is removed instead):"
   ]
  },
  {
   "cell_type": "code",
   "execution_count": 21,
   "id": "d1858b35-9722-47fc-9630-b57457ea9862",
   "metadata": {},
   "outputs": [
    {
     "name": "stdout",
     "output_type": "stream",
     "text": [
      "{'brand': 'Ford', 'model': 'Mustang'}\n"
     ]
    }
   ],
   "source": [
    "thisdict =\t{\n",
    "  \"brand\": \"Ford\",\n",
    "  \"model\": \"Mustang\",\n",
    "  \"year\": 1964\n",
    "}\n",
    "thisdict.popitem()\n",
    "print(thisdict) "
   ]
  },
  {
   "cell_type": "markdown",
   "id": "35f579ca-32fb-4193-85bf-ba6949f5d008",
   "metadata": {},
   "source": [
    "The del keyword removes the item with the specified key name:"
   ]
  },
  {
   "cell_type": "code",
   "execution_count": 22,
   "id": "b8086876-7640-4d03-8849-ca3b9eca2924",
   "metadata": {},
   "outputs": [
    {
     "name": "stdout",
     "output_type": "stream",
     "text": [
      "{'brand': 'Ford', 'year': 1964}\n"
     ]
    }
   ],
   "source": [
    "thisdict =\t{\n",
    "  \"brand\": \"Ford\",\n",
    "  \"model\": \"Mustang\",\n",
    "  \"year\": 1964\n",
    "}\n",
    "del thisdict[\"model\"]\n",
    "print(thisdict) "
   ]
  },
  {
   "cell_type": "markdown",
   "id": "1a570817-a44d-4f70-8c8a-579d932eda95",
   "metadata": {},
   "source": [
    "The del keyword can also delete the dictionary completely:"
   ]
  },
  {
   "cell_type": "code",
   "execution_count": 23,
   "id": "d5e6cd84-d67d-4d68-87a7-26e4613e2318",
   "metadata": {},
   "outputs": [
    {
     "ename": "NameError",
     "evalue": "name 'thisdict' is not defined",
     "output_type": "error",
     "traceback": [
      "\u001b[0;31m---------------------------------------------------------------------------\u001b[0m",
      "\u001b[0;31mNameError\u001b[0m                                 Traceback (most recent call last)",
      "Cell \u001b[0;32mIn[23], line 7\u001b[0m\n\u001b[1;32m      1\u001b[0m thisdict \u001b[38;5;241m=\u001b[39m\t{\n\u001b[1;32m      2\u001b[0m   \u001b[38;5;124m\"\u001b[39m\u001b[38;5;124mbrand\u001b[39m\u001b[38;5;124m\"\u001b[39m: \u001b[38;5;124m\"\u001b[39m\u001b[38;5;124mFord\u001b[39m\u001b[38;5;124m\"\u001b[39m,\n\u001b[1;32m      3\u001b[0m   \u001b[38;5;124m\"\u001b[39m\u001b[38;5;124mmodel\u001b[39m\u001b[38;5;124m\"\u001b[39m: \u001b[38;5;124m\"\u001b[39m\u001b[38;5;124mMustang\u001b[39m\u001b[38;5;124m\"\u001b[39m,\n\u001b[1;32m      4\u001b[0m   \u001b[38;5;124m\"\u001b[39m\u001b[38;5;124myear\u001b[39m\u001b[38;5;124m\"\u001b[39m: \u001b[38;5;241m1964\u001b[39m\n\u001b[1;32m      5\u001b[0m }\n\u001b[1;32m      6\u001b[0m \u001b[38;5;28;01mdel\u001b[39;00m thisdict\n\u001b[0;32m----> 7\u001b[0m \u001b[38;5;28mprint\u001b[39m(\u001b[43mthisdict\u001b[49m) \u001b[38;5;66;03m#this will cause an error because \"thisdict\" no longer exists. \u001b[39;00m\n",
      "\u001b[0;31mNameError\u001b[0m: name 'thisdict' is not defined"
     ]
    }
   ],
   "source": [
    "thisdict =\t{\n",
    "  \"brand\": \"Ford\",\n",
    "  \"model\": \"Mustang\",\n",
    "  \"year\": 1964\n",
    "}\n",
    "del thisdict\n",
    "print(thisdict) #this will cause an error because \"thisdict\" no longer exists. "
   ]
  },
  {
   "cell_type": "markdown",
   "id": "d6dac3e8-fd06-45ac-853d-292e872cff3e",
   "metadata": {},
   "source": [
    "The clear() method empties the dictionary:\n"
   ]
  },
  {
   "cell_type": "code",
   "execution_count": 25,
   "id": "12fd52d9-c1a9-470a-9400-4c59747986d4",
   "metadata": {},
   "outputs": [
    {
     "name": "stdout",
     "output_type": "stream",
     "text": [
      "{}\n"
     ]
    }
   ],
   "source": [
    "thisdict =\t{\n",
    "  \"brand\": \"Ford\",\n",
    "  \"model\": \"Mustang\",\n",
    "  \"year\": 1964\n",
    "}\n",
    "thisdict.clear()\n",
    "print(thisdict) "
   ]
  },
  {
   "cell_type": "markdown",
   "id": "b125971a-784b-4e0b-9d22-d394afa3e73b",
   "metadata": {},
   "source": [
    "## Loop Dictionaries"
   ]
  },
  {
   "cell_type": "markdown",
   "id": "00c3783e-3d7f-4ff7-9160-f2587c7b7258",
   "metadata": {},
   "source": [
    "You can loop through a dictionary by using a for loop.\n",
    "\n",
    "When looping through a dictionary, the return value are the keys of the dictionary, but there are methods to return the values as well."
   ]
  },
  {
   "cell_type": "code",
   "execution_count": 27,
   "id": "46aab7a5-ba18-4ef5-ba06-4045842c1ceb",
   "metadata": {},
   "outputs": [
    {
     "name": "stdout",
     "output_type": "stream",
     "text": [
      "brand\n",
      "model\n",
      "year\n"
     ]
    }
   ],
   "source": [
    "thisdict =\t{\n",
    "  \"brand\": \"Ford\",\n",
    "  \"model\": \"Mustang\",\n",
    "  \"year\": 1964\n",
    "}\n",
    "for x in thisdict:\n",
    "  print(x) "
   ]
  },
  {
   "cell_type": "markdown",
   "id": "2deeb38d-1a19-4d68-bdfd-054ca4021c03",
   "metadata": {},
   "source": [
    "Print all values in the dictionary, one by one:"
   ]
  },
  {
   "cell_type": "code",
   "execution_count": 28,
   "id": "835ffdd0-9bd9-403a-8438-334bfed67cfa",
   "metadata": {},
   "outputs": [
    {
     "name": "stdout",
     "output_type": "stream",
     "text": [
      "Ford\n",
      "Mustang\n",
      "1964\n"
     ]
    }
   ],
   "source": [
    "for x in thisdict:\n",
    "  print(thisdict[x]) "
   ]
  },
  {
   "cell_type": "markdown",
   "id": "de3ff68c-9787-48f4-b727-d348676edbf1",
   "metadata": {},
   "source": [
    "You can also use the values() method to return values of a dictionary:"
   ]
  },
  {
   "cell_type": "code",
   "execution_count": 29,
   "id": "7964fd35-3f26-4688-a79e-022880e7155f",
   "metadata": {},
   "outputs": [
    {
     "name": "stdout",
     "output_type": "stream",
     "text": [
      "Ford\n",
      "Mustang\n",
      "1964\n"
     ]
    }
   ],
   "source": [
    "for x in thisdict.values():\n",
    "  print(x) "
   ]
  },
  {
   "cell_type": "markdown",
   "id": "d569b3fb-14e4-4231-a12a-d19751473b87",
   "metadata": {},
   "source": [
    "You can use the keys() method to return the keys of a dictionary:"
   ]
  },
  {
   "cell_type": "code",
   "execution_count": 30,
   "id": "e69baab3-58d3-4ae0-993b-388d0a4a6427",
   "metadata": {},
   "outputs": [
    {
     "name": "stdout",
     "output_type": "stream",
     "text": [
      "brand\n",
      "model\n",
      "year\n"
     ]
    }
   ],
   "source": [
    "for x in thisdict.keys():\n",
    "  print(x) "
   ]
  },
  {
   "cell_type": "markdown",
   "id": "d8e8c141-f364-415d-8326-91411a8d6335",
   "metadata": {},
   "source": [
    "Loop through both keys and values, by using the items() method:"
   ]
  },
  {
   "cell_type": "code",
   "execution_count": 31,
   "id": "ddcaf2d1-03ca-41b7-9e61-3d3010a5313e",
   "metadata": {},
   "outputs": [
    {
     "name": "stdout",
     "output_type": "stream",
     "text": [
      "brand Ford\n",
      "model Mustang\n",
      "year 1964\n"
     ]
    }
   ],
   "source": [
    "for x, y in thisdict.items():\n",
    "  print(x, y) "
   ]
  },
  {
   "cell_type": "markdown",
   "id": "1018b517-9166-45ac-b38f-9c2f6c57fa6a",
   "metadata": {},
   "source": [
    "## Copy Dictionaries"
   ]
  },
  {
   "cell_type": "markdown",
   "id": "41c4925e-6eff-4cd4-9b2b-162049ed28d1",
   "metadata": {},
   "source": [
    "You cannot copy a dictionary simply by typing dict2 = dict1, because: dict2 will only be a reference to dict1, and changes made in dict1 will automatically also be made in dict2.\n",
    "\n",
    "There are ways to make a copy, one way is to use the built-in Dictionary method copy()."
   ]
  },
  {
   "cell_type": "code",
   "execution_count": 32,
   "id": "99e67bd1-f5e1-4d1c-9891-9685cb715562",
   "metadata": {},
   "outputs": [
    {
     "name": "stdout",
     "output_type": "stream",
     "text": [
      "{'brand': 'Ford', 'model': 'Mustang', 'year': 1964}\n"
     ]
    }
   ],
   "source": [
    "thisdict =\t{\n",
    "  \"brand\": \"Ford\",\n",
    "  \"model\": \"Mustang\",\n",
    "  \"year\": 1964\n",
    "}\n",
    "mydict = thisdict.copy()\n",
    "print(mydict)"
   ]
  },
  {
   "cell_type": "markdown",
   "id": "f240bd56-ce70-4854-a124-33a8ca45cafc",
   "metadata": {},
   "source": [
    "Another way to make a copy is to use the built-in function dict()."
   ]
  },
  {
   "cell_type": "code",
   "execution_count": 33,
   "id": "205ad0d3-6959-4bdd-a4f3-cc1356c1fab4",
   "metadata": {},
   "outputs": [
    {
     "name": "stdout",
     "output_type": "stream",
     "text": [
      "{'brand': 'Ford', 'model': 'Mustang', 'year': 1964}\n"
     ]
    }
   ],
   "source": [
    "thisdict =\t{\n",
    "  \"brand\": \"Ford\",\n",
    "  \"model\": \"Mustang\",\n",
    "  \"year\": 1964\n",
    "}\n",
    "mydict = dict(thisdict)\n",
    "print(mydict) "
   ]
  },
  {
   "cell_type": "markdown",
   "id": "d68441c1-cdc9-4935-9d09-cd3a19e2c389",
   "metadata": {},
   "source": [
    "## Nested Dictionaries"
   ]
  },
  {
   "cell_type": "markdown",
   "id": "517dc7c8-87fe-4e84-9df1-7c337516ffd8",
   "metadata": {},
   "source": [
    "A dictionary can contain dictionaries, this is called nested dictionaries."
   ]
  },
  {
   "cell_type": "code",
   "execution_count": 34,
   "id": "a160ce1e-fdf0-465d-acf9-8964c688428f",
   "metadata": {},
   "outputs": [],
   "source": [
    "myfamily = {\n",
    "  \"child1\" : {\n",
    "    \"name\" : \"Emil\",\n",
    "    \"year\" : 2004\n",
    "  },\n",
    "  \"child2\" : {\n",
    "    \"name\" : \"Tobias\",\n",
    "    \"year\" : 2007\n",
    "  },\n",
    "  \"child3\" : {\n",
    "    \"name\" : \"Linus\",\n",
    "    \"year\" : 2011\n",
    "  }\n",
    "} "
   ]
  },
  {
   "cell_type": "markdown",
   "id": "0d1a38e3-b965-4be2-b499-4ba087511f0d",
   "metadata": {},
   "source": [
    "Or, if you want to add three dictionaries into a new dictionary:"
   ]
  },
  {
   "cell_type": "code",
   "execution_count": 35,
   "id": "9d73cfc1-4528-4bcd-8dc2-18d470815b60",
   "metadata": {},
   "outputs": [],
   "source": [
    "child1 = {\n",
    "  \"name\" : \"Emil\",\n",
    "  \"year\" : 2004\n",
    "}\n",
    "child2 = {\n",
    "  \"name\" : \"Tobias\",\n",
    "  \"year\" : 2007\n",
    "}\n",
    "child3 = {\n",
    "  \"name\" : \"Linus\",\n",
    "  \"year\" : 2011\n",
    "}\n",
    "\n",
    "myfamily = {\n",
    "  \"child1\" : child1,\n",
    "  \"child2\" : child2,\n",
    "  \"child3\" : child3\n",
    "} "
   ]
  },
  {
   "cell_type": "markdown",
   "id": "791d65ba-2786-4620-8787-91c48525dbe4",
   "metadata": {},
   "source": [
    "#### Access Items in Nested Dictionaries"
   ]
  },
  {
   "cell_type": "markdown",
   "id": "5c93152d-aa9b-4e8c-8620-b7917a71b405",
   "metadata": {},
   "source": [
    "To access items from a nested dictionary, you use the name of the dictionaries, starting with the outer dictionary:"
   ]
  },
  {
   "cell_type": "code",
   "execution_count": 36,
   "id": "4cbe20b8-87dc-4363-b56e-66e3ae51c423",
   "metadata": {},
   "outputs": [
    {
     "name": "stdout",
     "output_type": "stream",
     "text": [
      "Tobias\n"
     ]
    }
   ],
   "source": [
    "print(myfamily[\"child2\"][\"name\"]) "
   ]
  },
  {
   "cell_type": "markdown",
   "id": "163245da-d48e-4cdb-819c-7bcbc64af239",
   "metadata": {},
   "source": [
    "#### Loop Through Nested Dictionaries"
   ]
  },
  {
   "cell_type": "markdown",
   "id": "e41f178d-be6d-41b4-a727-ae14d7e88078",
   "metadata": {},
   "source": [
    "You can loop through a dictionary by using the items() method like this:"
   ]
  },
  {
   "cell_type": "code",
   "execution_count": 37,
   "id": "a5cef0ce-240c-4b0d-9680-57fa66b0c6f1",
   "metadata": {},
   "outputs": [
    {
     "name": "stdout",
     "output_type": "stream",
     "text": [
      "child1\n",
      "name: Emil\n",
      "year: 2004\n",
      "child2\n",
      "name: Tobias\n",
      "year: 2007\n",
      "child3\n",
      "name: Linus\n",
      "year: 2011\n"
     ]
    }
   ],
   "source": [
    "for x, obj in myfamily.items():\n",
    "  print(x)\n",
    "\n",
    "  for y in obj:\n",
    "    print(y + ':', obj[y])"
   ]
  },
  {
   "cell_type": "markdown",
   "id": "41ba9772-a306-4f29-a5f4-a86be18a452d",
   "metadata": {},
   "source": [
    "## Dictionary Methods"
   ]
  },
  {
   "cell_type": "markdown",
   "id": "021d0db5-a1da-45e7-b355-4551f45577a4",
   "metadata": {},
   "source": [
    "python has a set of built-in methods that you can use on dictionaries.\n",
    "    \n",
    "|Method \t|Description|\n",
    "|---------|--------------|\n",
    "|clear()\t|Removes all the elements from the dictionary|\n",
    "|copy()\t|Returns a copy of the dictionary|\n",
    "|fromkeys()\t|Returns a dictionary with the specified keys and value|\n",
    "|get()\t|Returns the value of the specified key|\n",
    "|items()\t|Returns a list containing a tuple for each key value pair|\n",
    "|keys()\t|Returns a list containing the dictionary's keys|\n",
    "|pop()\t|Removes the element with the specified key|\n",
    "|popitem()\t|Removes the last inserted key-value pair|\n",
    "|setdefault()\t|Returns the value of the specified key. If the key does not exist: insert the key, with the specified value|\n",
    "|update()\t|Updates the dictionary with the specified key-value pairs|\n",
    "|values()\t|Returns a list of all the values in the dictionary|"
   ]
  },
  {
   "cell_type": "code",
   "execution_count": null,
   "id": "b6d51cbb-34e8-4848-93e2-56b17af57575",
   "metadata": {},
   "outputs": [],
   "source": []
  }
 ],
 "metadata": {
  "kernelspec": {
   "display_name": "Python 3 (ipykernel)",
   "language": "python",
   "name": "python3"
  },
  "language_info": {
   "codemirror_mode": {
    "name": "ipython",
    "version": 3
   },
   "file_extension": ".py",
   "mimetype": "text/x-python",
   "name": "python",
   "nbconvert_exporter": "python",
   "pygments_lexer": "ipython3",
   "version": "3.8.10"
  }
 },
 "nbformat": 4,
 "nbformat_minor": 5
}

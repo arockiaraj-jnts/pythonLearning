{
 "cells": [
  {
   "cell_type": "markdown",
   "id": "6d7e47b7-94ba-49a5-95ec-7dd3cb09e9c4",
   "metadata": {},
   "source": [
    "# Set"
   ]
  },
  {
   "cell_type": "markdown",
   "id": "416a17fd-1959-45ed-83e6-e172b7fa42ef",
   "metadata": {},
   "source": [
    "Sets are used to store multiple items in a single variable.\n",
    "\n",
    "Set is one of 4 built-in data types in Python used to store collections of data, the other 3 are List, Tuple, and Dictionary, all with different qualities and usage.\n",
    "\n",
    "A set is a collection which is unordered, unchangeable*, and unindexed.\n",
    "\n",
    "**Note: Set items are unchangeable, but you can remove items and add new items.**Sets are written with curly brackets.\n"
   ]
  },
  {
   "cell_type": "markdown",
   "id": "4316bbe5-13f3-470b-99c1-d8ac471b326d",
   "metadata": {},
   "source": [
    "Sets are written with curly brackets."
   ]
  },
  {
   "cell_type": "markdown",
   "id": "1cff8889-2ca5-4e07-bdcb-a6990f54a76a",
   "metadata": {},
   "source": [
    "**Note: Sets are unordered, so you cannot be sure in which order the items will appear.**"
   ]
  },
  {
   "cell_type": "code",
   "execution_count": 1,
   "id": "fc1bc213-b9b8-4c13-83ca-f0db18b81b0b",
   "metadata": {},
   "outputs": [
    {
     "name": "stdout",
     "output_type": "stream",
     "text": [
      "{'cherry', 'banana', 'apple'}\n"
     ]
    }
   ],
   "source": [
    "thisset = {\"apple\", \"banana\", \"cherry\"}\n",
    "print(thisset) "
   ]
  },
  {
   "cell_type": "markdown",
   "id": "ca869d58-ffaf-4ac3-8713-ae942ad64097",
   "metadata": {},
   "source": [
    "#### Set Items\n",
    "\n",
    "Set items are unordered, unchangeable, and do not allow duplicate values.\n",
    "\n",
    "#### Unordered\n",
    "\n",
    "Unordered means that the items in a set do not have a defined order.\n",
    "\n",
    "Set items can appear in a different order every time you use them, and cannot be referred to by index or key.\n",
    "\n",
    "#### Unchangeable\n",
    "\n",
    "Set items are unchangeable, meaning that we cannot change the items after the set has been created.\n",
    "\n",
    "Once a set is created, you cannot change its items, but you can remove items and add new items.\n",
    "\n",
    "#### Duplicates Not Allowed\n",
    "\n",
    "Sets cannot have two items with the same value."
   ]
  },
  {
   "cell_type": "code",
   "execution_count": 2,
   "id": "e64a17f9-3dcd-4227-bf2b-6adf5bcf73fd",
   "metadata": {},
   "outputs": [
    {
     "name": "stdout",
     "output_type": "stream",
     "text": [
      "{'cherry', 'banana', 'apple'}\n"
     ]
    }
   ],
   "source": [
    "thisset = {\"apple\", \"banana\", \"cherry\", \"apple\"}\n",
    "\n",
    "print(thisset)"
   ]
  },
  {
   "cell_type": "markdown",
   "id": "af87f826-74e9-4099-b953-ddd8c30a81d4",
   "metadata": {},
   "source": [
    "**The values True and 1 are considered the same value in sets, and are treated as duplicates:**\n",
    "\n",
    "Example\n",
    "\n",
    "True and 1 is considered the same value:"
   ]
  },
  {
   "cell_type": "code",
   "execution_count": 3,
   "id": "1f764251-eb1d-430c-84c6-999afbf07f17",
   "metadata": {},
   "outputs": [
    {
     "name": "stdout",
     "output_type": "stream",
     "text": [
      "{True, 2, 'apple', 'cherry', 'banana'}\n"
     ]
    }
   ],
   "source": [
    "thisset = {\"apple\", \"banana\", \"cherry\", True, 1, 2}\n",
    "\n",
    "print(thisset)"
   ]
  },
  {
   "cell_type": "markdown",
   "id": "882b225b-85fc-4a13-b0d1-58968639b4af",
   "metadata": {},
   "source": [
    "**The values False and 0 are considered the same value in sets, and are treated as duplicates:**"
   ]
  },
  {
   "cell_type": "code",
   "execution_count": 4,
   "id": "450edb32-aac3-4520-9183-03d2d4bcfe5c",
   "metadata": {},
   "outputs": [
    {
     "name": "stdout",
     "output_type": "stream",
     "text": [
      "{False, True, 'apple', 'cherry', 'banana'}\n"
     ]
    }
   ],
   "source": [
    "thisset = {\"apple\", \"banana\", \"cherry\", False, True, 0}\n",
    "\n",
    "print(thisset)"
   ]
  },
  {
   "cell_type": "markdown",
   "id": "68e02471-f53b-4f43-b329-8535d1b147ed",
   "metadata": {},
   "source": [
    "#### Get the Length of a Set\n",
    "\n",
    "To determine how many items a set has, use the len() function."
   ]
  },
  {
   "cell_type": "code",
   "execution_count": 5,
   "id": "af332932-7f34-4375-9403-41f3c5e166f7",
   "metadata": {},
   "outputs": [
    {
     "name": "stdout",
     "output_type": "stream",
     "text": [
      "3\n"
     ]
    }
   ],
   "source": [
    "thisset = {\"apple\", \"banana\", \"cherry\"}\n",
    "\n",
    "print(len(thisset))"
   ]
  },
  {
   "cell_type": "markdown",
   "id": "877b80f4-6831-4243-9cd9-4fa7ef056b22",
   "metadata": {},
   "source": [
    "#### Set Items - Data Types\n",
    "\n",
    "Set items can be of any data type:"
   ]
  },
  {
   "cell_type": "code",
   "execution_count": 6,
   "id": "2bae06c6-8213-4553-b81c-0c36df1f242a",
   "metadata": {},
   "outputs": [],
   "source": [
    "et1 = {\"abc\", 34, True, 40, \"male\"} "
   ]
  },
  {
   "cell_type": "markdown",
   "id": "efba7790-82c9-4874-b40d-5392a4fb40b5",
   "metadata": {},
   "source": [
    "#### type()\n",
    "\n",
    "From Python's perspective, sets are defined as objects with the data type 'set':\n",
    "<class 'set'> "
   ]
  },
  {
   "cell_type": "code",
   "execution_count": 7,
   "id": "90e8c47e-5772-46f6-9fe5-956c25dd4533",
   "metadata": {},
   "outputs": [
    {
     "name": "stdout",
     "output_type": "stream",
     "text": [
      "<class 'set'>\n"
     ]
    }
   ],
   "source": [
    "myset = {\"apple\", \"banana\", \"cherry\"}\n",
    "print(type(myset))"
   ]
  },
  {
   "cell_type": "markdown",
   "id": "31152993-ea17-402c-85b7-555bdcdce687",
   "metadata": {},
   "source": [
    "#### The set() Constructor\n",
    "\n",
    "It is also possible to use the set() constructor to make a set."
   ]
  },
  {
   "cell_type": "code",
   "execution_count": 8,
   "id": "f73212ab-2612-4c45-949c-c1afa6406f3a",
   "metadata": {},
   "outputs": [
    {
     "name": "stdout",
     "output_type": "stream",
     "text": [
      "{'cherry', 'banana', 'apple'}\n"
     ]
    }
   ],
   "source": [
    "thisset = set((\"apple\", \"banana\", \"cherry\")) # note the double round-brackets\n",
    "print(thisset) "
   ]
  },
  {
   "cell_type": "markdown",
   "id": "d9496ea3-0ed0-4b2b-a154-88a765c4e25c",
   "metadata": {},
   "source": [
    "## Access Set Items"
   ]
  },
  {
   "cell_type": "markdown",
   "id": "2fc5b07e-8114-4c0b-9c6b-4c859e330ed3",
   "metadata": {},
   "source": [
    "You cannot access items in a set by referring to an index or a key.\n",
    "\n",
    "But you can loop through the set items using a for loop, or ask if a specified value is present in a set, by using the in keyword.\n"
   ]
  },
  {
   "cell_type": "code",
   "execution_count": 15,
   "id": "3a8415d9-9649-46fc-ba82-c351b7b59d9b",
   "metadata": {},
   "outputs": [
    {
     "name": "stdout",
     "output_type": "stream",
     "text": [
      "cherry\n",
      "banana\n",
      "apple\n"
     ]
    }
   ],
   "source": [
    "thisset = {\"apple\", \"banana\", \"cherry\"}\n",
    "\n",
    "for x in thisset:\n",
    "  print(x) "
   ]
  },
  {
   "cell_type": "markdown",
   "id": "3fa5b5f0-ac59-423f-b77a-039316c5d1d4",
   "metadata": {},
   "source": [
    "Check if \"banana\" is present in the set:"
   ]
  },
  {
   "cell_type": "code",
   "execution_count": 16,
   "id": "19e612e8-9650-41fc-a1f3-431d3c4e2142",
   "metadata": {},
   "outputs": [
    {
     "name": "stdout",
     "output_type": "stream",
     "text": [
      "True\n"
     ]
    }
   ],
   "source": [
    "thisset = {\"apple\", \"banana\", \"cherry\"}\n",
    "\n",
    "print(\"banana\" in thisset) "
   ]
  },
  {
   "cell_type": "code",
   "execution_count": 20,
   "id": "7942f0dc-0ac1-49fd-a807-9ed3a4f82db3",
   "metadata": {},
   "outputs": [
    {
     "name": "stdout",
     "output_type": "stream",
     "text": [
      "False\n"
     ]
    }
   ],
   "source": [
    "thisset = {\"apple\", \"banana\", \"cherry\"}\n",
    "\n",
    "print(\"banana\" not in thisset) "
   ]
  },
  {
   "cell_type": "markdown",
   "id": "2a33666b-67fb-4eab-950e-a8be7d92c827",
   "metadata": {},
   "source": [
    "#### Change Items\n",
    "\n",
    "Once a set is created, you cannot change its items, but you can add new items.\n"
   ]
  },
  {
   "cell_type": "markdown",
   "id": "394d7f34-c981-428a-ad18-03863d672d3a",
   "metadata": {},
   "source": [
    "#### Add Set Items\n",
    "To add one item to a set use the add() method."
   ]
  },
  {
   "cell_type": "code",
   "execution_count": 21,
   "id": "e1c752ff-c1fc-4cbf-ac2d-c890a216b791",
   "metadata": {},
   "outputs": [
    {
     "name": "stdout",
     "output_type": "stream",
     "text": [
      "{'orange', 'cherry', 'banana', 'apple'}\n"
     ]
    }
   ],
   "source": [
    "thisset = {\"apple\", \"banana\", \"cherry\"}\n",
    "\n",
    "thisset.add(\"orange\")\n",
    "\n",
    "print(thisset) "
   ]
  },
  {
   "cell_type": "markdown",
   "id": "3591d391-8982-47a9-831f-6ecffe9aab2c",
   "metadata": {},
   "source": [
    "#### Add Sets\n",
    "\n",
    "To add items from another set into the current set, use the update() method."
   ]
  },
  {
   "cell_type": "code",
   "execution_count": 22,
   "id": "d94971e9-dfbe-41f8-8b11-337e8966b658",
   "metadata": {},
   "outputs": [
    {
     "name": "stdout",
     "output_type": "stream",
     "text": [
      "{'pineapple', 'mango', 'cherry', 'banana', 'papaya', 'apple'}\n"
     ]
    }
   ],
   "source": [
    "thisset = {\"apple\", \"banana\", \"cherry\"}\n",
    "tropical = {\"pineapple\", \"mango\", \"papaya\"}\n",
    "\n",
    "thisset.update(tropical)\n",
    "\n",
    "print(thisset) "
   ]
  },
  {
   "cell_type": "markdown",
   "id": "c3046b01-30ce-4425-8716-3ac75c04e3f2",
   "metadata": {},
   "source": [
    "## Remove Set Items"
   ]
  },
  {
   "cell_type": "markdown",
   "id": "692aa34d-8806-4b87-ba6c-37c6193c0ccf",
   "metadata": {},
   "source": [
    "To remove an item in a set, use the remove(), or the discard() method."
   ]
  },
  {
   "cell_type": "code",
   "execution_count": 24,
   "id": "1f0503e8-3a0b-4e0e-9edb-7be27b0a4866",
   "metadata": {},
   "outputs": [
    {
     "name": "stdout",
     "output_type": "stream",
     "text": [
      "{'cherry', 'apple'}\n"
     ]
    }
   ],
   "source": [
    "thisset = {\"apple\", \"banana\", \"cherry\"}\n",
    "\n",
    "thisset.remove(\"banana\")\n",
    "\n",
    "print(thisset) "
   ]
  },
  {
   "cell_type": "markdown",
   "id": "71ecc09b-7c09-4dad-86be-5667212bc01b",
   "metadata": {},
   "source": [
    "**If the item to remove does not exist, remove() will raise an error.**"
   ]
  },
  {
   "cell_type": "code",
   "execution_count": 26,
   "id": "6eb5ab8b-9fc4-45ab-a03f-0f28e7e88a91",
   "metadata": {},
   "outputs": [
    {
     "ename": "KeyError",
     "evalue": "'banana'",
     "output_type": "error",
     "traceback": [
      "\u001b[0;31m---------------------------------------------------------------------------\u001b[0m",
      "\u001b[0;31mKeyError\u001b[0m                                  Traceback (most recent call last)",
      "Cell \u001b[0;32mIn[26], line 3\u001b[0m\n\u001b[1;32m      1\u001b[0m thisset \u001b[38;5;241m=\u001b[39m {\u001b[38;5;124m\"\u001b[39m\u001b[38;5;124mapple\u001b[39m\u001b[38;5;124m\"\u001b[39m,  \u001b[38;5;124m\"\u001b[39m\u001b[38;5;124mcherry\u001b[39m\u001b[38;5;124m\"\u001b[39m}\n\u001b[0;32m----> 3\u001b[0m \u001b[43mthisset\u001b[49m\u001b[38;5;241;43m.\u001b[39;49m\u001b[43mremove\u001b[49m\u001b[43m(\u001b[49m\u001b[38;5;124;43m\"\u001b[39;49m\u001b[38;5;124;43mbanana\u001b[39;49m\u001b[38;5;124;43m\"\u001b[39;49m\u001b[43m)\u001b[49m\n\u001b[1;32m      5\u001b[0m \u001b[38;5;28mprint\u001b[39m(thisset) \n",
      "\u001b[0;31mKeyError\u001b[0m: 'banana'"
     ]
    }
   ],
   "source": [
    "thisset = {\"apple\",  \"cherry\"}\n",
    "\n",
    "thisset.remove(\"banana\")\n",
    "\n",
    "print(thisset) "
   ]
  },
  {
   "cell_type": "markdown",
   "id": "c8f30bbf-9b1a-4279-9a36-caf940b281f2",
   "metadata": {},
   "source": [
    "**If the item to remove does not exist, discard() will NOT raise an error.**"
   ]
  },
  {
   "cell_type": "code",
   "execution_count": 27,
   "id": "0988edaf-f565-4e7f-9422-3b57555f906b",
   "metadata": {},
   "outputs": [
    {
     "name": "stdout",
     "output_type": "stream",
     "text": [
      "{'cherry', 'apple'}\n"
     ]
    }
   ],
   "source": [
    "thisset = {\"apple\",  \"cherry\"}\n",
    "\n",
    "thisset.discard(\"banana\")\n",
    "\n",
    "print(thisset) "
   ]
  },
  {
   "cell_type": "markdown",
   "id": "477d59f4-75e8-4169-96a3-78a281b7efa7",
   "metadata": {},
   "source": [
    "You can also use the pop() method to remove an item, but this method will remove a random item, so you cannot be sure what item that gets removed.\n",
    "\n",
    "The return value of the pop() method is the removed item."
   ]
  },
  {
   "cell_type": "code",
   "execution_count": 28,
   "id": "ce2d4178-5699-4c6c-a42d-d1c61a18809d",
   "metadata": {},
   "outputs": [
    {
     "name": "stdout",
     "output_type": "stream",
     "text": [
      "cherry\n",
      "{'banana', 'apple'}\n"
     ]
    }
   ],
   "source": [
    "thisset = {\"apple\", \"banana\", \"cherry\"}\n",
    "\n",
    "x = thisset.pop()\n",
    "\n",
    "print(x)\n",
    "\n",
    "print(thisset) "
   ]
  },
  {
   "cell_type": "markdown",
   "id": "c0c752e8-663b-4618-b608-aa773331248a",
   "metadata": {},
   "source": [
    "**Sets are unordered, so when using the pop() method, you do not know which item that gets removed.**"
   ]
  },
  {
   "cell_type": "markdown",
   "id": "27c029c0-4f8b-43e5-b4e9-e43ea0e7f993",
   "metadata": {},
   "source": [
    "The clear() method empties the set:\n"
   ]
  },
  {
   "cell_type": "code",
   "execution_count": 29,
   "id": "eeaa41d7-4392-40d9-b108-eb8429f93d8a",
   "metadata": {},
   "outputs": [
    {
     "name": "stdout",
     "output_type": "stream",
     "text": [
      "set()\n"
     ]
    }
   ],
   "source": [
    "thisset = {\"apple\", \"banana\", \"cherry\"}\n",
    "\n",
    "thisset.clear()\n",
    "\n",
    "print(thisset) "
   ]
  },
  {
   "cell_type": "markdown",
   "id": "4dd2f022-bf1c-4b9b-b0ba-2bf4e7bc9637",
   "metadata": {},
   "source": [
    "The del keyword will delete the set completely:"
   ]
  },
  {
   "cell_type": "code",
   "execution_count": 30,
   "id": "96732db2-972b-43fe-9edb-c9f42ff068de",
   "metadata": {},
   "outputs": [
    {
     "ename": "NameError",
     "evalue": "name 'thisset' is not defined",
     "output_type": "error",
     "traceback": [
      "\u001b[0;31m---------------------------------------------------------------------------\u001b[0m",
      "\u001b[0;31mNameError\u001b[0m                                 Traceback (most recent call last)",
      "Cell \u001b[0;32mIn[30], line 5\u001b[0m\n\u001b[1;32m      1\u001b[0m thisset \u001b[38;5;241m=\u001b[39m {\u001b[38;5;124m\"\u001b[39m\u001b[38;5;124mapple\u001b[39m\u001b[38;5;124m\"\u001b[39m, \u001b[38;5;124m\"\u001b[39m\u001b[38;5;124mbanana\u001b[39m\u001b[38;5;124m\"\u001b[39m, \u001b[38;5;124m\"\u001b[39m\u001b[38;5;124mcherry\u001b[39m\u001b[38;5;124m\"\u001b[39m}\n\u001b[1;32m      3\u001b[0m \u001b[38;5;28;01mdel\u001b[39;00m thisset\n\u001b[0;32m----> 5\u001b[0m \u001b[38;5;28mprint\u001b[39m(\u001b[43mthisset\u001b[49m) \n",
      "\u001b[0;31mNameError\u001b[0m: name 'thisset' is not defined"
     ]
    }
   ],
   "source": [
    "thisset = {\"apple\", \"banana\", \"cherry\"}\n",
    "\n",
    "del thisset\n",
    "\n",
    "print(thisset) "
   ]
  },
  {
   "cell_type": "markdown",
   "id": "c8ee77d2-438c-42f4-bcae-1ca12c79a52a",
   "metadata": {},
   "source": [
    "## Loop Sets"
   ]
  },
  {
   "cell_type": "code",
   "execution_count": 31,
   "id": "762c6984-b4ca-4999-807b-2114a5c7c7b8",
   "metadata": {},
   "outputs": [
    {
     "name": "stdout",
     "output_type": "stream",
     "text": [
      "cherry\n",
      "banana\n",
      "apple\n"
     ]
    }
   ],
   "source": [
    "thisset = {\"apple\", \"banana\", \"cherry\"}\n",
    "\n",
    "for x in thisset:\n",
    "  print(x) "
   ]
  },
  {
   "cell_type": "markdown",
   "id": "b4cb20ed-7eb6-4713-9266-9ad5a6bee356",
   "metadata": {},
   "source": [
    "## Join Sets\n",
    "\n",
    "There are several ways to join two or more sets in Python.\n",
    "\n",
    "The union() and update() methods joins all items from both sets.\n",
    "\n",
    "The intersection() method keeps ONLY the duplicates.\n",
    "\n",
    "The difference() method keeps the items from the first set that are not in the other set(s).\n",
    "\n",
    "The symmetric_difference() method keeps all items EXCEPT the duplicates."
   ]
  },
  {
   "cell_type": "markdown",
   "id": "a81b5a25-19f9-4462-8b81-cced7a7c8fad",
   "metadata": {},
   "source": [
    "#### Union\n",
    "\n",
    "The union() method returns a new set with all items from both sets."
   ]
  },
  {
   "cell_type": "code",
   "execution_count": 32,
   "id": "c8b65fbc-5cd8-4c96-8967-7b9f9d98dcf2",
   "metadata": {},
   "outputs": [
    {
     "name": "stdout",
     "output_type": "stream",
     "text": [
      "{1, 2, 3, 'a', 'b', 'c'}\n"
     ]
    }
   ],
   "source": [
    "set1 = {\"a\", \"b\", \"c\"}\n",
    "set2 = {1, 2, 3}\n",
    "\n",
    "set3 = set1.union(set2)\n",
    "print(set3) "
   ]
  },
  {
   "cell_type": "markdown",
   "id": "baa34d18-55a5-4d5d-8e59-1342d85b9792",
   "metadata": {},
   "source": [
    "**You can use the | operator instead of the union() method, and you will get the same result.**\n"
   ]
  },
  {
   "cell_type": "code",
   "execution_count": 33,
   "id": "84fc0376-de70-4a7f-a382-924e8258953c",
   "metadata": {},
   "outputs": [
    {
     "name": "stdout",
     "output_type": "stream",
     "text": [
      "{1, 2, 3, 'a', 'b', 'c'}\n"
     ]
    }
   ],
   "source": [
    "set1 = {\"a\", \"b\", \"c\"}\n",
    "set2 = {1, 2, 3}\n",
    "\n",
    "set3 = set1 | set2\n",
    "print(set3) "
   ]
  },
  {
   "cell_type": "markdown",
   "id": "54fd9361-251b-4c95-a07f-7e1c2375d5fd",
   "metadata": {},
   "source": [
    "#### Join Multiple Sets\n",
    "\n",
    "All the joining methods and operators can be used to join multiple sets.\n",
    "\n",
    "When using a method, just add more sets in the parentheses, separated by commas:"
   ]
  },
  {
   "cell_type": "code",
   "execution_count": 34,
   "id": "c0a9f490-1c36-438b-98dc-01286526cc73",
   "metadata": {},
   "outputs": [
    {
     "name": "stdout",
     "output_type": "stream",
     "text": [
      "{1, 2, 3, 'Elena', 'b', 'c', 'apple', 'John', 'a', 'bananas', 'cherry'}\n"
     ]
    }
   ],
   "source": [
    "set1 = {\"a\", \"b\", \"c\"}\n",
    "set2 = {1, 2, 3}\n",
    "set3 = {\"John\", \"Elena\"}\n",
    "set4 = {\"apple\", \"bananas\", \"cherry\"}\n",
    "\n",
    "myset = set1.union(set2, set3, set4)\n",
    "print(myset) \n"
   ]
  },
  {
   "cell_type": "markdown",
   "id": "662f4fa1-78a8-41ac-a4e6-32fcaefea060",
   "metadata": {},
   "source": [
    "**When using the | operator, separate the sets with more | operators:**\n"
   ]
  },
  {
   "cell_type": "code",
   "execution_count": 35,
   "id": "08e50d5e-7036-4137-9efa-889319bf66f2",
   "metadata": {},
   "outputs": [
    {
     "name": "stdout",
     "output_type": "stream",
     "text": [
      "{1, 2, 3, 'Elena', 'b', 'c', 'apple', 'John', 'a', 'bananas', 'cherry'}\n"
     ]
    }
   ],
   "source": [
    "set1 = {\"a\", \"b\", \"c\"}\n",
    "set2 = {1, 2, 3}\n",
    "set3 = {\"John\", \"Elena\"}\n",
    "set4 = {\"apple\", \"bananas\", \"cherry\"}\n",
    "\n",
    "myset = set1 | set2 | set3 |set4\n",
    "print(myset) "
   ]
  },
  {
   "cell_type": "markdown",
   "id": "28cae517-1411-4edc-804c-f5d477190978",
   "metadata": {},
   "source": [
    "#### Join a Set and a Tuple\n",
    "\n",
    "The union() method allows you to join a set with other data types, like lists or tuples.\n",
    "\n",
    "The result will be a set.\n",
    "\n",
    "Example\n",
    "\n",
    "Join a set with a tuple:"
   ]
  },
  {
   "cell_type": "code",
   "execution_count": 36,
   "id": "ca9b5a91-7ce5-41f0-8b14-b62eca355fe9",
   "metadata": {},
   "outputs": [
    {
     "name": "stdout",
     "output_type": "stream",
     "text": [
      "{1, 2, 3, 'b', 'c', 'a'}\n"
     ]
    }
   ],
   "source": [
    "x = {\"a\", \"b\", \"c\"}\n",
    "y = (1, 2, 3)\n",
    "\n",
    "z = x.union(y)\n",
    "print(z) "
   ]
  },
  {
   "cell_type": "code",
   "execution_count": 38,
   "id": "e1264dbe-0e62-4a53-954e-72fb1da00667",
   "metadata": {},
   "outputs": [
    {
     "ename": "TypeError",
     "evalue": "unsupported operand type(s) for |: 'set' and 'tuple'",
     "output_type": "error",
     "traceback": [
      "\u001b[0;31m---------------------------------------------------------------------------\u001b[0m",
      "\u001b[0;31mTypeError\u001b[0m                                 Traceback (most recent call last)",
      "Cell \u001b[0;32mIn[38], line 4\u001b[0m\n\u001b[1;32m      1\u001b[0m x \u001b[38;5;241m=\u001b[39m {\u001b[38;5;124m\"\u001b[39m\u001b[38;5;124ma\u001b[39m\u001b[38;5;124m\"\u001b[39m, \u001b[38;5;124m\"\u001b[39m\u001b[38;5;124mb\u001b[39m\u001b[38;5;124m\"\u001b[39m, \u001b[38;5;124m\"\u001b[39m\u001b[38;5;124mc\u001b[39m\u001b[38;5;124m\"\u001b[39m}\n\u001b[1;32m      2\u001b[0m y \u001b[38;5;241m=\u001b[39m (\u001b[38;5;241m1\u001b[39m, \u001b[38;5;241m2\u001b[39m, \u001b[38;5;241m3\u001b[39m)\n\u001b[0;32m----> 4\u001b[0m z \u001b[38;5;241m=\u001b[39m \u001b[43mx\u001b[49m\u001b[38;5;241;43m|\u001b[39;49m\u001b[43my\u001b[49m\n\u001b[1;32m      5\u001b[0m \u001b[38;5;28mprint\u001b[39m(z) \n",
      "\u001b[0;31mTypeError\u001b[0m: unsupported operand type(s) for |: 'set' and 'tuple'"
     ]
    }
   ],
   "source": [
    "x = {\"a\", \"b\", \"c\"}\n",
    "y = (1, 2, 3)\n",
    "\n",
    "z = x|y\n",
    "print(z) "
   ]
  },
  {
   "cell_type": "markdown",
   "id": "c9b0cb67-8cb3-4e27-8ade-00f3a8779bb0",
   "metadata": {},
   "source": [
    "#### Update\n",
    "\n",
    "The update() method inserts all items from one set into another.\n",
    "\n",
    "The update() changes the original set, and does not return a new set."
   ]
  },
  {
   "cell_type": "code",
   "execution_count": 39,
   "id": "c1f211f2-bdc3-45ab-a6c6-71495283e848",
   "metadata": {},
   "outputs": [
    {
     "name": "stdout",
     "output_type": "stream",
     "text": [
      "{1, 2, 3, 'a', 'b', 'c'}\n"
     ]
    }
   ],
   "source": [
    "set1 = {\"a\", \"b\" , \"c\"}\n",
    "set2 = {1, 2, 3}\n",
    "\n",
    "set1.update(set2)\n",
    "print(set1) "
   ]
  },
  {
   "cell_type": "markdown",
   "id": "a59ad492-f098-4aee-9697-9e2b0d15bac4",
   "metadata": {},
   "source": [
    "**Note: Both union() and update() will exclude any duplicate items.**"
   ]
  },
  {
   "cell_type": "markdown",
   "id": "e258a080-c222-4a55-ad7d-e2ba96ea4372",
   "metadata": {},
   "source": [
    "#### Intersection\n",
    "\n",
    "Keep ONLY the duplicates\n",
    "\n",
    "The intersection() method will return a new set, that only contains the items that are present in both sets.\n"
   ]
  },
  {
   "cell_type": "code",
   "execution_count": 40,
   "id": "1f0f4cb8-b090-44c7-b110-df93f16d2eee",
   "metadata": {},
   "outputs": [
    {
     "name": "stdout",
     "output_type": "stream",
     "text": [
      "{'apple'}\n"
     ]
    }
   ],
   "source": [
    "set1 = {\"apple\", \"banana\", \"cherry\"}\n",
    "set2 = {\"google\", \"microsoft\", \"apple\"}\n",
    "\n",
    "set3 = set1.intersection(set2)\n",
    "print(set3) "
   ]
  },
  {
   "cell_type": "markdown",
   "id": "733a91ba-bae3-4c95-9182-b0b72cc7b08e",
   "metadata": {},
   "source": [
    "You can use the & operator instead of the intersection() method, and you will get the same result."
   ]
  },
  {
   "cell_type": "code",
   "execution_count": 41,
   "id": "9f300c83-3577-4ecc-83ff-3dc3d25213d6",
   "metadata": {},
   "outputs": [
    {
     "name": "stdout",
     "output_type": "stream",
     "text": [
      "{'apple'}\n"
     ]
    }
   ],
   "source": [
    "set1 = {\"apple\", \"banana\", \"cherry\"}\n",
    "set2 = {\"google\", \"microsoft\", \"apple\"}\n",
    "\n",
    "set3 = set1 & set2\n",
    "print(set3) "
   ]
  },
  {
   "cell_type": "markdown",
   "id": "6c1723f0-1d85-4627-84bc-6ba7ed222e66",
   "metadata": {},
   "source": [
    "**Note: The & operator only allows you to join sets with sets, and not with other data types like you can with the intersection() method.**"
   ]
  },
  {
   "cell_type": "markdown",
   "id": "588de78f-ec95-4f86-a584-2683acc0a22c",
   "metadata": {},
   "source": [
    "The intersection_update() method will also keep ONLY the duplicates, but it will change the original set instead of returning a new set.\n",
    "    \n",
    "Example\n",
    "\n",
    "Keep the items that exist in both set1, and set2:\n"
   ]
  },
  {
   "cell_type": "code",
   "execution_count": 42,
   "id": "86deb957-9003-40d5-a441-c271978deff5",
   "metadata": {},
   "outputs": [
    {
     "name": "stdout",
     "output_type": "stream",
     "text": [
      "{'apple'}\n"
     ]
    }
   ],
   "source": [
    "set1 = {\"apple\", \"banana\", \"cherry\"}\n",
    "set2 = {\"google\", \"microsoft\", \"apple\"}\n",
    "\n",
    "set1.intersection_update(set2)\n",
    "\n",
    "print(set1) "
   ]
  },
  {
   "cell_type": "code",
   "execution_count": 43,
   "id": "b3260e39-7bf2-4a6e-bee6-fa3f8083cfef",
   "metadata": {},
   "outputs": [
    {
     "name": "stdout",
     "output_type": "stream",
     "text": [
      "{False, 1, 'apple'}\n"
     ]
    }
   ],
   "source": [
    "set1 = {\"apple\", 1,  \"banana\", 0, \"cherry\"}\n",
    "set2 = {False, \"google\", 1, \"apple\", 2, True}\n",
    "\n",
    "set3 = set1.intersection(set2)\n",
    "\n",
    "print(set3)"
   ]
  },
  {
   "cell_type": "markdown",
   "id": "6d73afc5-f610-4b68-b067-808f1ff3e545",
   "metadata": {},
   "source": [
    "You can use the & operator instead of the intersection() method, and you will get the same result."
   ]
  },
  {
   "cell_type": "markdown",
   "id": "75ca55e0-c807-4b63-a3ce-7b1be5f6a23d",
   "metadata": {},
   "source": [
    "The & operator only allows you to join sets with sets, and not with other data types like you can with the intersection() method."
   ]
  },
  {
   "cell_type": "markdown",
   "id": "3ecc6ede-c805-4718-9ad0-a558e204d49d",
   "metadata": {},
   "source": [
    "#### intersection_update()\n",
    "The intersection_update() method will also keep ONLY the duplicates, but it will change the original set instead of returning a new set."
   ]
  },
  {
   "cell_type": "code",
   "execution_count": 44,
   "id": "d7821492-7dfa-4ba4-adc9-ea3cbdfae37c",
   "metadata": {},
   "outputs": [
    {
     "name": "stdout",
     "output_type": "stream",
     "text": [
      "{'apple'}\n"
     ]
    }
   ],
   "source": [
    "set1 = {\"apple\", \"banana\", \"cherry\"}\n",
    "set2 = {\"google\", \"microsoft\", \"apple\"}\n",
    "\n",
    "set1.intersection_update(set2)\n",
    "\n",
    "print(set1) "
   ]
  },
  {
   "cell_type": "code",
   "execution_count": 45,
   "id": "d0360786-2b3e-4b40-b7ae-eaa9d8ef3d57",
   "metadata": {},
   "outputs": [
    {
     "name": "stdout",
     "output_type": "stream",
     "text": [
      "{False, 1, 'apple'}\n"
     ]
    }
   ],
   "source": [
    "set1 = {\"apple\", 1,  \"banana\", 0, \"cherry\"}\n",
    "set2 = {False, \"google\", 1, \"apple\", 2, True}\n",
    "\n",
    "set3 = set1.intersection(set2)\n",
    "\n",
    "print(set3)"
   ]
  },
  {
   "cell_type": "markdown",
   "id": "d39db927-9f94-4b1f-b689-5abed9ee132a",
   "metadata": {},
   "source": [
    "#### Difference\n",
    "\n",
    "The difference() method will return a new set that will contain only the items from the first set that are not present in the other set.\n"
   ]
  },
  {
   "cell_type": "code",
   "execution_count": 46,
   "id": "12532d9e-9bb9-4e92-bbf7-171ce819ddda",
   "metadata": {},
   "outputs": [
    {
     "name": "stdout",
     "output_type": "stream",
     "text": [
      "{'cherry', 'banana'}\n"
     ]
    }
   ],
   "source": [
    "set1 = {\"apple\", \"banana\", \"cherry\"}\n",
    "set2 = {\"google\", \"microsoft\", \"apple\"}\n",
    "\n",
    "set3 = set1.difference(set2)\n",
    "\n",
    "print(set3) "
   ]
  },
  {
   "cell_type": "markdown",
   "id": "e8e9189a-7492-4f97-91a8-3346eb321127",
   "metadata": {},
   "source": [
    "You can use the - operator instead of the difference() method, and you will get the same result."
   ]
  },
  {
   "cell_type": "markdown",
   "id": "c93579f3-01c1-4b01-bd4e-2954d59297e2",
   "metadata": {},
   "source": [
    "The - operator only allows you to join sets with sets, and not with other data types like you can with the difference() method."
   ]
  },
  {
   "cell_type": "markdown",
   "id": "6745946c-f1cc-48e4-bf37-670f5533555a",
   "metadata": {},
   "source": [
    "The difference_update() method will also keep the items from the first set that are not in the other set, but it will change the original set instead of returning a new set."
   ]
  },
  {
   "cell_type": "code",
   "execution_count": 47,
   "id": "2638950b-1c98-4e7a-a2d6-0e911c443e6c",
   "metadata": {},
   "outputs": [
    {
     "name": "stdout",
     "output_type": "stream",
     "text": [
      "{'cherry', 'banana'}\n"
     ]
    }
   ],
   "source": [
    "set1 = {\"apple\", \"banana\", \"cherry\"}\n",
    "set2 = {\"google\", \"microsoft\", \"apple\"}\n",
    "\n",
    "set1.difference_update(set2)\n",
    "\n",
    "print(set1) "
   ]
  },
  {
   "cell_type": "markdown",
   "id": "1996b692-5411-4935-b2af-a536dcbb7611",
   "metadata": {},
   "source": [
    "#### Symmetric Differences\n",
    "\n",
    "The symmetric_difference() method will keep only the elements that are NOT present in both sets."
   ]
  },
  {
   "cell_type": "code",
   "execution_count": 48,
   "id": "13f08730-3cd6-4fec-bee2-d1cd223b1104",
   "metadata": {},
   "outputs": [
    {
     "name": "stdout",
     "output_type": "stream",
     "text": [
      "{'microsoft', 'google', 'cherry', 'banana'}\n"
     ]
    }
   ],
   "source": [
    "set1 = {\"apple\", \"banana\", \"cherry\"}\n",
    "set2 = {\"google\", \"microsoft\", \"apple\"}\n",
    "\n",
    "set3 = set1.symmetric_difference(set2)\n",
    "\n",
    "print(set3) "
   ]
  },
  {
   "cell_type": "markdown",
   "id": "7eba691b-e9ab-417d-8bd0-ee39ad0aefb5",
   "metadata": {},
   "source": [
    "You can use the ^ operator instead of the symmetric_difference() method, and you will get the same result."
   ]
  },
  {
   "cell_type": "markdown",
   "id": "19cbf82f-f934-4346-b1b1-a5b7b255e583",
   "metadata": {},
   "source": [
    "The symmetric_difference_update() method will also keep all but the duplicates, but it will change the original set instead of returning a new set."
   ]
  },
  {
   "cell_type": "code",
   "execution_count": 49,
   "id": "67bea26a-96b5-4b42-bb54-acdcde4e076e",
   "metadata": {},
   "outputs": [
    {
     "name": "stdout",
     "output_type": "stream",
     "text": [
      "{'microsoft', 'google', 'cherry', 'banana'}\n"
     ]
    }
   ],
   "source": [
    "set1 = {\"apple\", \"banana\", \"cherry\"}\n",
    "set2 = {\"google\", \"microsoft\", \"apple\"}\n",
    "\n",
    "set1.symmetric_difference_update(set2)\n",
    "\n",
    "print(set1) "
   ]
  },
  {
   "cell_type": "markdown",
   "id": "f7b52ccc-b459-4545-af93-fed5ca274790",
   "metadata": {},
   "source": [
    "#### Set Methods\n",
    "\n",
    "Python has a set of built-in methods that you can use on sets.\n",
    "\n",
    "|Method \t|Shortcut \t|Description|\n",
    "|----------|------------|------------|\n",
    "|add() \t | \t|Adds an element to the set|\n",
    "|clear() |\t | \tRemoves all the elements from the set|\n",
    "|copy() \t|  |\tReturns a copy of the set|\n",
    "|difference() \t|- \t|Returns a set containing the difference between two or more sets|\n",
    "|difference_update()| \t-= \t|Removes the items in this set that are also included in another, specified set|\n",
    "|discard()| \t|  \tRemove the specified item|\n",
    "|intersection() \t|& \t|Returns a set, that is the intersection of two other sets|\n",
    "|intersection_update() |\t&= \t|Removes the items in this set that are not present in other, specified set(s)|\n",
    "|isdisjoint() \t| | \tReturns whether two sets have a intersection or not|\n",
    "|issubset() \t|<= \t|Returns whether another set contains this set or not|\n",
    "|  \t|< \t|Returns whether all items in this set is present in other, specified set(s)|\n",
    "|issuperset() \t|>= \t|Returns whether this set contains another set or not|\n",
    "|  \t|> \t|Returns whether all items in other, specified set(s) is present in this set|\n",
    "|pop() \t| | \tRemoves an element from the set|\n",
    "|remove() |\t  \t|Removes the specified element|\n",
    "|symmetric_difference() \t|^| \tReturns a set with the symmetric differences of two sets|\n",
    "|symmetric_difference_update() |\t^= \t|Inserts the symmetric differences from this set and another|\n",
    "|union() \t|| \tReturn a set containing the union of sets|\n",
    "|update()  |\t|Update the set with the union of this set and others|"
   ]
  },
  {
   "cell_type": "code",
   "execution_count": null,
   "id": "9c406b3e-4cec-4856-8d52-15e258877ee9",
   "metadata": {},
   "outputs": [],
   "source": []
  }
 ],
 "metadata": {
  "kernelspec": {
   "display_name": "Python 3 (ipykernel)",
   "language": "python",
   "name": "python3"
  },
  "language_info": {
   "codemirror_mode": {
    "name": "ipython",
    "version": 3
   },
   "file_extension": ".py",
   "mimetype": "text/x-python",
   "name": "python",
   "nbconvert_exporter": "python",
   "pygments_lexer": "ipython3",
   "version": "3.8.10"
  }
 },
 "nbformat": 4,
 "nbformat_minor": 5
}

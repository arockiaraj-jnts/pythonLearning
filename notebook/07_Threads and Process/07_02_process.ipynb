{
 "cells": [
  {
   "cell_type": "markdown",
   "id": "fd62d689-2e7f-4cd8-90ce-a4a627798cf6",
   "metadata": {},
   "source": [
    "# processing "
   ]
  },
  {
   "cell_type": "markdown",
   "id": "73ebbbd1-fe06-4c31-b407-d79c19b14cf7",
   "metadata": {},
   "source": [
    "Multiprocessing means:\n",
    "\n",
    "    Running multiple processes, each with its own Python interpreter and memory space, on different CPU cores.\n",
    "\n",
    "This bypasses Python's Global Interpreter Lock (GIL) — allowing real parallel execution of CPU tasks.\n"
   ]
  },
  {
   "cell_type": "markdown",
   "id": "44b1e036-3e4b-4220-b957-499613eda7aa",
   "metadata": {},
   "source": [
    "#### ⚖️ Multithreading vs Multiprocessing\n",
    "\n",
    "|Feature\t|Multithreading\t|Multiprocessing|\n",
    "|-----------|---------------|----------------|\n",
    "|Parallelism\t|❌ Not truly parallel (due to GIL)\t|✅ True parallelism (each process is independent)|\n",
    "|Memory Sharing\t|Shared memory (same process)\t|Separate memory (isolated)|\n",
    "|Best For\t|I/O-bound tasks\t|CPU-bound tasks|\n",
    "|Overhead\t|Low\t|Higher (spawns separate processes)|"
   ]
  },
  {
   "cell_type": "markdown",
   "id": "00ecfcc3-0c51-4332-8daa-b9942946f0fa",
   "metadata": {},
   "source": [
    "#### 🧪 Example: Multiprocessing in Python\n",
    "\n",
    "We'll simulate a CPU-heavy task: squaring numbers with a delay.\n",
    "🧠 CPU-bound version using multiprocessing"
   ]
  },
  {
   "cell_type": "code",
   "execution_count": 3,
   "id": "1c72efa9-1194-4974-b2ce-479aaaf46186",
   "metadata": {},
   "outputs": [
    {
     "name": "stdout",
     "output_type": "stream",
     "text": [
      "Start computing...\n",
      "Start computing...\n",
      "333333283333335000000\n",
      "Done computing!\n",
      "333333283333335000000\n",
      "Done computing!\n",
      "Total time: 1.07 seconds\n"
     ]
    }
   ],
   "source": [
    "import multiprocessing\n",
    "import time\n",
    "\n",
    "def compute():\n",
    "    print(\"Start computing...\")\n",
    "    total = 0\n",
    "    for i in range(10_000_000):\n",
    "        total += i * i\n",
    "    print(total)    \n",
    "    print(\"Done computing!\")\n",
    "\n",
    "start = time.time()\n",
    "\n",
    "# Create two processes\n",
    "p1 = multiprocessing.Process(target=compute)\n",
    "p2 = multiprocessing.Process(target=compute)\n",
    "\n",
    "p1.start()\n",
    "p2.start()\n",
    "\n",
    "p1.join()\n",
    "p2.join()\n",
    "\n",
    "print(f\"Total time: {time.time() - start:.2f} seconds\")\n"
   ]
  },
  {
   "cell_type": "markdown",
   "id": "d7fb1883-015e-4bb9-8e2f-eef467ca1955",
   "metadata": {},
   "source": [
    "Expected Behavior\n",
    "\n",
    "    Two processes are created.\n",
    "\n",
    "    Both run truly in parallel on different CPU cores."
   ]
  },
  {
   "cell_type": "markdown",
   "id": "f8a256ed-f29a-4ac7-809b-b5f782e30c37",
   "metadata": {},
   "source": [
    "### ✅ Key Benefits\n",
    "\n",
    "    Bypasses the GIL — perfect for number crunching, data processing, machine learning, etc.\n",
    "\n",
    "    Each process has its own memory, reducing risks from shared state bugs."
   ]
  },
  {
   "cell_type": "markdown",
   "id": "b7996ab0-8179-4f4e-96f6-244fa497c9a8",
   "metadata": {},
   "source": [
    "## How to Identify a Task as I/O-bound or CPU-bound\n",
    "\n",
    "To decide whether to use multithreading, multiprocessing, or something else, you need to understand what type of work your task is doing.\n"
   ]
  },
  {
   "cell_type": "markdown",
   "id": "b99f00d5-45a6-47e2-830b-30a49a5a4388",
   "metadata": {},
   "source": [
    "#### Ask: What is the task waiting on?\n",
    "\n",
    "|If it's mostly waiting for...\t|Then it's...|\n",
    "|--------------------------------|----------|\n",
    "|Disk I/O (file read/write)\t|I/O-bound|\n",
    "|Network responses (APIs, web scraping)\t|I/O-bound|\n",
    "|User input (GUIs, CLI input)\t|I/O-bound|\n",
    "|Database queries\t|I/O-bound|\n",
    "|Heavy calculations (math, ML, image/video processing)\t|CPU-bound|\n",
    "|Data transformations (sorting, hashing, encoding)\t|CPU-bound|"
   ]
  },
  {
   "cell_type": "markdown",
   "id": "3adf6b9d-3d13-4056-b423-56c9b3e44de4",
   "metadata": {},
   "source": [
    "### Think in terms of behavior\n",
    "🔧 I/O-bound behavior:\n",
    "\n",
    "    Task seems \"slow\" but CPU isn’t busy\n",
    "\n",
    "    Waiting for files to read/write\n",
    "\n",
    "    Waiting for web APIs to respond\n",
    "\n",
    "    Example: Web scraper that hits 100 URLs\n",
    "\n",
    "🧮 CPU-bound behavior:\n",
    "\n",
    "    CPU usage goes to 100% on one core\n",
    "\n",
    "    Task takes longer as input size increases\n",
    "\n",
    "    Example: Sorting a large list, compressing images, training a model"
   ]
  },
  {
   "cell_type": "markdown",
   "id": "cb7a1876-d7e8-4192-a3b0-10ae39efd677",
   "metadata": {},
   "source": [
    "#### Quick Rule of Thumb:\n",
    "|Task\t|Strategy|\n",
    "|-------|---------|\n",
    "|Waiting a lot? (e.g., time.sleep(), requests.get())\t|Use multithreading|\n",
    "|Computing a lot? (e.g., math, loops, pandas)\t|Use multiprocessing|"
   ]
  },
  {
   "cell_type": "markdown",
   "id": "25bc8bd8-af2b-4d4d-aec0-30962d496ab3",
   "metadata": {},
   "source": [
    "#### Example Scenario:\n",
    "\n",
    "Task:\n",
    "\n",
    "You are writing a script that:\n",
    "\n",
    "    Reads a large list of URLs from a file.\n",
    "\n",
    "    Downloads the HTML content of each URL.\n",
    "\n",
    "    Parses the HTML to extract article titles.\n",
    "\n",
    "    Writes the titles to a CSV file."
   ]
  },
  {
   "cell_type": "markdown",
   "id": "beb39c35-fefd-4496-b10a-cb88da91a07f",
   "metadata": {},
   "source": [
    "### Step-by-Step Analysis:\n",
    "\n",
    "|Step\t|What it Does|\tType of Work|\tWhy?|\n",
    "|----------|----------|-------------|--------|\n",
    "|1. Read URLs from file\t|File I/O\t|I/O-bound\t|Reading from disk is I/O|\n",
    "|2. Download HTML pages\t|Network I/O\t|I/O-bound\t|Waiting on remote servers|\n",
    "|3. Parse HTML\t|Depends on size\t|Light CPU (or I/O if using BeautifulSoup)\t|HTML parsing can be CPU-light unless you're doing a lot of analysis|\n",
    "|4. Write to CSV\t|File I/O\t|I/O-bound\t|Writing to disk|"
   ]
  },
  {
   "cell_type": "markdown",
   "id": "c9fdd3b0-dc30-4b03-ba95-0cf0882866b0",
   "metadata": {},
   "source": [
    "✅ Conclusion:\n",
    "\n",
    "    This is mostly an I/O-bound task ✅"
   ]
  },
  {
   "cell_type": "markdown",
   "id": "9c07574b-b53f-4671-8bce-1836cf59458f",
   "metadata": {},
   "source": [
    " ### let’s walk through an example where multiple threads run different functions and share data safely using a thread-safe mechanism."
   ]
  },
  {
   "cell_type": "markdown",
   "id": "4d1ad67c-b6f2-45eb-b2da-269649e4b117",
   "metadata": {},
   "source": [
    "You have:\n",
    "\n",
    "    A function that reads data (producer)\n",
    "\n",
    "    A function that processes data (consumer)\n",
    "\n",
    "    A shared queue between them"
   ]
  },
  {
   "cell_type": "markdown",
   "id": "1f6c0342-c58d-4ce0-bf0b-72e763d1223e",
   "metadata": {},
   "source": [
    "Using Queue for Safe Thread Communication\n",
    "\n",
    "Python's queue.Queue is thread-safe — perfect for sharing data between threads without using manual locks."
   ]
  },
  {
   "cell_type": "markdown",
   "id": "2b979a5a-bfd7-4637-9a6a-9c6ce6772e55",
   "metadata": {},
   "source": [
    "### Example: Producer/Consumer with Shared Data"
   ]
  },
  {
   "cell_type": "code",
   "execution_count": 7,
   "id": "3edac672-6a2b-4696-aaf5-ea69b3017a77",
   "metadata": {},
   "outputs": [
    {
     "name": "stdout",
     "output_type": "stream",
     "text": [
      "Producer: generating item 0\n",
      "Consumer: processing item-0\n",
      "Producer: generating item 1\n",
      "Consumer: processing item-1\n",
      "Producer: generating item 2\n",
      "Producer: generating item 3\n",
      "Consumer: processing item-2\n",
      "Producer: generating item 4\n",
      "Producer: done\n",
      "Consumer: processing item-3\n",
      "Consumer: processing item-4\n",
      "Consumer: no more items\n",
      "Consumer: done\n",
      "Main thread: all done.\n"
     ]
    }
   ],
   "source": [
    "import threading\n",
    "import time\n",
    "from queue import Queue\n",
    "\n",
    "data_queue = Queue()\n",
    "\n",
    "def producer():\n",
    "    for i in range(5):\n",
    "        print(f\"Producer: generating item {i}\")\n",
    "        data_queue.put(f\"item-{i}\")\n",
    "        time.sleep(1)  # Simulate delay\n",
    "    data_queue.put(None)  # Signal end of data\n",
    "    print(\"Producer: done\")\n",
    "\n",
    "def consumer():\n",
    "    while True:\n",
    "        item = data_queue.get()\n",
    "        if item is None:\n",
    "            print(\"Consumer: no more items\")\n",
    "            break\n",
    "        print(f\"Consumer: processing {item}\")\n",
    "        time.sleep(2)  # Simulate processing delay\n",
    "    print(\"Consumer: done\")\n",
    "\n",
    "# Create threads\n",
    "t1 = threading.Thread(target=producer)\n",
    "t2 = threading.Thread(target=consumer)\n",
    "\n",
    "# Start threads\n",
    "t1.start()\n",
    "t2.start()\n",
    "\n",
    "# Wait for both to finish\n",
    "t1.join()\n",
    "t2.join()\n",
    "\n",
    "print(\"Main thread: all done.\")\n"
   ]
  },
  {
   "cell_type": "code",
   "execution_count": null,
   "id": "a354a75c-035b-4738-b0ce-76e9f894d656",
   "metadata": {},
   "outputs": [],
   "source": []
  }
 ],
 "metadata": {
  "kernelspec": {
   "display_name": "Python 3 (ipykernel)",
   "language": "python",
   "name": "python3"
  },
  "language_info": {
   "codemirror_mode": {
    "name": "ipython",
    "version": 3
   },
   "file_extension": ".py",
   "mimetype": "text/x-python",
   "name": "python",
   "nbconvert_exporter": "python",
   "pygments_lexer": "ipython3",
   "version": "3.8.10"
  }
 },
 "nbformat": 4,
 "nbformat_minor": 5
}

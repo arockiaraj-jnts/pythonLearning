{
 "cells": [
  {
   "cell_type": "markdown",
   "id": "d96cffed-667f-47eb-8ae0-d97ddf4d6938",
   "metadata": {},
   "source": [
    "# Threads and Processing"
   ]
  },
  {
   "cell_type": "markdown",
   "id": "ebfb480f-fa38-45f5-882f-ed9215682d11",
   "metadata": {},
   "source": [
    "**Python uses the threading module for threading.** \n",
    "\n",
    "**Keep in mind that due to the Global Interpreter Lock (GIL), Python threads are best for IO-bound tasks, not CPU-bound ones.**\n"
   ]
  },
  {
   "cell_type": "markdown",
   "id": "13428fa6-6255-4389-9dd7-78a769fa15e8",
   "metadata": {},
   "source": [
    "Use the multiprocessing module for creating separate **processes**. This avoids the GIL and is better for CPU-bound tasks."
   ]
  },
  {
   "cell_type": "markdown",
   "id": "952c337b-912e-4792-b7a8-a298a6412e52",
   "metadata": {},
   "source": [
    "### What is the Global Interpreter Lock (GIL) in Python?\n",
    "\n",
    "The Global Interpreter Lock (GIL) is a mechanism used in the <br>\n",
    "Python (the default and most widely used version). It allows only one thread <br>\n",
    "to execute Python bytecode at a time, even on multi-core processors."
   ]
  },
  {
   "cell_type": "markdown",
   "id": "7ec7f97f-24af-4707-b8a9-17e6cb60e4d4",
   "metadata": {},
   "source": [
    "**Why Does the GIL Exist?**\n",
    "\n",
    "The GIL simplifies memory management in CPython. Specifically:\n",
    "\n",
    "    Python uses reference counting for garbage collection.\n",
    "\n",
    "    Managing shared memory (especially reference counts) across threads without a lock would be error-prone and complex.\n",
    "\n",
    "So, to avoid race conditions in memory management, the GIL ensures that only one thread touches Python objects at a time."
   ]
  },
  {
   "cell_type": "markdown",
   "id": "08e12775-f068-4cd6-a3ce-7d4678c6a1f2",
   "metadata": {},
   "source": [
    "### What is Reference Counting in Python?\n",
    "\n",
    "In Python (especially CPython, the standard implementation), reference counting is the primary mechanism used for memory management and garbage collection.\n",
    "\n",
    "🔗 A reference count is:\n",
    "\n",
    "    The number of references (or \"pointers\") to an object in memory.\n",
    "\n",
    "When an object is created, Python keeps track of how many things (variables, containers, etc.) are pointing to it.\n",
    "\n",
    "🔄 How Reference Counting Works\n",
    "\n",
    "Example:\n",
    "\n",
    "\n",
    "\n"
   ]
  },
  {
   "cell_type": "code",
   "execution_count": 1,
   "id": "b62da83e-52a5-4d4c-8478-597afc4a6f1c",
   "metadata": {},
   "outputs": [],
   "source": [
    "a = [1, 2, 3]  # A list is created, ref count = 1\n",
    "\n",
    "b = a          # Now both `a` and `b` point to the same list, ref count = 2\n",
    "\n",
    "del a          # `a` is deleted, ref count = 1\n",
    "\n",
    "del b          # `b` is deleted, ref count = 0 → object is destroyed"
   ]
  },
  {
   "cell_type": "markdown",
   "id": "daa98d83-9f73-4315-9369-abfcbc13142f",
   "metadata": {},
   "source": [
    "When the reference count drops to zero, Python automatically frees the memory used by that object.\n",
    "\n"
   ]
  },
  {
   "cell_type": "markdown",
   "id": "45eb3318-068f-48c1-aec4-180baceb9a00",
   "metadata": {},
   "source": [
    "### So now we will understand threads are how used in I/O bound  tasks"
   ]
  },
  {
   "cell_type": "markdown",
   "id": "5162b7d7-ef6b-421b-95e7-43572f32f022",
   "metadata": {},
   "source": [
    "An I/O-bound task is a program or operation whose performance is limited by input/output (I/O) operations, rather than the CPU's speed.\n",
    "\n",
    "🔁 I/O means:\n",
    "\n",
    "    Reading/writing files\n",
    "\n",
    "    Network communication (e.g., downloading a web page)\n",
    "\n",
    "    Database access\n",
    "\n",
    "    User input\n",
    "\n",
    "    Disk or USB operations\n",
    "    \n",
    "\n",
    "🐢 I/O is slow compared to the CPU\n",
    "\n",
    "So even if your CPU is fast, your program is waiting around for slow things like:\n",
    "\n",
    "    A file to load\n",
    "\n",
    "    A web request to finish\n",
    "\n",
    "    A database to respond\n",
    "\n"
   ]
  },
  {
   "cell_type": "markdown",
   "id": "d63eacc9-06b4-4d19-a026-e6409eaf0143",
   "metadata": {},
   "source": [
    "### 🧵 Why Threads Help with I/O-Bound Tasks\n",
    "\n",
    "In Python, threads can run while another thread waits for I/O to finish.\n",
    "Example:\n",
    "\n",
    "If one thread is waiting for a file to be read, another thread can keep running.<br>\n",
    "\n",
    "This makes your program more efficient and responsive, especially in web servers or GUIs."
   ]
  },
  {
   "cell_type": "code",
   "execution_count": 3,
   "id": "5bd48cf6-853f-4a5f-9536-52d69a4bb852",
   "metadata": {},
   "outputs": [
    {
     "name": "stdout",
     "output_type": "stream",
     "text": [
      "Start fetching...\n",
      "Start fetching...\n",
      "Done fetching!\n",
      "Done fetching!\n",
      "Total time: 3.01 seconds\n"
     ]
    }
   ],
   "source": [
    "import time\n",
    "import threading\n",
    "\n",
    "def fetch_data():\n",
    "    print(\"Start fetching...\")\n",
    "    time.sleep(3)  # Simulate I/O delay\n",
    "    print(\"Done fetching!\")\n",
    "\n",
    "start = time.time()\n",
    "\n",
    "# Run two I/O-bound tasks in threads\n",
    "t1 = threading.Thread(target=fetch_data)\n",
    "t2 = threading.Thread(target=fetch_data)\n",
    "\n",
    "t1.start()\n",
    "t2.start()\n",
    "t1.join()\n",
    "t2.join()\n",
    "\n",
    "print(f\"Total time: {time.time() - start:.2f} seconds\")\n"
   ]
  },
  {
   "cell_type": "markdown",
   "id": "41b09aad-1a6d-4bce-967a-a1dd012cbf7a",
   "metadata": {},
   "source": [
    "Without threads, this would take ~6 seconds. With threads, they run concurrently, finishing in ~3 seconds."
   ]
  },
  {
   "cell_type": "markdown",
   "id": "86954aeb-3068-4164-b9e8-01ed6fba85cc",
   "metadata": {},
   "source": [
    "### What the Code Does:\n",
    "1. Import Modules\n",
    "\n"
   ]
  },
  {
   "cell_type": "code",
   "execution_count": 4,
   "id": "adfd82b9-690a-4cd7-93a0-f154af5cbe0d",
   "metadata": {},
   "outputs": [],
   "source": [
    "import time\n",
    "import threading\n"
   ]
  },
  {
   "cell_type": "markdown",
   "id": "6474fff5-00a8-4950-86f1-58db3851a1a1",
   "metadata": {},
   "source": [
    "time is used to simulate delay and measure how long the code takes.\n",
    "\n",
    "threading lets us run tasks in separate threads."
   ]
  },
  {
   "cell_type": "markdown",
   "id": "c954b037-bb4a-446c-a8b9-5ea8c0abec56",
   "metadata": {},
   "source": [
    "#### Define a Simulated I/O Task"
   ]
  },
  {
   "cell_type": "code",
   "execution_count": 5,
   "id": "99d0cf7f-3b9b-4083-872f-63b8ed68405b",
   "metadata": {},
   "outputs": [],
   "source": [
    "def fetch_data():\n",
    "    print(\"Start fetching...\")\n",
    "    time.sleep(3)  # Waits for 3 seconds (simulating I/O)\n",
    "    print(\"Done fetching!\")\n"
   ]
  },
  {
   "cell_type": "markdown",
   "id": "ea9c2b4f-073c-4ab0-80fa-4997c1a40845",
   "metadata": {},
   "source": [
    "This function simulates something like downloading a file or querying a database.\n",
    "\n",
    "time.sleep(3) represents waiting (which is typical in I/O tasks)."
   ]
  },
  {
   "cell_type": "markdown",
   "id": "2716baad-6246-47dd-97cd-e510957b9f00",
   "metadata": {},
   "source": [
    "#### Record Start Time"
   ]
  },
  {
   "cell_type": "code",
   "execution_count": 6,
   "id": "207a9ed8-c7b1-4c78-a4f0-3a9f44d0e69c",
   "metadata": {},
   "outputs": [],
   "source": [
    "start = time.time()\n"
   ]
  },
  {
   "cell_type": "markdown",
   "id": "145ed0a7-48d4-4b82-83f7-c1dd2080d22a",
   "metadata": {},
   "source": [
    "Saves the current time so we can measure total runtime later."
   ]
  },
  {
   "cell_type": "markdown",
   "id": "f33126b5-119a-4b5f-9c1a-e60f14f80cec",
   "metadata": {},
   "source": [
    "#### Create Threads"
   ]
  },
  {
   "cell_type": "code",
   "execution_count": 8,
   "id": "e46ad970-cfc6-4704-9db0-b715c31fe41f",
   "metadata": {},
   "outputs": [],
   "source": [
    "t1 = threading.Thread(target=fetch_data)\n",
    "t2 = threading.Thread(target=fetch_data)\n"
   ]
  },
  {
   "cell_type": "markdown",
   "id": "bf67c085-8241-4d2f-97be-b77e79e29466",
   "metadata": {},
   "source": [
    "We create two threads that will both run the fetch_data function independently."
   ]
  },
  {
   "cell_type": "markdown",
   "id": "a6d5152f-4c51-44b4-ab74-9cfcb76729ea",
   "metadata": {},
   "source": [
    "#### Start Threads"
   ]
  },
  {
   "cell_type": "code",
   "execution_count": 9,
   "id": "09d84ebc-a032-436d-be67-f6165527f9a5",
   "metadata": {},
   "outputs": [
    {
     "name": "stdout",
     "output_type": "stream",
     "text": [
      "Start fetching...\n",
      "Start fetching...\n",
      "Done fetching!\n",
      "Done fetching!\n"
     ]
    }
   ],
   "source": [
    "t1.start()\n",
    "t2.start()\n"
   ]
  },
  {
   "cell_type": "markdown",
   "id": "7e431651-2a90-4a5c-90b7-9a07d9e935cd",
   "metadata": {},
   "source": [
    "Both threads begin execution.\n",
    "\n",
    "They both print “Start fetching...” and then sleep for 3 seconds.\n",
    "\n",
    "These delays overlap, because threads run concurrently."
   ]
  },
  {
   "cell_type": "code",
   "execution_count": 10,
   "id": "feba8562-4c8c-49e5-a94d-bb0b21f054aa",
   "metadata": {},
   "outputs": [],
   "source": [
    "t1.join()\n",
    "t2.join()\n"
   ]
  },
  {
   "cell_type": "markdown",
   "id": "16514fd2-6f01-437c-beef-ae1a9d0dbf6f",
   "metadata": {},
   "source": [
    ".join() ensures the main program waits until both threads are done before continuing."
   ]
  },
  {
   "cell_type": "markdown",
   "id": "2182f997-e136-4113-b3b7-c4e61547a3a5",
   "metadata": {},
   "source": [
    "#### Measure Total Time"
   ]
  },
  {
   "cell_type": "code",
   "execution_count": null,
   "id": "bf9ca22d-3e7c-4f79-b5c4-d5628cb297a9",
   "metadata": {},
   "outputs": [],
   "source": [
    "print(f\"Total time: {time.time() - start:.2f} seconds\")\n"
   ]
  },
  {
   "cell_type": "markdown",
   "id": "786e354d-c14d-41c7-8e9e-b32795e77da7",
   "metadata": {},
   "source": [
    "Prints the time it took to run everything."
   ]
  },
  {
   "cell_type": "markdown",
   "id": "8973a5f5-206d-4c6b-9d51-44d1e1b1ca2d",
   "metadata": {},
   "source": [
    "This example shows how multi-threading helps speed up I/O-bound tasks by overlapping the waiting times."
   ]
  },
  {
   "cell_type": "markdown",
   "id": "4c8de3dd-0ffc-4333-83fa-f1e7742f77d8",
   "metadata": {},
   "source": [
    "#### Version WITHOUT Threads (Sequential Execution)"
   ]
  },
  {
   "cell_type": "code",
   "execution_count": 12,
   "id": "cae5b8dd-58f9-4cb0-88a3-726589392780",
   "metadata": {},
   "outputs": [
    {
     "name": "stdout",
     "output_type": "stream",
     "text": [
      "Start fetching...\n",
      "Done fetching!\n",
      "Start fetching...\n",
      "Done fetching!\n",
      "Total time: 6.01 seconds\n"
     ]
    }
   ],
   "source": [
    "import time\n",
    "\n",
    "def fetch_data():\n",
    "    print(\"Start fetching...\")\n",
    "    time.sleep(3)  # Simulate I/O delay\n",
    "    print(\"Done fetching!\")\n",
    "\n",
    "start = time.time()\n",
    "\n",
    "# Run two fetch operations one after the other\n",
    "fetch_data()\n",
    "fetch_data()\n",
    "\n",
    "print(f\"Total time: {time.time() - start:.2f} seconds\")\n"
   ]
  },
  {
   "cell_type": "markdown",
   "id": "d121e65b-30dc-4675-b013-0698cee8d992",
   "metadata": {},
   "source": [
    "🧩 What’s Different?\n",
    "\n",
    "    We call fetch_data() twice directly, one after the other.\n",
    "\n",
    "    Each call to fetch_data() takes 3 seconds.\n",
    "\n",
    "    Because they run sequentially, the total time is 3 + 3 = 6 seconds.\n",
    "\n"
   ]
  },
  {
   "cell_type": "code",
   "execution_count": null,
   "id": "3a2cb110-955d-4841-8adf-abb6ca443fe0",
   "metadata": {},
   "outputs": [],
   "source": []
  },
  {
   "cell_type": "markdown",
   "id": "79aaacfe-f80e-4eac-a248-a8ca378e4a00",
   "metadata": {},
   "source": [
    "### Key Differences in Python\n",
    "|Feature\t|threading\t|multiprocessing|\n",
    "|----------|-----------|----------------|\n",
    "|Best for\t|I/O-bound tasks\t|CPU-bound tasks|\n",
    "|Memory\t|Shared within a process\t|Separate memory for each process|\n",
    "|Performance\t|Limited by GIL for CPU tasks\t|Bypasses GIL, better for CPU tasks|\n",
    "|Crash Risk\t|One bad thread can crash others\t|Crashes are isolated between processes|"
   ]
  },
  {
   "cell_type": "code",
   "execution_count": null,
   "id": "6468575e-2d57-483b-8724-3d221d75724d",
   "metadata": {},
   "outputs": [],
   "source": []
  },
  {
   "cell_type": "code",
   "execution_count": null,
   "id": "12fae1a3-a57c-4f21-a6c8-7ac36ec873b9",
   "metadata": {},
   "outputs": [],
   "source": []
  }
 ],
 "metadata": {
  "kernelspec": {
   "display_name": "Python 3 (ipykernel)",
   "language": "python",
   "name": "python3"
  },
  "language_info": {
   "codemirror_mode": {
    "name": "ipython",
    "version": 3
   },
   "file_extension": ".py",
   "mimetype": "text/x-python",
   "name": "python",
   "nbconvert_exporter": "python",
   "pygments_lexer": "ipython3",
   "version": "3.8.10"
  }
 },
 "nbformat": 4,
 "nbformat_minor": 5
}

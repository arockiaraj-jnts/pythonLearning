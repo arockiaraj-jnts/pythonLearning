{
 "cells": [
  {
   "cell_type": "markdown",
   "id": "e02e6700-0842-4968-9296-af369bc42339",
   "metadata": {},
   "source": [
    "# Custom Errors"
   ]
  },
  {
   "cell_type": "markdown",
   "id": "48c811b9-430d-44dc-8d43-3143d634eaca",
   "metadata": {},
   "source": [
    "Custom exceptions let you define your own error types when built-in exceptions aren't enough. This is especially useful in larger programs or libraries where you want to signal specific types of problems.\n"
   ]
  },
  {
   "cell_type": "markdown",
   "id": "88473a74-a4dd-4846-a49a-7a0518ac9e33",
   "metadata": {},
   "source": [
    "### Define a class that inherits from Exception:"
   ]
  },
  {
   "cell_type": "code",
   "execution_count": 1,
   "id": "bf40e77f-527d-4197-8f51-67b7b09b99c4",
   "metadata": {},
   "outputs": [],
   "source": [
    "class MyCustomError(Exception):\n",
    "    pass\n"
   ]
  },
  {
   "cell_type": "markdown",
   "id": "51359715-4413-407b-975e-27bd32f5c5ef",
   "metadata": {},
   "source": [
    "You can now raise this exception when something specific goes wrong."
   ]
  },
  {
   "cell_type": "markdown",
   "id": "0b055b9e-1920-41e3-9e28-112fda8ed55f",
   "metadata": {},
   "source": [
    "#### Basic Custom Exception"
   ]
  },
  {
   "cell_type": "code",
   "execution_count": 2,
   "id": "a823a6c2-c57f-42a9-ae1a-c392f8a57f03",
   "metadata": {},
   "outputs": [
    {
     "name": "stdout",
     "output_type": "stream",
     "text": [
      "Custom Exception: Age must be at least 18.\n"
     ]
    }
   ],
   "source": [
    "class AgeTooSmallError(Exception):\n",
    "    pass\n",
    "\n",
    "def check_age(age):\n",
    "    if age < 18:\n",
    "        raise AgeTooSmallError(\"Age must be at least 18.\")\n",
    "    else:\n",
    "        print(\"Age is valid.\")\n",
    "\n",
    "try:\n",
    "    check_age(15)\n",
    "except AgeTooSmallError as e:\n",
    "    print(\"Custom Exception:\", e)\n"
   ]
  },
  {
   "cell_type": "code",
   "execution_count": null,
   "id": "8e446579-00f6-4bfd-9991-d9ed5b15cc2d",
   "metadata": {},
   "outputs": [],
   "source": []
  }
 ],
 "metadata": {
  "kernelspec": {
   "display_name": "Python 3 (ipykernel)",
   "language": "python",
   "name": "python3"
  },
  "language_info": {
   "codemirror_mode": {
    "name": "ipython",
    "version": 3
   },
   "file_extension": ".py",
   "mimetype": "text/x-python",
   "name": "python",
   "nbconvert_exporter": "python",
   "pygments_lexer": "ipython3",
   "version": "3.8.10"
  }
 },
 "nbformat": 4,
 "nbformat_minor": 5
}

{
 "cells": [
  {
   "cell_type": "markdown",
   "id": "42537c6e-80a0-441a-a794-b837ba3c93ec",
   "metadata": {},
   "source": [
    "# Errors"
   ]
  },
  {
   "cell_type": "markdown",
   "id": "dade5e16-a492-471b-80c9-3ad829dfc68f",
   "metadata": {},
   "source": [
    "The try block lets you test a block of code for errors.\n",
    "\n",
    "The except block lets you handle the error.\n",
    "\n",
    "The else block lets you execute code when there is no error.\n",
    "\n",
    "The finally block lets you execute code, regardless of the result of the try- and except blocks."
   ]
  },
  {
   "cell_type": "code",
   "execution_count": 1,
   "id": "9ee4f98c-ec79-46a2-aef7-86710d51104f",
   "metadata": {},
   "outputs": [
    {
     "ename": "NameError",
     "evalue": "name 'x' is not defined",
     "output_type": "error",
     "traceback": [
      "\u001b[0;31m---------------------------------------------------------------------------\u001b[0m",
      "\u001b[0;31mNameError\u001b[0m                                 Traceback (most recent call last)",
      "Cell \u001b[0;32mIn[1], line 1\u001b[0m\n\u001b[0;32m----> 1\u001b[0m \u001b[38;5;28mprint\u001b[39m(\u001b[43mx\u001b[49m) \n",
      "\u001b[0;31mNameError\u001b[0m: name 'x' is not defined"
     ]
    }
   ],
   "source": [
    "print(x) "
   ]
  },
  {
   "cell_type": "code",
   "execution_count": 3,
   "id": "dd14d24d-0527-47bd-9b9a-22c62e57c7c8",
   "metadata": {},
   "outputs": [
    {
     "name": "stdout",
     "output_type": "stream",
     "text": [
      "An exception occurred\n"
     ]
    }
   ],
   "source": [
    "#The try block will generate an exception, because x is not defined:\n",
    "try:\n",
    "  print(x)\n",
    "except:\n",
    "  print(\"An exception occurred\") "
   ]
  },
  {
   "cell_type": "code",
   "execution_count": 9,
   "id": "043bd005-5274-4c1e-b265-6cf433b5df22",
   "metadata": {},
   "outputs": [
    {
     "name": "stdout",
     "output_type": "stream",
     "text": [
      "An exception occurred -  NameError   name 'x' is not defined\n"
     ]
    }
   ],
   "source": [
    "try:\n",
    "  print(x)\n",
    "except Exception as e:\n",
    "  print(\"An exception occurred - \",type(e).__name__,\" \",e) "
   ]
  },
  {
   "cell_type": "markdown",
   "id": "098aaebe-5f8a-4f3c-921c-2bf8bbe90ba7",
   "metadata": {},
   "source": [
    "### Many Exceptions\n",
    "\n",
    "You can define as many exception blocks as you want, e.g. if you want to execute a special block of code for a special kind of error:"
   ]
  },
  {
   "cell_type": "markdown",
   "id": "7bd2c2b4-f682-4fb3-b1cd-54ab5b48e3e2",
   "metadata": {},
   "source": [
    "Print one message if the try block raises a NameError and another for other errors:"
   ]
  },
  {
   "cell_type": "code",
   "execution_count": 10,
   "id": "1f39b9ba-0fed-44ad-ad5e-ac1d6af190d6",
   "metadata": {},
   "outputs": [
    {
     "name": "stdout",
     "output_type": "stream",
     "text": [
      "Variable x is not defined\n"
     ]
    }
   ],
   "source": [
    "try:\n",
    "  print(x)\n",
    "except NameError:\n",
    "  print(\"Variable x is not defined\")\n",
    "except:\n",
    "  print(\"Something else went wrong\") "
   ]
  },
  {
   "cell_type": "markdown",
   "id": "7af44d06-b130-4960-a4fd-d2bfe2f3a562",
   "metadata": {},
   "source": [
    "### Else\n",
    "\n",
    "You can use the else keyword to define a block of code to be executed if no errors were raised:"
   ]
  },
  {
   "cell_type": "code",
   "execution_count": 12,
   "id": "a7fd91b4-9748-4e9c-a80c-64ab0d1aa68b",
   "metadata": {},
   "outputs": [
    {
     "name": "stdout",
     "output_type": "stream",
     "text": [
      "Hello\n",
      "Nothing went wrong\n"
     ]
    }
   ],
   "source": [
    "try:\n",
    "  print(\"Hello\")\n",
    "except:\n",
    "  print(\"Something went wrong\")\n",
    "else:\n",
    "  print(\"Nothing went wrong\") "
   ]
  },
  {
   "cell_type": "markdown",
   "id": "c72f8365-e0c2-48c5-9bd3-a3a801aa01a9",
   "metadata": {},
   "source": [
    "### Finally\n",
    "The finally block, if specified, will be executed regardless if the try block raises an error or not."
   ]
  },
  {
   "cell_type": "code",
   "execution_count": 14,
   "id": "c19c807d-967f-47cc-9a0f-7e6fc254a3aa",
   "metadata": {},
   "outputs": [
    {
     "name": "stdout",
     "output_type": "stream",
     "text": [
      "Something went wrong\n",
      "The 'try except' is finished\n"
     ]
    }
   ],
   "source": [
    "try:\n",
    "  print(x)\n",
    "except:\n",
    "  print(\"Something went wrong\")\n",
    "finally:\n",
    "  print(\"The 'try except' is finished\") "
   ]
  },
  {
   "cell_type": "markdown",
   "id": "72d615e3-3f1a-4943-bf9a-74198f27cacc",
   "metadata": {},
   "source": [
    "This can be useful to close objects and clean up resources:"
   ]
  },
  {
   "cell_type": "code",
   "execution_count": 15,
   "id": "bc35b04b-4023-4f11-9887-3fe23ee64b21",
   "metadata": {},
   "outputs": [
    {
     "name": "stdout",
     "output_type": "stream",
     "text": [
      "The file does not exist.\n"
     ]
    }
   ],
   "source": [
    "try:\n",
    "    file = open(\"data.txt\", \"r\")\n",
    "    content = file.read()This can be useful to close objects and clean up resources:\n",
    "    print(content)\n",
    "except FileNotFoundError:\n",
    "    print(\"The file does not exist.\")\n",
    "finally:\n",
    "    try:\n",
    "        file.close()\n",
    "    except NameError:\n",
    "        pass  # File was never opened\n"
   ]
  },
  {
   "cell_type": "markdown",
   "id": "4d9dba20-4a55-4258-8442-a229bdef17f6",
   "metadata": {},
   "source": [
    "### Common Errors"
   ]
  },
  {
   "cell_type": "markdown",
   "id": "4a75c80b-c985-431a-8f2b-53ddf7fd3dc1",
   "metadata": {},
   "source": [
    "| Error type |When It Occurs|\n",
    "|-----------|---------------|     \n",
    "|ValueError\t|Wrong value type (e.g., int(\"abc\"))|\n",
    "|TypeError\t|Invalid type operations (e.g., \"a\" + 5)|\n",
    "|ZeroDivisionError\t|Dividing by zero (1/0)|\n",
    "|IndexError\t|Accessing a list index out of range|\n",
    "|KeyError\t|Accessing a missing key in a dictionary|\n",
    "|FileNotFoundError\t|Trying to open a file that doesn’t exist|"
   ]
  },
  {
   "cell_type": "code",
   "execution_count": null,
   "id": "d8bb98b2-6597-4e70-b376-9bb9b3a523d9",
   "metadata": {},
   "outputs": [],
   "source": []
  }
 ],
 "metadata": {
  "kernelspec": {
   "display_name": "Python 3 (ipykernel)",
   "language": "python",
   "name": "python3"
  },
  "language_info": {
   "codemirror_mode": {
    "name": "ipython",
    "version": 3
   },
   "file_extension": ".py",
   "mimetype": "text/x-python",
   "name": "python",
   "nbconvert_exporter": "python",
   "pygments_lexer": "ipython3",
   "version": "3.8.10"
  }
 },
 "nbformat": 4,
 "nbformat_minor": 5
}

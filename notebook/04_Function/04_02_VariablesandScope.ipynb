{
 "cells": [
  {
   "cell_type": "markdown",
   "id": "d948b84e-a22f-4a0e-926a-93fd7536572c",
   "metadata": {},
   "source": [
    "# Variables and Scope"
   ]
  },
  {
   "cell_type": "markdown",
   "id": "78324c19-e5be-4060-a230-dc06415a06a9",
   "metadata": {},
   "source": [
    "#### Local Scope\n",
    "\n",
    "A variable created inside a function belongs to the local scope of that function, and can only be used inside that function."
   ]
  },
  {
   "cell_type": "code",
   "execution_count": 1,
   "id": "a734b25a-b84c-4e75-8cc4-2548be63b4dc",
   "metadata": {},
   "outputs": [
    {
     "name": "stdout",
     "output_type": "stream",
     "text": [
      "300\n"
     ]
    }
   ],
   "source": [
    "def myfunc():\n",
    "  x = 300\n",
    "  print(x)\n",
    "\n",
    "myfunc() "
   ]
  },
  {
   "cell_type": "code",
   "execution_count": 2,
   "id": "8fb2728c-7287-4ca2-8260-17d7f8727c7d",
   "metadata": {},
   "outputs": [
    {
     "ename": "NameError",
     "evalue": "name 'x' is not defined",
     "output_type": "error",
     "traceback": [
      "\u001b[0;31m---------------------------------------------------------------------------\u001b[0m",
      "\u001b[0;31mNameError\u001b[0m                                 Traceback (most recent call last)",
      "Cell \u001b[0;32mIn[2], line 5\u001b[0m\n\u001b[1;32m      2\u001b[0m   x \u001b[38;5;241m=\u001b[39m \u001b[38;5;241m300\u001b[39m\n\u001b[1;32m      3\u001b[0m   \u001b[38;5;28mprint\u001b[39m(x)\n\u001b[0;32m----> 5\u001b[0m \u001b[43mx\u001b[49m \n",
      "\u001b[0;31mNameError\u001b[0m: name 'x' is not defined"
     ]
    }
   ],
   "source": [
    "def myfunc():\n",
    "  x = 300\n",
    "  print(x)\n",
    "\n",
    "x "
   ]
  },
  {
   "cell_type": "markdown",
   "id": "a64e75d5-0559-4379-9d65-ed32ac216405",
   "metadata": {},
   "source": [
    "#### Function Inside Function\n",
    "\n",
    "As explained in the example above, the variable x is not available outside the function, but it is available for any function inside the function:\n"
   ]
  },
  {
   "cell_type": "code",
   "execution_count": 3,
   "id": "d80e48f1-c74c-494b-b4ef-f748a4277c13",
   "metadata": {},
   "outputs": [
    {
     "name": "stdout",
     "output_type": "stream",
     "text": [
      "300\n"
     ]
    }
   ],
   "source": [
    "def myfunc():\n",
    "  x = 300\n",
    "  def myinnerfunc():\n",
    "    print(x)\n",
    "  myinnerfunc()\n",
    "\n",
    "myfunc() "
   ]
  },
  {
   "cell_type": "markdown",
   "id": "4b464300-2838-4b5b-8e18-056e14089890",
   "metadata": {},
   "source": [
    "#### Global Scope\n",
    "\n",
    "A variable created in the main body of the Python code is a global variable and belongs to the global scope.\n",
    "\n",
    "Global variables are available from within any scope, global and local."
   ]
  },
  {
   "cell_type": "code",
   "execution_count": 4,
   "id": "1136a934-4168-42ad-ba24-7ed41084842a",
   "metadata": {},
   "outputs": [
    {
     "name": "stdout",
     "output_type": "stream",
     "text": [
      "300\n",
      "300\n"
     ]
    }
   ],
   "source": [
    "x = 300\n",
    "\n",
    "def myfunc():\n",
    "  print(x)\n",
    "\n",
    "myfunc()\n",
    "\n",
    "print(x) "
   ]
  },
  {
   "cell_type": "markdown",
   "id": "7037fc82-bcf4-4542-9f68-316412d468af",
   "metadata": {},
   "source": [
    "#### Naming Variables\n",
    "\n",
    "If you operate with the same variable name inside and outside of a function, Python will treat them as two separate variables, one available in the global scope (outside the function) and one available in the local scope (inside the function):"
   ]
  },
  {
   "cell_type": "markdown",
   "id": "3fed97be-7ea5-45f0-8d88-01393f7b5d76",
   "metadata": {},
   "source": [
    "The function will print the local x, and then the code will print the global x:"
   ]
  },
  {
   "cell_type": "code",
   "execution_count": 5,
   "id": "913f0a48-6e35-4b0f-b106-cc6824d4c481",
   "metadata": {},
   "outputs": [
    {
     "name": "stdout",
     "output_type": "stream",
     "text": [
      "200\n",
      "300\n"
     ]
    }
   ],
   "source": [
    "x = 300\n",
    "\n",
    "def myfunc():\n",
    "  x = 200\n",
    "  print(x)\n",
    "\n",
    "myfunc()\n",
    "\n",
    "print(x) "
   ]
  },
  {
   "cell_type": "markdown",
   "id": "1f067358-3d05-446a-9d8d-2932c52e8a55",
   "metadata": {},
   "source": [
    "#### Global Keyword\n",
    "\n",
    "If you need to create a global variable, but are stuck in the local scope, you can use the global keyword.\n",
    "\n",
    "The global keyword makes the variable global."
   ]
  },
  {
   "cell_type": "code",
   "execution_count": 6,
   "id": "9b951d58-7db7-4ce9-b876-2581ea93d423",
   "metadata": {},
   "outputs": [
    {
     "name": "stdout",
     "output_type": "stream",
     "text": [
      "300\n"
     ]
    }
   ],
   "source": [
    "def myfunc():\n",
    "  global x\n",
    "  x = 300\n",
    "\n",
    "myfunc()\n",
    "\n",
    "print(x) "
   ]
  },
  {
   "cell_type": "markdown",
   "id": "7dc31f4f-c328-4da5-a89d-7d623371b058",
   "metadata": {},
   "source": [
    "#### Also, use the global keyword if you want to make a change to a global variable inside a function."
   ]
  },
  {
   "cell_type": "code",
   "execution_count": 7,
   "id": "41ac127e-5ed1-47d4-ab05-04958b58dbeb",
   "metadata": {},
   "outputs": [],
   "source": [
    "x = 300\n",
    "\n",
    "def myfunc():\n",
    "  global x\n",
    "  x = 200\n",
    "\n",
    "myfunc()\n"
   ]
  },
  {
   "cell_type": "code",
   "execution_count": null,
   "id": "4eedac4e-2ba1-4e7c-a392-e335679338a9",
   "metadata": {},
   "outputs": [],
   "source": []
  }
 ],
 "metadata": {
  "kernelspec": {
   "display_name": "Python 3 (ipykernel)",
   "language": "python",
   "name": "python3"
  },
  "language_info": {
   "codemirror_mode": {
    "name": "ipython",
    "version": 3
   },
   "file_extension": ".py",
   "mimetype": "text/x-python",
   "name": "python",
   "nbconvert_exporter": "python",
   "pygments_lexer": "ipython3",
   "version": "3.8.10"
  }
 },
 "nbformat": 4,
 "nbformat_minor": 5
}

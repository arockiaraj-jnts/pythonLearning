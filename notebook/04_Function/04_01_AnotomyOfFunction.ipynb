{
 "cells": [
  {
   "cell_type": "markdown",
   "id": "c012ee76-e20a-49a7-bfcb-80504f876316",
   "metadata": {},
   "source": [
    "#  Functions"
   ]
  },
  {
   "cell_type": "markdown",
   "id": "077f1c74-a0bf-481f-a9cd-2638048020ec",
   "metadata": {},
   "source": [
    "A function is a block of code which only runs when it is called.\n",
    "\n",
    "You can pass data, known as parameters, into a function.\n",
    "\n",
    "A function can return data as a result."
   ]
  },
  {
   "cell_type": "markdown",
   "id": "dc33b44c-257e-463e-88db-d393ba614684",
   "metadata": {},
   "source": [
    "#### Creating a Function\n",
    "\n",
    "In Python a function is defined using the def keyword:"
   ]
  },
  {
   "cell_type": "code",
   "execution_count": 1,
   "id": "17b5a7bd-944d-4cbb-a8a9-ca4a46156810",
   "metadata": {},
   "outputs": [],
   "source": [
    "def my_function():\n",
    "  print(\"Hello from a function\") "
   ]
  },
  {
   "cell_type": "markdown",
   "id": "fedd8637-c367-4d52-8f01-65a62ce9694e",
   "metadata": {},
   "source": [
    "#### Calling a Function\n",
    "\n",
    "To call a function, use the function name followed by parenthesis:"
   ]
  },
  {
   "cell_type": "code",
   "execution_count": 2,
   "id": "f37d20ae-3dd8-4629-9204-b8341b4f67ae",
   "metadata": {},
   "outputs": [
    {
     "name": "stdout",
     "output_type": "stream",
     "text": [
      "Hello from a function\n"
     ]
    }
   ],
   "source": [
    "def my_function():\n",
    "  print(\"Hello from a function\")\n",
    "\n",
    "my_function()"
   ]
  },
  {
   "cell_type": "markdown",
   "id": "6703ec3d-682c-4a1d-a959-28eaa5a01299",
   "metadata": {},
   "source": [
    "#### Arguments\n",
    "\n",
    "Information can be passed into functions as arguments.\n",
    "\n",
    "Arguments are specified after the function name, inside the parentheses. You can add as many arguments as you want, just separate them with a comma.\n",
    "\n",
    "The following example has a function with one argument (fname). When the function is called, we pass along a first name, which is used inside the function to print the full name: "
   ]
  },
  {
   "cell_type": "code",
   "execution_count": 3,
   "id": "8da4f005-378f-409f-b809-d766372f3f8f",
   "metadata": {},
   "outputs": [
    {
     "name": "stdout",
     "output_type": "stream",
     "text": [
      "Emil Refsnes\n",
      "Tobias Refsnes\n",
      "Linus Refsnes\n"
     ]
    }
   ],
   "source": [
    "def my_function(fname):\n",
    "  print(fname + \" Refsnes\")\n",
    "\n",
    "my_function(\"Emil\")\n",
    "my_function(\"Tobias\")\n",
    "my_function(\"Linus\") "
   ]
  },
  {
   "cell_type": "markdown",
   "id": "e891662b-49e9-4e18-a2c8-49a61aad044e",
   "metadata": {},
   "source": [
    "#### Parameters or Arguments?\n",
    "\n",
    "The terms parameter and argument can be used for the same thing: information that are passed into a function.\n",
    "\n",
    "From a function's perspective:\n",
    "\n",
    "**A parameter is the variable listed inside the parentheses in the function definition.**\n",
    "\n",
    "**An argument is the value that is sent to the function when it is called.**\n"
   ]
  },
  {
   "cell_type": "code",
   "execution_count": 4,
   "id": "9d4dc245-d017-424c-8311-7af2feaa248f",
   "metadata": {},
   "outputs": [
    {
     "name": "stdout",
     "output_type": "stream",
     "text": [
      "Emil Refsnes\n"
     ]
    }
   ],
   "source": [
    "def my_function(fname, lname):\n",
    "  print(fname + \" \" + lname)\n",
    "\n",
    "my_function(\"Emil\", \"Refsnes\") "
   ]
  },
  {
   "cell_type": "markdown",
   "id": "4712c7da-2444-4680-b947-1113e5aa0e20",
   "metadata": {},
   "source": [
    "If you try to call the function with 1 or 3 arguments, you will get an error: "
   ]
  },
  {
   "cell_type": "code",
   "execution_count": 5,
   "id": "1bf5acc6-d8e5-4571-8743-eba63be36021",
   "metadata": {},
   "outputs": [
    {
     "ename": "TypeError",
     "evalue": "my_function() missing 1 required positional argument: 'lname'",
     "output_type": "error",
     "traceback": [
      "\u001b[0;31m---------------------------------------------------------------------------\u001b[0m",
      "\u001b[0;31mTypeError\u001b[0m                                 Traceback (most recent call last)",
      "Cell \u001b[0;32mIn[5], line 4\u001b[0m\n\u001b[1;32m      1\u001b[0m \u001b[38;5;28;01mdef\u001b[39;00m\u001b[38;5;250m \u001b[39m\u001b[38;5;21mmy_function\u001b[39m(fname, lname):\n\u001b[1;32m      2\u001b[0m   \u001b[38;5;28mprint\u001b[39m(fname \u001b[38;5;241m+\u001b[39m \u001b[38;5;124m\"\u001b[39m\u001b[38;5;124m \u001b[39m\u001b[38;5;124m\"\u001b[39m \u001b[38;5;241m+\u001b[39m lname)\n\u001b[0;32m----> 4\u001b[0m \u001b[43mmy_function\u001b[49m\u001b[43m(\u001b[49m\u001b[38;5;124;43m\"\u001b[39;49m\u001b[38;5;124;43mEmil\u001b[39;49m\u001b[38;5;124;43m\"\u001b[39;49m\u001b[43m)\u001b[49m \n",
      "\u001b[0;31mTypeError\u001b[0m: my_function() missing 1 required positional argument: 'lname'"
     ]
    }
   ],
   "source": [
    "def my_function(fname, lname):\n",
    "  print(fname + \" \" + lname)\n",
    "\n",
    "my_function(\"Emil\") "
   ]
  },
  {
   "cell_type": "markdown",
   "id": "1feb39f2-cdf9-4d42-a826-70e0c87b1d57",
   "metadata": {},
   "source": [
    "#### Arbitrary Arguments, *args\n",
    "\n",
    "If you do not know how many arguments that will be passed into your function, add a * before the parameter name in the function definition.\n",
    "\n",
    "This way the function will receive a tuple of arguments, and can access the items accordingly:"
   ]
  },
  {
   "cell_type": "code",
   "execution_count": 6,
   "id": "6f375563-d871-491e-84cc-43d35885e55a",
   "metadata": {},
   "outputs": [
    {
     "name": "stdout",
     "output_type": "stream",
     "text": [
      "The youngest child is Linus\n"
     ]
    }
   ],
   "source": [
    "def my_function(*kids):\n",
    "  print(\"The youngest child is \" + kids[2])\n",
    "\n",
    "my_function(\"Emil\", \"Tobias\", \"Linus\") "
   ]
  },
  {
   "cell_type": "markdown",
   "id": "c6dafba4-1672-46c3-b968-aabe0685bb7a",
   "metadata": {},
   "source": [
    "#### Keyword Arguments\n",
    "\n",
    "You can also send arguments with the key = value syntax.\n",
    "\n",
    "This way the order of the arguments does not matter."
   ]
  },
  {
   "cell_type": "code",
   "execution_count": 7,
   "id": "4c5c1aef-47c5-4947-bcad-1e60f8a0a80d",
   "metadata": {},
   "outputs": [
    {
     "name": "stdout",
     "output_type": "stream",
     "text": [
      "The youngest child is Linus\n"
     ]
    }
   ],
   "source": [
    "def my_function(child3, child2, child1):\n",
    "  print(\"The youngest child is \" + child3)\n",
    "\n",
    "my_function(child1 = \"Emil\", child2 = \"Tobias\", child3 = \"Linus\") "
   ]
  },
  {
   "cell_type": "markdown",
   "id": "8b2b8e9b-35eb-4fec-b2d6-57de801f1dc0",
   "metadata": {},
   "source": [
    "#### Arbitrary Keyword Arguments, **kwargs\n",
    "\n",
    "If you do not know how many keyword arguments that will be passed into your function, add two asterisk: ** before the parameter name in the function definition.\n",
    "\n",
    "This way the function will receive a dictionary of arguments, and can access the items accordingly:\n",
    "Example\n",
    "\n",
    "If the number of keyword arguments is unknown, add a double ** before the parameter name:"
   ]
  },
  {
   "cell_type": "code",
   "execution_count": 8,
   "id": "104caf63-cf10-40db-936e-64d562e39e98",
   "metadata": {},
   "outputs": [
    {
     "name": "stdout",
     "output_type": "stream",
     "text": [
      "His last name is Refsnes\n"
     ]
    }
   ],
   "source": [
    "def my_function(**kid):\n",
    "  print(\"His last name is \" + kid[\"lname\"])\n",
    "\n",
    "my_function(fname = \"Tobias\", lname = \"Refsnes\") "
   ]
  },
  {
   "cell_type": "markdown",
   "id": "baffd003-760b-458b-b95a-52822fee1f82",
   "metadata": {},
   "source": [
    "#### Default Parameter Value\n",
    "\n",
    "The following example shows how to use a default parameter value.\n",
    "\n",
    "If we call the function without argument, it uses the default value:"
   ]
  },
  {
   "cell_type": "code",
   "execution_count": 9,
   "id": "40f080a0-7bb8-4202-b79a-3e5fb8dd4df5",
   "metadata": {},
   "outputs": [
    {
     "name": "stdout",
     "output_type": "stream",
     "text": [
      "I am from Sweden\n",
      "I am from India\n",
      "I am from Norway\n",
      "I am from Brazil\n"
     ]
    }
   ],
   "source": [
    "def my_function(country = \"Norway\"):\n",
    "  print(\"I am from \" + country)\n",
    "\n",
    "my_function(\"Sweden\")\n",
    "my_function(\"India\")\n",
    "my_function()\n",
    "my_function(\"Brazil\") "
   ]
  },
  {
   "cell_type": "markdown",
   "id": "d1493a94-fb42-49ab-8505-e89071907ce0",
   "metadata": {},
   "source": [
    "#### Passing a List as an Argument\n",
    "\n",
    "You can send any data types of argument to a function (string, number, list, dictionary etc.), and it will be treated as the same data type inside the function.\n",
    "\n",
    "E.g. if you send a List as an argument, it will still be a List when it reaches the function:"
   ]
  },
  {
   "cell_type": "code",
   "execution_count": 10,
   "id": "6e662f6f-1a9a-458d-ab5c-a5d3b8484be9",
   "metadata": {},
   "outputs": [
    {
     "name": "stdout",
     "output_type": "stream",
     "text": [
      "apple\n",
      "banana\n",
      "cherry\n"
     ]
    }
   ],
   "source": [
    "def my_function(food):\n",
    "  for x in food:\n",
    "    print(x)\n",
    "\n",
    "fruits = [\"apple\", \"banana\", \"cherry\"]\n",
    "\n",
    "my_function(fruits)"
   ]
  },
  {
   "cell_type": "markdown",
   "id": "76176a61-9346-40ba-a4d2-def623c25597",
   "metadata": {},
   "source": [
    "#### Return Values\n",
    "\n",
    "To let a function return a value, use the return statement:"
   ]
  },
  {
   "cell_type": "code",
   "execution_count": 11,
   "id": "69fe1d0e-73d5-47c3-b87f-406166bfa67b",
   "metadata": {},
   "outputs": [
    {
     "name": "stdout",
     "output_type": "stream",
     "text": [
      "15\n",
      "25\n",
      "45\n"
     ]
    }
   ],
   "source": [
    "def my_function(x):\n",
    "  return 5 * x\n",
    "\n",
    "print(my_function(3))\n",
    "print(my_function(5))\n",
    "print(my_function(9)) "
   ]
  },
  {
   "cell_type": "markdown",
   "id": "2a92e8dc-6844-4afb-bd86-be408bc2bfa0",
   "metadata": {},
   "source": [
    "#### The pass Statement\n",
    "\n",
    "function definitions cannot be empty, but if you for some reason have a function definition with no content, put in the pass statement to avoid getting an error."
   ]
  },
  {
   "cell_type": "code",
   "execution_count": 12,
   "id": "07cd1aa1-142d-4bfe-b9d7-d6a5ec7c1042",
   "metadata": {},
   "outputs": [],
   "source": [
    "def myfunction():\n",
    "  pass"
   ]
  },
  {
   "cell_type": "markdown",
   "id": "c1f78ce3-f954-402c-b01d-e684fb57ff65",
   "metadata": {},
   "source": [
    "#### Positional-Only Arguments\n",
    "\n",
    "You can specify that a function can have ONLY positional arguments, or ONLY keyword arguments.\n",
    "\n",
    "To specify that a function can have only positional arguments, add , / after the arguments:"
   ]
  },
  {
   "cell_type": "code",
   "execution_count": 13,
   "id": "d3665022-b259-46e1-b40f-1672f9a29079",
   "metadata": {},
   "outputs": [
    {
     "name": "stdout",
     "output_type": "stream",
     "text": [
      "3\n"
     ]
    }
   ],
   "source": [
    "def my_function(x, /):\n",
    "  print(x)\n",
    "\n",
    "my_function(3) "
   ]
  },
  {
   "cell_type": "markdown",
   "id": "9d0af4a5-b927-462b-b34d-a4a247928262",
   "metadata": {},
   "source": [
    "Without the , / you are actually allowed to use keyword arguments even if the function expects positional arguments:"
   ]
  },
  {
   "cell_type": "code",
   "execution_count": 14,
   "id": "5fe63f84-9840-46e3-80f1-9cbae79872a6",
   "metadata": {},
   "outputs": [
    {
     "name": "stdout",
     "output_type": "stream",
     "text": [
      "3\n"
     ]
    }
   ],
   "source": [
    "def my_function(x):\n",
    "  print(x)\n",
    "\n",
    "my_function(x = 3) "
   ]
  },
  {
   "cell_type": "markdown",
   "id": "b9254291-9aeb-4167-bdd9-e7a2569597ec",
   "metadata": {},
   "source": [
    "But when adding the , / you will get an error if you try to send a keyword argument:"
   ]
  },
  {
   "cell_type": "code",
   "execution_count": 16,
   "id": "20dc1535-8485-417d-979c-a93e61ce9507",
   "metadata": {},
   "outputs": [
    {
     "ename": "TypeError",
     "evalue": "my_function() got some positional-only arguments passed as keyword arguments: 'x'",
     "output_type": "error",
     "traceback": [
      "\u001b[0;31m---------------------------------------------------------------------------\u001b[0m",
      "\u001b[0;31mTypeError\u001b[0m                                 Traceback (most recent call last)",
      "Cell \u001b[0;32mIn[16], line 4\u001b[0m\n\u001b[1;32m      1\u001b[0m \u001b[38;5;28;01mdef\u001b[39;00m\u001b[38;5;250m \u001b[39m\u001b[38;5;21mmy_function\u001b[39m(x, \u001b[38;5;241m/\u001b[39m):\n\u001b[1;32m      2\u001b[0m   \u001b[38;5;28mprint\u001b[39m(x)\n\u001b[0;32m----> 4\u001b[0m \u001b[43mmy_function\u001b[49m\u001b[43m(\u001b[49m\u001b[43mx\u001b[49m\u001b[43m \u001b[49m\u001b[38;5;241;43m=\u001b[39;49m\u001b[43m \u001b[49m\u001b[38;5;241;43m3\u001b[39;49m\u001b[43m)\u001b[49m\n",
      "\u001b[0;31mTypeError\u001b[0m: my_function() got some positional-only arguments passed as keyword arguments: 'x'"
     ]
    }
   ],
   "source": [
    "def my_function(x, /):\n",
    "  print(x)\n",
    "\n",
    "my_function(x = 3)"
   ]
  },
  {
   "cell_type": "markdown",
   "id": "a7e4d34e-b67d-4cdd-8469-cdb83543f93a",
   "metadata": {},
   "source": [
    "#### Keyword-Only Arguments\n",
    "\n",
    "To specify that a function can have only keyword arguments, add *, before the arguments:"
   ]
  },
  {
   "cell_type": "code",
   "execution_count": 17,
   "id": "2fb6d7b7-5ca1-46e1-bd90-0bc814756b2b",
   "metadata": {},
   "outputs": [
    {
     "name": "stdout",
     "output_type": "stream",
     "text": [
      "3\n"
     ]
    }
   ],
   "source": [
    "def my_function(*, x):\n",
    "  print(x)\n",
    "\n",
    "my_function(x = 3) "
   ]
  },
  {
   "cell_type": "markdown",
   "id": "e44a3373-e7d4-4125-8101-c21cac15eecc",
   "metadata": {},
   "source": [
    "But with the *, you will get an error if you try to send a positional argument:"
   ]
  },
  {
   "cell_type": "code",
   "execution_count": 18,
   "id": "a064a0cc-ae1a-48b6-8721-cc266862f2ac",
   "metadata": {},
   "outputs": [
    {
     "ename": "TypeError",
     "evalue": "my_function() takes 0 positional arguments but 1 was given",
     "output_type": "error",
     "traceback": [
      "\u001b[0;31m---------------------------------------------------------------------------\u001b[0m",
      "\u001b[0;31mTypeError\u001b[0m                                 Traceback (most recent call last)",
      "Cell \u001b[0;32mIn[18], line 4\u001b[0m\n\u001b[1;32m      1\u001b[0m \u001b[38;5;28;01mdef\u001b[39;00m\u001b[38;5;250m \u001b[39m\u001b[38;5;21mmy_function\u001b[39m(\u001b[38;5;241m*\u001b[39m, x):\n\u001b[1;32m      2\u001b[0m   \u001b[38;5;28mprint\u001b[39m(x)\n\u001b[0;32m----> 4\u001b[0m \u001b[43mmy_function\u001b[49m\u001b[43m(\u001b[49m\u001b[38;5;241;43m3\u001b[39;49m\u001b[43m)\u001b[49m \n",
      "\u001b[0;31mTypeError\u001b[0m: my_function() takes 0 positional arguments but 1 was given"
     ]
    }
   ],
   "source": [
    "def my_function(*, x):\n",
    "  print(x)\n",
    "\n",
    "my_function(3) "
   ]
  },
  {
   "cell_type": "markdown",
   "id": "21ac12d3-219a-46a2-9fe5-ba02d9c07943",
   "metadata": {},
   "source": [
    "#### Combine Positional-Only and Keyword-Only\n",
    "\n",
    "You can combine the two argument types in the same function.\n",
    "\n",
    "Any argument before the / , are positional-only, and any argument after the *, are keyword-only."
   ]
  },
  {
   "cell_type": "code",
   "execution_count": 19,
   "id": "e258ef30-3a18-4d77-a281-c2b2cd56ff3c",
   "metadata": {},
   "outputs": [
    {
     "name": "stdout",
     "output_type": "stream",
     "text": [
      "26\n"
     ]
    }
   ],
   "source": [
    "def my_function(a, b, /, *, c, d):\n",
    "  print(a + b + c + d)\n",
    "\n",
    "my_function(5, 6, c = 7, d = 8) "
   ]
  },
  {
   "cell_type": "markdown",
   "id": "cf2a2a6f-9f89-42af-a436-b8a6416957c7",
   "metadata": {},
   "source": [
    "#### Recursion\n",
    "\n",
    "Python also accepts function recursion, which means a defined function can call itself.\n",
    "\n",
    "Recursion is a common mathematical and programming concept. It means that a function calls itself. This has the benefit of meaning that you can loop through data to reach a result.\n",
    "\n",
    "The developer should be very careful with recursion as it can be quite easy to slip into writing a function which never terminates, or one that uses excess amounts of memory or processor power. However, when written correctly recursion can be a very efficient and mathematically-elegant approach to programming.\n",
    "\n",
    "In this example, tri_recursion() is a function that we have defined to call itself (\"recurse\"). We use the k variable as the data, which decrements (-1) every time we recurse. The recursion ends when the condition is not greater than 0 (i.e. when it is 0).\n",
    "\n",
    "To a new developer it can take some time to work out how exactly this works, best way to find out is by testing and modifying it.\n"
   ]
  },
  {
   "cell_type": "code",
   "execution_count": 20,
   "id": "9c9f4448-ecda-4415-bf0e-5d777f96946f",
   "metadata": {},
   "outputs": [
    {
     "name": "stdout",
     "output_type": "stream",
     "text": [
      "Recursion Example Results:\n",
      "1\n",
      "3\n",
      "6\n",
      "10\n",
      "15\n",
      "21\n"
     ]
    },
    {
     "data": {
      "text/plain": [
       "21"
      ]
     },
     "execution_count": 20,
     "metadata": {},
     "output_type": "execute_result"
    }
   ],
   "source": [
    "def tri_recursion(k):\n",
    "  if(k > 0):\n",
    "    result = k + tri_recursion(k - 1)\n",
    "    print(result)\n",
    "  else:\n",
    "    result = 0\n",
    "  return result\n",
    "\n",
    "print(\"Recursion Example Results:\")\n",
    "tri_recursion(6)"
   ]
  },
  {
   "cell_type": "markdown",
   "id": "db984336-50c2-4f4c-8612-6b53c2ecfa7d",
   "metadata": {},
   "source": [
    "It does the following:\n",
    "\n",
    "    k = 6 → 6 + tri_recursion(5)\n",
    "\n",
    "    k = 5 → 5 + tri_recursion(4)\n",
    "\n",
    "    k = 4 → 4 + tri_recursion(3)\n",
    "\n",
    "    k = 3 → 3 + tri_recursion(2)\n",
    "\n",
    "    k = 2 → 2 + tri_recursion(1)\n",
    "\n",
    "    k = 1 → 1 + tri_recursion(0)\n",
    "\n",
    "    k = 0 → base case → returns 0\n",
    "\n",
    "Now the recursion starts to unwind, calculating and printing:\n",
    "\n",
    "    k=1: 1 + 0 = 1 → print 1\n",
    "\n",
    "    k=2: 2 + 1 = 3 → print 3\n",
    "\n",
    "    k=3: 3 + 3 = 6 → print 6\n",
    "\n",
    "    k=4: 4 + 6 = 10 → print 10\n",
    "\n",
    "    k=5: 5 + 10 = 15 → print 15\n",
    "\n",
    "    k=6: 6 + 15 = 21 → print 21"
   ]
  },
  {
   "cell_type": "code",
   "execution_count": null,
   "id": "759debef-71fa-413a-8e5a-18e1a6c2f163",
   "metadata": {},
   "outputs": [],
   "source": []
  }
 ],
 "metadata": {
  "kernelspec": {
   "display_name": "Python 3 (ipykernel)",
   "language": "python",
   "name": "python3"
  },
  "language_info": {
   "codemirror_mode": {
    "name": "ipython",
    "version": 3
   },
   "file_extension": ".py",
   "mimetype": "text/x-python",
   "name": "python",
   "nbconvert_exporter": "python",
   "pygments_lexer": "ipython3",
   "version": "3.8.10"
  }
 },
 "nbformat": 4,
 "nbformat_minor": 5
}

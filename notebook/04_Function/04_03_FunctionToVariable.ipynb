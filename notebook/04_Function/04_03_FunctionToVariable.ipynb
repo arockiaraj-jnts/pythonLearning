{
 "cells": [
  {
   "cell_type": "markdown",
   "id": "67a9547b-dd0d-48bd-8333-82e29bac9a29",
   "metadata": {},
   "source": [
    "# Assigning a function to a variable"
   ]
  },
  {
   "cell_type": "markdown",
   "id": "42d7b42c-4f6c-4d38-b6cb-41328161c609",
   "metadata": {},
   "source": [
    "Assigning a function to a variable in Python is not required — but it's very useful in situations where you want to treat functions like data. Here's why and when it's helpful:"
   ]
  },
  {
   "cell_type": "markdown",
   "id": "ee5aab6b-61b4-473d-9398-7d18c4596f5a",
   "metadata": {},
   "source": [
    "#### Convenience and Readability\n",
    "\n",
    "Instead of repeating a long function name, you can give it a short alias."
   ]
  },
  {
   "cell_type": "code",
   "execution_count": null,
   "id": "d36f871d-0855-4d2a-bb87-9cfd9d343575",
   "metadata": {},
   "outputs": [],
   "source": [
    "def calculate_area(radius):\n",
    "    return 3.14 * radius * radius\n",
    "\n",
    "area = calculate_area  # assign to shorter variable\n",
    "print(area(5))         # Output: 78.5\n"
   ]
  },
  {
   "cell_type": "code",
   "execution_count": null,
   "id": "459420d0-e0cd-4426-9101-98b050aca450",
   "metadata": {},
   "outputs": [],
   "source": [
    "def calculate_compound_interest(principal, rate, time):\n",
    "    # ... some logic\n",
    "    return result\n",
    "\n",
    "ci = calculate_compound_interest\n",
    "print(ci(1000, 5, 2))\n"
   ]
  },
  {
   "cell_type": "markdown",
   "id": "93d39be7-3387-4bbc-83aa-7aba41971527",
   "metadata": {},
   "source": [
    "#### Storing in Data Structures\n",
    "\n",
    "You can store multiple functions in a list or dictionary and select which one to run at runtime."
   ]
  },
  {
   "cell_type": "code",
   "execution_count": null,
   "id": "e317446c-caf8-40ad-958f-f6cdc953ef44",
   "metadata": {},
   "outputs": [],
   "source": [
    "def greet(): return \"Hello\"\n",
    "def bye(): return \"Goodbye\"\n",
    "\n",
    "actions = {\"hi\": greet, \"bye\": bye}\n",
    "print(actions[\"hi\"]())  # Output: Hello"
   ]
  },
  {
   "cell_type": "markdown",
   "id": "b2a5e182-b043-4e22-ada7-69c83ed89c6c",
   "metadata": {},
   "source": [
    "#### Assigning a function to a variable:\n",
    "\n",
    "    Simplifies your code\n",
    "\n",
    "    Enables more flexible, reusable logic"
   ]
  },
  {
   "cell_type": "code",
   "execution_count": null,
   "id": "43404007-4dfb-4e60-93b9-169989b0bd3f",
   "metadata": {},
   "outputs": [],
   "source": []
  }
 ],
 "metadata": {
  "kernelspec": {
   "display_name": "Python 3 (ipykernel)",
   "language": "python",
   "name": "python3"
  },
  "language_info": {
   "codemirror_mode": {
    "name": "ipython",
    "version": 3
   },
   "file_extension": ".py",
   "mimetype": "text/x-python",
   "name": "python",
   "nbconvert_exporter": "python",
   "pygments_lexer": "ipython3",
   "version": "3.8.10"
  }
 },
 "nbformat": 4,
 "nbformat_minor": 5
}
